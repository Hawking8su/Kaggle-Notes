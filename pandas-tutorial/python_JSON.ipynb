{
 "cells": [
  {
   "cell_type": "markdown",
   "metadata": {},
   "source": [
    "# Python: JSON"
   ]
  },
  {
   "cell_type": "markdown",
   "metadata": {},
   "source": [
    "Reference link: https://www.programiz.com/python-programming/json\r\n",
    "\r\n",
    "A json object is quite similar to a python `dict` object. so you can convert between them seamlessly\r\n",
    "\r\n",
    "| Python                | JSON Equivalent |\r\n",
    "| :-------------------- | :-------------- |\r\n",
    "| `dict`                | object          |\r\n",
    "| `list`, `tuple`       | array           |\r\n",
    "| `str`                 | string          |\r\n",
    "| `int`, `float`, `int` | number          |\r\n",
    "| `True`                | true            |\r\n",
    "| `False`               | false           |\r\n",
    "| `None`                | null            |"
   ]
  },
  {
   "cell_type": "code",
   "execution_count": 2,
   "metadata": {},
   "outputs": [],
   "source": [
    "import json "
   ]
  },
  {
   "cell_type": "code",
   "execution_count": 10,
   "metadata": {},
   "outputs": [
    {
     "name": "stdout",
     "output_type": "stream",
     "text": [
      "<class 'dict'>\n"
     ]
    }
   ],
   "source": [
    "# convert json str to dict: json.loads()\r\n",
    "person = '{\"name\": \"Bob\", \"languages\": [\"English\", \"Fench\"]}'\r\n",
    "person_dict = json.loads(person) # convert JSON str to dict\r\n",
    "print(type(person_dict))\r\n",
    "person_dict['languages'][0] # access dict values"
   ]
  },
  {
   "cell_type": "code",
   "execution_count": 12,
   "metadata": {},
   "outputs": [
    {
     "data": {
      "text/plain": "dict"
     },
     "execution_count": 12,
     "metadata": {},
     "output_type": "execute_result"
    }
   ],
   "source": [
    "# convert dict to json str: json.dumps()\r\n",
    "cat = {\"name\": \"Peanut\", \"colors\": [\"Black\", \"White\"]}\r\n",
    "print(type(cat))\r\n",
    "cat_json = json.dumps(cat)\r\n",
    "print(cat_json)"
   ]
  },
  {
   "cell_type": "code",
   "execution_count": 3,
   "metadata": {},
   "outputs": [
    {
     "name": "stdout",
     "output_type": "stream",
     "text": [
      "{'name': 'Bob', 'languages': ['English', 'Fench']}\n"
     ]
    }
   ],
   "source": [
    "# read from a json file: json.load()\r\n",
    "with open('./data/person.json', 'r') as f:\r\n",
    "    person_dict = json.load(f)\r\n",
    "\r\n",
    "print(person_dict)"
   ]
  },
  {
   "cell_type": "code",
   "execution_count": 5,
   "metadata": {},
   "outputs": [],
   "source": [
    "# save to a json file: json.dump()\r\n",
    "cat = {\"name\": \"Peanut\", \"colors\": [\"Black\", \"White\"]}\r\n",
    "\r\n",
    "with open('./data/cat.json','w') as f:\r\n",
    "    json.dump(cat,f)"
   ]
  },
  {
   "cell_type": "markdown",
   "metadata": {},
   "source": [
    "Summary:\r\n",
    "- convert json str to/from dict: `json.loads()` and `json.dumps()`\r\n",
    "- convert json file to/from dict: `json.load()` and `json.dump()`"
   ]
  }
 ],
 "metadata": {
  "interpreter": {
   "hash": "c2bb4c3659b3800c6f5c337833d4b61a13da9254187e1e335ac6d827c94feba0"
  },
  "kernelspec": {
   "display_name": "Python 3.7.2 64-bit",
   "name": "python3"
  },
  "language_info": {
   "codemirror_mode": {
    "name": "ipython",
    "version": 3
   },
   "file_extension": ".py",
   "mimetype": "text/x-python",
   "name": "python",
   "nbconvert_exporter": "python",
   "pygments_lexer": "ipython3",
   "version": "3.7.2"
  },
  "orig_nbformat": 2
 },
 "nbformat": 4,
 "nbformat_minor": 2
}