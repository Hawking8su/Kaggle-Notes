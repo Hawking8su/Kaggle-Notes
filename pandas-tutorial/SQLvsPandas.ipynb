{
 "cells": [
  {
   "cell_type": "markdown",
   "metadata": {},
   "source": [
    "# SQL vs Python Pandas"
   ]
  },
  {
   "cell_type": "markdown",
   "metadata": {},
   "source": [
    "目的：对于同一种数据查询/操作需求，比较SQL和Python Pandas的操作。\r\n",
    "\r\n",
    "说明：\r\n",
    "- 我的学习路径是先SQL后Python Pandas，所以本文也按照这个顺序。\r\n",
    "- SQL的方言是TSQL(SqlServer)\r\n"
   ]
  },
  {
   "cell_type": "code",
   "execution_count": 1,
   "metadata": {},
   "outputs": [],
   "source": [
    "import pandas as pd"
   ]
  },
  {
   "cell_type": "code",
   "execution_count": 2,
   "metadata": {},
   "outputs": [],
   "source": [
    "wine_reviews = pd.read_csv(\"./data/winemag-data/winemag-data-130k-v2.csv\", index_col=0)"
   ]
  },
  {
   "cell_type": "code",
   "execution_count": 3,
   "metadata": {},
   "outputs": [
    {
     "data": {
      "text/html": "<div>\n<style scoped>\n    .dataframe tbody tr th:only-of-type {\n        vertical-align: middle;\n    }\n\n    .dataframe tbody tr th {\n        vertical-align: top;\n    }\n\n    .dataframe thead th {\n        text-align: right;\n    }\n</style>\n<table border=\"1\" class=\"dataframe\">\n  <thead>\n    <tr style=\"text-align: right;\">\n      <th></th>\n      <th>country</th>\n      <th>description</th>\n      <th>designation</th>\n      <th>points</th>\n      <th>price</th>\n      <th>province</th>\n      <th>region_1</th>\n      <th>region_2</th>\n      <th>taster_name</th>\n      <th>taster_twitter_handle</th>\n      <th>title</th>\n      <th>variety</th>\n      <th>winery</th>\n    </tr>\n  </thead>\n  <tbody>\n    <tr>\n      <th>0</th>\n      <td>Italy</td>\n      <td>Aromas include tropical fruit, broom, brimston...</td>\n      <td>Vulkà Bianco</td>\n      <td>87</td>\n      <td>NaN</td>\n      <td>Sicily &amp; Sardinia</td>\n      <td>Etna</td>\n      <td>NaN</td>\n      <td>Kerin O’Keefe</td>\n      <td>@kerinokeefe</td>\n      <td>Nicosia 2013 Vulkà Bianco  (Etna)</td>\n      <td>White Blend</td>\n      <td>Nicosia</td>\n    </tr>\n    <tr>\n      <th>1</th>\n      <td>Portugal</td>\n      <td>This is ripe and fruity, a wine that is smooth...</td>\n      <td>Avidagos</td>\n      <td>87</td>\n      <td>15.0</td>\n      <td>Douro</td>\n      <td>NaN</td>\n      <td>NaN</td>\n      <td>Roger Voss</td>\n      <td>@vossroger</td>\n      <td>Quinta dos Avidagos 2011 Avidagos Red (Douro)</td>\n      <td>Portuguese Red</td>\n      <td>Quinta dos Avidagos</td>\n    </tr>\n    <tr>\n      <th>2</th>\n      <td>US</td>\n      <td>Tart and snappy, the flavors of lime flesh and...</td>\n      <td>NaN</td>\n      <td>87</td>\n      <td>14.0</td>\n      <td>Oregon</td>\n      <td>Willamette Valley</td>\n      <td>Willamette Valley</td>\n      <td>Paul Gregutt</td>\n      <td>@paulgwine</td>\n      <td>Rainstorm 2013 Pinot Gris (Willamette Valley)</td>\n      <td>Pinot Gris</td>\n      <td>Rainstorm</td>\n    </tr>\n    <tr>\n      <th>3</th>\n      <td>US</td>\n      <td>Pineapple rind, lemon pith and orange blossom ...</td>\n      <td>Reserve Late Harvest</td>\n      <td>87</td>\n      <td>13.0</td>\n      <td>Michigan</td>\n      <td>Lake Michigan Shore</td>\n      <td>NaN</td>\n      <td>Alexander Peartree</td>\n      <td>NaN</td>\n      <td>St. Julian 2013 Reserve Late Harvest Riesling ...</td>\n      <td>Riesling</td>\n      <td>St. Julian</td>\n    </tr>\n    <tr>\n      <th>4</th>\n      <td>US</td>\n      <td>Much like the regular bottling from 2012, this...</td>\n      <td>Vintner's Reserve Wild Child Block</td>\n      <td>87</td>\n      <td>65.0</td>\n      <td>Oregon</td>\n      <td>Willamette Valley</td>\n      <td>Willamette Valley</td>\n      <td>Paul Gregutt</td>\n      <td>@paulgwine</td>\n      <td>Sweet Cheeks 2012 Vintner's Reserve Wild Child...</td>\n      <td>Pinot Noir</td>\n      <td>Sweet Cheeks</td>\n    </tr>\n  </tbody>\n</table>\n</div>",
      "text/plain": "    country                                        description  \\\n0     Italy  Aromas include tropical fruit, broom, brimston...   \n1  Portugal  This is ripe and fruity, a wine that is smooth...   \n2        US  Tart and snappy, the flavors of lime flesh and...   \n3        US  Pineapple rind, lemon pith and orange blossom ...   \n4        US  Much like the regular bottling from 2012, this...   \n\n                          designation  points  price           province  \\\n0                        Vulkà Bianco      87    NaN  Sicily & Sardinia   \n1                            Avidagos      87   15.0              Douro   \n2                                 NaN      87   14.0             Oregon   \n3                Reserve Late Harvest      87   13.0           Michigan   \n4  Vintner's Reserve Wild Child Block      87   65.0             Oregon   \n\n              region_1           region_2         taster_name  \\\n0                 Etna                NaN       Kerin O’Keefe   \n1                  NaN                NaN          Roger Voss   \n2    Willamette Valley  Willamette Valley        Paul Gregutt   \n3  Lake Michigan Shore                NaN  Alexander Peartree   \n4    Willamette Valley  Willamette Valley        Paul Gregutt   \n\n  taster_twitter_handle                                              title  \\\n0          @kerinokeefe                  Nicosia 2013 Vulkà Bianco  (Etna)   \n1            @vossroger      Quinta dos Avidagos 2011 Avidagos Red (Douro)   \n2           @paulgwine       Rainstorm 2013 Pinot Gris (Willamette Valley)   \n3                   NaN  St. Julian 2013 Reserve Late Harvest Riesling ...   \n4           @paulgwine   Sweet Cheeks 2012 Vintner's Reserve Wild Child...   \n\n          variety               winery  \n0     White Blend              Nicosia  \n1  Portuguese Red  Quinta dos Avidagos  \n2      Pinot Gris            Rainstorm  \n3        Riesling           St. Julian  \n4      Pinot Noir         Sweet Cheeks  "
     },
     "execution_count": 3,
     "metadata": {},
     "output_type": "execute_result"
    }
   ],
   "source": [
    "wine_reviews.head()"
   ]
  },
  {
   "cell_type": "markdown",
   "metadata": {},
   "source": [
    "## DDL\r\n",
    "- ADD COLUMN\r\n",
    "- DROP COLUMN\r\n",
    "- ADD INDEX\r\n",
    "- DROP INDEX"
   ]
  },
  {
   "cell_type": "code",
   "execution_count": 4,
   "metadata": {},
   "outputs": [
    {
     "data": {
      "text/html": "<div>\n<style scoped>\n    .dataframe tbody tr th:only-of-type {\n        vertical-align: middle;\n    }\n\n    .dataframe tbody tr th {\n        vertical-align: top;\n    }\n\n    .dataframe thead th {\n        text-align: right;\n    }\n</style>\n<table border=\"1\" class=\"dataframe\">\n  <thead>\n    <tr style=\"text-align: right;\">\n      <th></th>\n      <th>country</th>\n      <th>description</th>\n      <th>designation</th>\n      <th>points</th>\n      <th>price</th>\n      <th>province</th>\n      <th>region_1</th>\n      <th>region_2</th>\n      <th>taster_name</th>\n      <th>taster_twitter_handle</th>\n      <th>title</th>\n      <th>variety</th>\n      <th>winery</th>\n      <th>price_point_ratio</th>\n    </tr>\n  </thead>\n  <tbody>\n    <tr>\n      <th>0</th>\n      <td>Italy</td>\n      <td>Aromas include tropical fruit, broom, brimston...</td>\n      <td>Vulkà Bianco</td>\n      <td>87</td>\n      <td>NaN</td>\n      <td>Sicily &amp; Sardinia</td>\n      <td>Etna</td>\n      <td>NaN</td>\n      <td>Kerin O’Keefe</td>\n      <td>@kerinokeefe</td>\n      <td>Nicosia 2013 Vulkà Bianco  (Etna)</td>\n      <td>White Blend</td>\n      <td>Nicosia</td>\n      <td>NaN</td>\n    </tr>\n    <tr>\n      <th>1</th>\n      <td>Portugal</td>\n      <td>This is ripe and fruity, a wine that is smooth...</td>\n      <td>Avidagos</td>\n      <td>87</td>\n      <td>15.0</td>\n      <td>Douro</td>\n      <td>NaN</td>\n      <td>NaN</td>\n      <td>Roger Voss</td>\n      <td>@vossroger</td>\n      <td>Quinta dos Avidagos 2011 Avidagos Red (Douro)</td>\n      <td>Portuguese Red</td>\n      <td>Quinta dos Avidagos</td>\n      <td>0.172414</td>\n    </tr>\n    <tr>\n      <th>2</th>\n      <td>US</td>\n      <td>Tart and snappy, the flavors of lime flesh and...</td>\n      <td>NaN</td>\n      <td>87</td>\n      <td>14.0</td>\n      <td>Oregon</td>\n      <td>Willamette Valley</td>\n      <td>Willamette Valley</td>\n      <td>Paul Gregutt</td>\n      <td>@paulgwine</td>\n      <td>Rainstorm 2013 Pinot Gris (Willamette Valley)</td>\n      <td>Pinot Gris</td>\n      <td>Rainstorm</td>\n      <td>0.160920</td>\n    </tr>\n    <tr>\n      <th>3</th>\n      <td>US</td>\n      <td>Pineapple rind, lemon pith and orange blossom ...</td>\n      <td>Reserve Late Harvest</td>\n      <td>87</td>\n      <td>13.0</td>\n      <td>Michigan</td>\n      <td>Lake Michigan Shore</td>\n      <td>NaN</td>\n      <td>Alexander Peartree</td>\n      <td>NaN</td>\n      <td>St. Julian 2013 Reserve Late Harvest Riesling ...</td>\n      <td>Riesling</td>\n      <td>St. Julian</td>\n      <td>0.149425</td>\n    </tr>\n    <tr>\n      <th>4</th>\n      <td>US</td>\n      <td>Much like the regular bottling from 2012, this...</td>\n      <td>Vintner's Reserve Wild Child Block</td>\n      <td>87</td>\n      <td>65.0</td>\n      <td>Oregon</td>\n      <td>Willamette Valley</td>\n      <td>Willamette Valley</td>\n      <td>Paul Gregutt</td>\n      <td>@paulgwine</td>\n      <td>Sweet Cheeks 2012 Vintner's Reserve Wild Child...</td>\n      <td>Pinot Noir</td>\n      <td>Sweet Cheeks</td>\n      <td>0.747126</td>\n    </tr>\n  </tbody>\n</table>\n</div>",
      "text/plain": "    country                                        description  \\\n0     Italy  Aromas include tropical fruit, broom, brimston...   \n1  Portugal  This is ripe and fruity, a wine that is smooth...   \n2        US  Tart and snappy, the flavors of lime flesh and...   \n3        US  Pineapple rind, lemon pith and orange blossom ...   \n4        US  Much like the regular bottling from 2012, this...   \n\n                          designation  points  price           province  \\\n0                        Vulkà Bianco      87    NaN  Sicily & Sardinia   \n1                            Avidagos      87   15.0              Douro   \n2                                 NaN      87   14.0             Oregon   \n3                Reserve Late Harvest      87   13.0           Michigan   \n4  Vintner's Reserve Wild Child Block      87   65.0             Oregon   \n\n              region_1           region_2         taster_name  \\\n0                 Etna                NaN       Kerin O’Keefe   \n1                  NaN                NaN          Roger Voss   \n2    Willamette Valley  Willamette Valley        Paul Gregutt   \n3  Lake Michigan Shore                NaN  Alexander Peartree   \n4    Willamette Valley  Willamette Valley        Paul Gregutt   \n\n  taster_twitter_handle                                              title  \\\n0          @kerinokeefe                  Nicosia 2013 Vulkà Bianco  (Etna)   \n1            @vossroger      Quinta dos Avidagos 2011 Avidagos Red (Douro)   \n2           @paulgwine       Rainstorm 2013 Pinot Gris (Willamette Valley)   \n3                   NaN  St. Julian 2013 Reserve Late Harvest Riesling ...   \n4           @paulgwine   Sweet Cheeks 2012 Vintner's Reserve Wild Child...   \n\n          variety               winery  price_point_ratio  \n0     White Blend              Nicosia                NaN  \n1  Portuguese Red  Quinta dos Avidagos           0.172414  \n2      Pinot Gris            Rainstorm           0.160920  \n3        Riesling           St. Julian           0.149425  \n4      Pinot Noir         Sweet Cheeks           0.747126  "
     },
     "execution_count": 4,
     "metadata": {},
     "output_type": "execute_result"
    }
   ],
   "source": [
    "# --  ADD NEW COLUMN \r\n",
    "# ALTER TABLE WINE_REVIEWS_NEW ADD price_point_ratio DECIMAL(17,4) NULL\r\n",
    "# UPDATE WINE_REVIEWS_NEW SET price_point_ratio = price/(case when points=0 then 1 else points end) \r\n",
    "\r\n",
    "wine_reviews['price_point_ratio'] = wine_reviews['price']/wine_reviews['points']\r\n",
    "wine_reviews.head()"
   ]
  },
  {
   "cell_type": "code",
   "execution_count": 5,
   "metadata": {},
   "outputs": [],
   "source": [
    "# --  DROP COLUMN \r\n",
    "# ALTER TABLE WINE_REVIEWS_NEW DROP COLUMN price_point_ratio\r\n",
    "\r\n",
    "wine_reviews = wine_reviews.drop(['price_point_ratio'], axis = 1) # drop column based on column name\r\n",
    "# wine_reviews = wine_reviews.drop(wine_reviews.columns[13], axis = 1) # drop column based on column name"
   ]
  },
  {
   "cell_type": "code",
   "execution_count": 6,
   "metadata": {},
   "outputs": [
    {
     "data": {
      "text/html": "<div>\n<style scoped>\n    .dataframe tbody tr th:only-of-type {\n        vertical-align: middle;\n    }\n\n    .dataframe tbody tr th {\n        vertical-align: top;\n    }\n\n    .dataframe thead th {\n        text-align: right;\n    }\n</style>\n<table border=\"1\" class=\"dataframe\">\n  <thead>\n    <tr style=\"text-align: right;\">\n      <th></th>\n      <th>country</th>\n      <th>description</th>\n      <th>designation</th>\n      <th>points</th>\n      <th>price</th>\n      <th>region_1</th>\n      <th>region_2</th>\n      <th>taster_name</th>\n      <th>taster_twitter_handle</th>\n      <th>title</th>\n      <th>variety</th>\n      <th>winery</th>\n    </tr>\n    <tr>\n      <th>province</th>\n      <th></th>\n      <th></th>\n      <th></th>\n      <th></th>\n      <th></th>\n      <th></th>\n      <th></th>\n      <th></th>\n      <th></th>\n      <th></th>\n      <th></th>\n      <th></th>\n    </tr>\n  </thead>\n  <tbody>\n    <tr>\n      <th>Sicily &amp; Sardinia</th>\n      <td>Italy</td>\n      <td>Aromas include tropical fruit, broom, brimston...</td>\n      <td>Vulkà Bianco</td>\n      <td>87</td>\n      <td>NaN</td>\n      <td>Etna</td>\n      <td>NaN</td>\n      <td>Kerin O’Keefe</td>\n      <td>@kerinokeefe</td>\n      <td>Nicosia 2013 Vulkà Bianco  (Etna)</td>\n      <td>White Blend</td>\n      <td>Nicosia</td>\n    </tr>\n    <tr>\n      <th>Douro</th>\n      <td>Portugal</td>\n      <td>This is ripe and fruity, a wine that is smooth...</td>\n      <td>Avidagos</td>\n      <td>87</td>\n      <td>15.0</td>\n      <td>NaN</td>\n      <td>NaN</td>\n      <td>Roger Voss</td>\n      <td>@vossroger</td>\n      <td>Quinta dos Avidagos 2011 Avidagos Red (Douro)</td>\n      <td>Portuguese Red</td>\n      <td>Quinta dos Avidagos</td>\n    </tr>\n    <tr>\n      <th>Oregon</th>\n      <td>US</td>\n      <td>Tart and snappy, the flavors of lime flesh and...</td>\n      <td>NaN</td>\n      <td>87</td>\n      <td>14.0</td>\n      <td>Willamette Valley</td>\n      <td>Willamette Valley</td>\n      <td>Paul Gregutt</td>\n      <td>@paulgwine</td>\n      <td>Rainstorm 2013 Pinot Gris (Willamette Valley)</td>\n      <td>Pinot Gris</td>\n      <td>Rainstorm</td>\n    </tr>\n    <tr>\n      <th>Michigan</th>\n      <td>US</td>\n      <td>Pineapple rind, lemon pith and orange blossom ...</td>\n      <td>Reserve Late Harvest</td>\n      <td>87</td>\n      <td>13.0</td>\n      <td>Lake Michigan Shore</td>\n      <td>NaN</td>\n      <td>Alexander Peartree</td>\n      <td>NaN</td>\n      <td>St. Julian 2013 Reserve Late Harvest Riesling ...</td>\n      <td>Riesling</td>\n      <td>St. Julian</td>\n    </tr>\n    <tr>\n      <th>Oregon</th>\n      <td>US</td>\n      <td>Much like the regular bottling from 2012, this...</td>\n      <td>Vintner's Reserve Wild Child Block</td>\n      <td>87</td>\n      <td>65.0</td>\n      <td>Willamette Valley</td>\n      <td>Willamette Valley</td>\n      <td>Paul Gregutt</td>\n      <td>@paulgwine</td>\n      <td>Sweet Cheeks 2012 Vintner's Reserve Wild Child...</td>\n      <td>Pinot Noir</td>\n      <td>Sweet Cheeks</td>\n    </tr>\n  </tbody>\n</table>\n</div>",
      "text/plain": "                    country  \\\nprovince                      \nSicily & Sardinia     Italy   \nDouro              Portugal   \nOregon                   US   \nMichigan                 US   \nOregon                   US   \n\n                                                         description  \\\nprovince                                                               \nSicily & Sardinia  Aromas include tropical fruit, broom, brimston...   \nDouro              This is ripe and fruity, a wine that is smooth...   \nOregon             Tart and snappy, the flavors of lime flesh and...   \nMichigan           Pineapple rind, lemon pith and orange blossom ...   \nOregon             Much like the regular bottling from 2012, this...   \n\n                                          designation  points  price  \\\nprovince                                                               \nSicily & Sardinia                        Vulkà Bianco      87    NaN   \nDouro                                        Avidagos      87   15.0   \nOregon                                            NaN      87   14.0   \nMichigan                         Reserve Late Harvest      87   13.0   \nOregon             Vintner's Reserve Wild Child Block      87   65.0   \n\n                              region_1           region_2         taster_name  \\\nprovince                                                                        \nSicily & Sardinia                 Etna                NaN       Kerin O’Keefe   \nDouro                              NaN                NaN          Roger Voss   \nOregon               Willamette Valley  Willamette Valley        Paul Gregutt   \nMichigan           Lake Michigan Shore                NaN  Alexander Peartree   \nOregon               Willamette Valley  Willamette Valley        Paul Gregutt   \n\n                  taster_twitter_handle  \\\nprovince                                  \nSicily & Sardinia          @kerinokeefe   \nDouro                        @vossroger   \nOregon                      @paulgwine    \nMichigan                            NaN   \nOregon                      @paulgwine    \n\n                                                               title  \\\nprovince                                                               \nSicily & Sardinia                  Nicosia 2013 Vulkà Bianco  (Etna)   \nDouro                  Quinta dos Avidagos 2011 Avidagos Red (Douro)   \nOregon                 Rainstorm 2013 Pinot Gris (Willamette Valley)   \nMichigan           St. Julian 2013 Reserve Late Harvest Riesling ...   \nOregon             Sweet Cheeks 2012 Vintner's Reserve Wild Child...   \n\n                          variety               winery  \nprovince                                                \nSicily & Sardinia     White Blend              Nicosia  \nDouro              Portuguese Red  Quinta dos Avidagos  \nOregon                 Pinot Gris            Rainstorm  \nMichigan                 Riesling           St. Julian  \nOregon                 Pinot Noir         Sweet Cheeks  "
     },
     "execution_count": 6,
     "metadata": {},
     "output_type": "execute_result"
    }
   ],
   "source": [
    "# -- ADD INDEX\r\n",
    "# CREATE NONCLUSTERED INDEX IDX_WINE_REVIEWS_NEW_PROVINCE ON WINE_REVIEWS_NEW\r\n",
    "# (\r\n",
    "# \tprovince \r\n",
    "# )\r\n",
    "wine_test = wine_reviews.set_index(['province']) # set province column as index\r\n",
    "wine_test.head()\r\n",
    "## note: the original index column will be overwritten, so copy the original index to another column before-hand if neccessary. see above\r\n",
    "# wine_test['province'] =wine_test.index "
   ]
  },
  {
   "cell_type": "code",
   "execution_count": 7,
   "metadata": {},
   "outputs": [],
   "source": [
    "# -- DROP INDEX\r\n",
    "# DROP INDEX IDX_WINE_REVIEWS_NEW_PROVINCE ON WINE_REVIEWS_NEW\r\n",
    "\r\n",
    "# there no method for dropping index, you simply set index to another column \r\n",
    "wine_test = wine_test.set_index(['country']) "
   ]
  },
  {
   "cell_type": "markdown",
   "metadata": {},
   "source": [
    "## DML\r\n",
    "- SELECT VALUES\r\n",
    "- SELECT ... WHERE AND , OR , IS NULL, IS NOT NULL, IN, \r\n",
    "- ORDER BY \r\n",
    "- COLUMN OPERATION\r\n",
    "- DISTINCT VALUES\r\n",
    "- GROUP BY \r\n",
    "- JOIN \r\n",
    "  - INNER JOIN \r\n",
    "  - LEFT JOIN \r\n",
    "  - FULL JOIN "
   ]
  },
  {
   "cell_type": "code",
   "execution_count": 8,
   "metadata": {},
   "outputs": [
    {
     "data": {
      "text/html": "<div>\n<style scoped>\n    .dataframe tbody tr th:only-of-type {\n        vertical-align: middle;\n    }\n\n    .dataframe tbody tr th {\n        vertical-align: top;\n    }\n\n    .dataframe thead th {\n        text-align: right;\n    }\n</style>\n<table border=\"1\" class=\"dataframe\">\n  <thead>\n    <tr style=\"text-align: right;\">\n      <th></th>\n      <th>country</th>\n      <th>description</th>\n      <th>designation</th>\n      <th>points</th>\n      <th>price</th>\n      <th>province</th>\n      <th>region_1</th>\n      <th>region_2</th>\n      <th>taster_name</th>\n      <th>taster_twitter_handle</th>\n      <th>title</th>\n      <th>variety</th>\n      <th>winery</th>\n    </tr>\n  </thead>\n  <tbody>\n    <tr>\n      <th>0</th>\n      <td>Italy</td>\n      <td>Aromas include tropical fruit, broom, brimston...</td>\n      <td>Vulkà Bianco</td>\n      <td>87</td>\n      <td>NaN</td>\n      <td>Sicily &amp; Sardinia</td>\n      <td>Etna</td>\n      <td>NaN</td>\n      <td>Kerin O’Keefe</td>\n      <td>@kerinokeefe</td>\n      <td>Nicosia 2013 Vulkà Bianco  (Etna)</td>\n      <td>White Blend</td>\n      <td>Nicosia</td>\n    </tr>\n    <tr>\n      <th>1</th>\n      <td>Portugal</td>\n      <td>This is ripe and fruity, a wine that is smooth...</td>\n      <td>Avidagos</td>\n      <td>87</td>\n      <td>15.0</td>\n      <td>Douro</td>\n      <td>NaN</td>\n      <td>NaN</td>\n      <td>Roger Voss</td>\n      <td>@vossroger</td>\n      <td>Quinta dos Avidagos 2011 Avidagos Red (Douro)</td>\n      <td>Portuguese Red</td>\n      <td>Quinta dos Avidagos</td>\n    </tr>\n    <tr>\n      <th>2</th>\n      <td>US</td>\n      <td>Tart and snappy, the flavors of lime flesh and...</td>\n      <td>NaN</td>\n      <td>87</td>\n      <td>14.0</td>\n      <td>Oregon</td>\n      <td>Willamette Valley</td>\n      <td>Willamette Valley</td>\n      <td>Paul Gregutt</td>\n      <td>@paulgwine</td>\n      <td>Rainstorm 2013 Pinot Gris (Willamette Valley)</td>\n      <td>Pinot Gris</td>\n      <td>Rainstorm</td>\n    </tr>\n    <tr>\n      <th>3</th>\n      <td>US</td>\n      <td>Pineapple rind, lemon pith and orange blossom ...</td>\n      <td>Reserve Late Harvest</td>\n      <td>87</td>\n      <td>13.0</td>\n      <td>Michigan</td>\n      <td>Lake Michigan Shore</td>\n      <td>NaN</td>\n      <td>Alexander Peartree</td>\n      <td>NaN</td>\n      <td>St. Julian 2013 Reserve Late Harvest Riesling ...</td>\n      <td>Riesling</td>\n      <td>St. Julian</td>\n    </tr>\n    <tr>\n      <th>4</th>\n      <td>US</td>\n      <td>Much like the regular bottling from 2012, this...</td>\n      <td>Vintner's Reserve Wild Child Block</td>\n      <td>87</td>\n      <td>65.0</td>\n      <td>Oregon</td>\n      <td>Willamette Valley</td>\n      <td>Willamette Valley</td>\n      <td>Paul Gregutt</td>\n      <td>@paulgwine</td>\n      <td>Sweet Cheeks 2012 Vintner's Reserve Wild Child...</td>\n      <td>Pinot Noir</td>\n      <td>Sweet Cheeks</td>\n    </tr>\n  </tbody>\n</table>\n</div>",
      "text/plain": "    country                                        description  \\\n0     Italy  Aromas include tropical fruit, broom, brimston...   \n1  Portugal  This is ripe and fruity, a wine that is smooth...   \n2        US  Tart and snappy, the flavors of lime flesh and...   \n3        US  Pineapple rind, lemon pith and orange blossom ...   \n4        US  Much like the regular bottling from 2012, this...   \n\n                          designation  points  price           province  \\\n0                        Vulkà Bianco      87    NaN  Sicily & Sardinia   \n1                            Avidagos      87   15.0              Douro   \n2                                 NaN      87   14.0             Oregon   \n3                Reserve Late Harvest      87   13.0           Michigan   \n4  Vintner's Reserve Wild Child Block      87   65.0             Oregon   \n\n              region_1           region_2         taster_name  \\\n0                 Etna                NaN       Kerin O’Keefe   \n1                  NaN                NaN          Roger Voss   \n2    Willamette Valley  Willamette Valley        Paul Gregutt   \n3  Lake Michigan Shore                NaN  Alexander Peartree   \n4    Willamette Valley  Willamette Valley        Paul Gregutt   \n\n  taster_twitter_handle                                              title  \\\n0          @kerinokeefe                  Nicosia 2013 Vulkà Bianco  (Etna)   \n1            @vossroger      Quinta dos Avidagos 2011 Avidagos Red (Douro)   \n2           @paulgwine       Rainstorm 2013 Pinot Gris (Willamette Valley)   \n3                   NaN  St. Julian 2013 Reserve Late Harvest Riesling ...   \n4           @paulgwine   Sweet Cheeks 2012 Vintner's Reserve Wild Child...   \n\n          variety               winery  \n0     White Blend              Nicosia  \n1  Portuguese Red  Quinta dos Avidagos  \n2      Pinot Gris            Rainstorm  \n3        Riesling           St. Julian  \n4      Pinot Noir         Sweet Cheeks  "
     },
     "execution_count": 8,
     "metadata": {},
     "output_type": "execute_result"
    }
   ],
   "source": [
    "# SELECT TOP 10 * FROM WINE_REVIEWS_NEW\r\n",
    "wine_reviews.head()"
   ]
  },
  {
   "cell_type": "code",
   "execution_count": 9,
   "metadata": {},
   "outputs": [
    {
     "data": {
      "text/html": "<div>\n<style scoped>\n    .dataframe tbody tr th:only-of-type {\n        vertical-align: middle;\n    }\n\n    .dataframe tbody tr th {\n        vertical-align: top;\n    }\n\n    .dataframe thead th {\n        text-align: right;\n    }\n</style>\n<table border=\"1\" class=\"dataframe\">\n  <thead>\n    <tr style=\"text-align: right;\">\n      <th></th>\n      <th>country</th>\n      <th>description</th>\n      <th>designation</th>\n      <th>points</th>\n      <th>price</th>\n      <th>province</th>\n      <th>region_1</th>\n      <th>region_2</th>\n      <th>taster_name</th>\n      <th>taster_twitter_handle</th>\n      <th>title</th>\n      <th>variety</th>\n      <th>winery</th>\n    </tr>\n  </thead>\n  <tbody>\n    <tr>\n      <th>0</th>\n      <td>Italy</td>\n      <td>Aromas include tropical fruit, broom, brimston...</td>\n      <td>Vulkà Bianco</td>\n      <td>87</td>\n      <td>NaN</td>\n      <td>Sicily &amp; Sardinia</td>\n      <td>Etna</td>\n      <td>NaN</td>\n      <td>Kerin O’Keefe</td>\n      <td>@kerinokeefe</td>\n      <td>Nicosia 2013 Vulkà Bianco  (Etna)</td>\n      <td>White Blend</td>\n      <td>Nicosia</td>\n    </tr>\n    <tr>\n      <th>1</th>\n      <td>Portugal</td>\n      <td>This is ripe and fruity, a wine that is smooth...</td>\n      <td>Avidagos</td>\n      <td>87</td>\n      <td>15.0</td>\n      <td>Douro</td>\n      <td>NaN</td>\n      <td>NaN</td>\n      <td>Roger Voss</td>\n      <td>@vossroger</td>\n      <td>Quinta dos Avidagos 2011 Avidagos Red (Douro)</td>\n      <td>Portuguese Red</td>\n      <td>Quinta dos Avidagos</td>\n    </tr>\n    <tr>\n      <th>2</th>\n      <td>US</td>\n      <td>Tart and snappy, the flavors of lime flesh and...</td>\n      <td>NaN</td>\n      <td>87</td>\n      <td>14.0</td>\n      <td>Oregon</td>\n      <td>Willamette Valley</td>\n      <td>Willamette Valley</td>\n      <td>Paul Gregutt</td>\n      <td>@paulgwine</td>\n      <td>Rainstorm 2013 Pinot Gris (Willamette Valley)</td>\n      <td>Pinot Gris</td>\n      <td>Rainstorm</td>\n    </tr>\n    <tr>\n      <th>3</th>\n      <td>US</td>\n      <td>Pineapple rind, lemon pith and orange blossom ...</td>\n      <td>Reserve Late Harvest</td>\n      <td>87</td>\n      <td>13.0</td>\n      <td>Michigan</td>\n      <td>Lake Michigan Shore</td>\n      <td>NaN</td>\n      <td>Alexander Peartree</td>\n      <td>NaN</td>\n      <td>St. Julian 2013 Reserve Late Harvest Riesling ...</td>\n      <td>Riesling</td>\n      <td>St. Julian</td>\n    </tr>\n    <tr>\n      <th>4</th>\n      <td>US</td>\n      <td>Much like the regular bottling from 2012, this...</td>\n      <td>Vintner's Reserve Wild Child Block</td>\n      <td>87</td>\n      <td>65.0</td>\n      <td>Oregon</td>\n      <td>Willamette Valley</td>\n      <td>Willamette Valley</td>\n      <td>Paul Gregutt</td>\n      <td>@paulgwine</td>\n      <td>Sweet Cheeks 2012 Vintner's Reserve Wild Child...</td>\n      <td>Pinot Noir</td>\n      <td>Sweet Cheeks</td>\n    </tr>\n    <tr>\n      <th>...</th>\n      <td>...</td>\n      <td>...</td>\n      <td>...</td>\n      <td>...</td>\n      <td>...</td>\n      <td>...</td>\n      <td>...</td>\n      <td>...</td>\n      <td>...</td>\n      <td>...</td>\n      <td>...</td>\n      <td>...</td>\n      <td>...</td>\n    </tr>\n    <tr>\n      <th>129966</th>\n      <td>Germany</td>\n      <td>Notes of honeysuckle and cantaloupe sweeten th...</td>\n      <td>Brauneberger Juffer-Sonnenuhr Spätlese</td>\n      <td>90</td>\n      <td>28.0</td>\n      <td>Mosel</td>\n      <td>NaN</td>\n      <td>NaN</td>\n      <td>Anna Lee C. Iijima</td>\n      <td>NaN</td>\n      <td>Dr. H. Thanisch (Erben Müller-Burggraef) 2013 ...</td>\n      <td>Riesling</td>\n      <td>Dr. H. Thanisch (Erben Müller-Burggraef)</td>\n    </tr>\n    <tr>\n      <th>129967</th>\n      <td>US</td>\n      <td>Citation is given as much as a decade of bottl...</td>\n      <td>NaN</td>\n      <td>90</td>\n      <td>75.0</td>\n      <td>Oregon</td>\n      <td>Oregon</td>\n      <td>Oregon Other</td>\n      <td>Paul Gregutt</td>\n      <td>@paulgwine</td>\n      <td>Citation 2004 Pinot Noir (Oregon)</td>\n      <td>Pinot Noir</td>\n      <td>Citation</td>\n    </tr>\n    <tr>\n      <th>129968</th>\n      <td>France</td>\n      <td>Well-drained gravel soil gives this wine its c...</td>\n      <td>Kritt</td>\n      <td>90</td>\n      <td>30.0</td>\n      <td>Alsace</td>\n      <td>Alsace</td>\n      <td>NaN</td>\n      <td>Roger Voss</td>\n      <td>@vossroger</td>\n      <td>Domaine Gresser 2013 Kritt Gewurztraminer (Als...</td>\n      <td>Gewürztraminer</td>\n      <td>Domaine Gresser</td>\n    </tr>\n    <tr>\n      <th>129969</th>\n      <td>France</td>\n      <td>A dry style of Pinot Gris, this is crisp with ...</td>\n      <td>NaN</td>\n      <td>90</td>\n      <td>32.0</td>\n      <td>Alsace</td>\n      <td>Alsace</td>\n      <td>NaN</td>\n      <td>Roger Voss</td>\n      <td>@vossroger</td>\n      <td>Domaine Marcel Deiss 2012 Pinot Gris (Alsace)</td>\n      <td>Pinot Gris</td>\n      <td>Domaine Marcel Deiss</td>\n    </tr>\n    <tr>\n      <th>129970</th>\n      <td>France</td>\n      <td>Big, rich and off-dry, this is powered by inte...</td>\n      <td>Lieu-dit Harth Cuvée Caroline</td>\n      <td>90</td>\n      <td>21.0</td>\n      <td>Alsace</td>\n      <td>Alsace</td>\n      <td>NaN</td>\n      <td>Roger Voss</td>\n      <td>@vossroger</td>\n      <td>Domaine Schoffit 2012 Lieu-dit Harth Cuvée Car...</td>\n      <td>Gewürztraminer</td>\n      <td>Domaine Schoffit</td>\n    </tr>\n  </tbody>\n</table>\n<p>129908 rows × 13 columns</p>\n</div>",
      "text/plain": "         country                                        description  \\\n0          Italy  Aromas include tropical fruit, broom, brimston...   \n1       Portugal  This is ripe and fruity, a wine that is smooth...   \n2             US  Tart and snappy, the flavors of lime flesh and...   \n3             US  Pineapple rind, lemon pith and orange blossom ...   \n4             US  Much like the regular bottling from 2012, this...   \n...          ...                                                ...   \n129966   Germany  Notes of honeysuckle and cantaloupe sweeten th...   \n129967        US  Citation is given as much as a decade of bottl...   \n129968    France  Well-drained gravel soil gives this wine its c...   \n129969    France  A dry style of Pinot Gris, this is crisp with ...   \n129970    France  Big, rich and off-dry, this is powered by inte...   \n\n                                   designation  points  price  \\\n0                                 Vulkà Bianco      87    NaN   \n1                                     Avidagos      87   15.0   \n2                                          NaN      87   14.0   \n3                         Reserve Late Harvest      87   13.0   \n4           Vintner's Reserve Wild Child Block      87   65.0   \n...                                        ...     ...    ...   \n129966  Brauneberger Juffer-Sonnenuhr Spätlese      90   28.0   \n129967                                     NaN      90   75.0   \n129968                                   Kritt      90   30.0   \n129969                                     NaN      90   32.0   \n129970           Lieu-dit Harth Cuvée Caroline      90   21.0   \n\n                 province             region_1           region_2  \\\n0       Sicily & Sardinia                 Etna                NaN   \n1                   Douro                  NaN                NaN   \n2                  Oregon    Willamette Valley  Willamette Valley   \n3                Michigan  Lake Michigan Shore                NaN   \n4                  Oregon    Willamette Valley  Willamette Valley   \n...                   ...                  ...                ...   \n129966              Mosel                  NaN                NaN   \n129967             Oregon               Oregon       Oregon Other   \n129968             Alsace               Alsace                NaN   \n129969             Alsace               Alsace                NaN   \n129970             Alsace               Alsace                NaN   \n\n               taster_name taster_twitter_handle  \\\n0            Kerin O’Keefe          @kerinokeefe   \n1               Roger Voss            @vossroger   \n2             Paul Gregutt           @paulgwine    \n3       Alexander Peartree                   NaN   \n4             Paul Gregutt           @paulgwine    \n...                    ...                   ...   \n129966  Anna Lee C. Iijima                   NaN   \n129967        Paul Gregutt           @paulgwine    \n129968          Roger Voss            @vossroger   \n129969          Roger Voss            @vossroger   \n129970          Roger Voss            @vossroger   \n\n                                                    title         variety  \\\n0                       Nicosia 2013 Vulkà Bianco  (Etna)     White Blend   \n1           Quinta dos Avidagos 2011 Avidagos Red (Douro)  Portuguese Red   \n2           Rainstorm 2013 Pinot Gris (Willamette Valley)      Pinot Gris   \n3       St. Julian 2013 Reserve Late Harvest Riesling ...        Riesling   \n4       Sweet Cheeks 2012 Vintner's Reserve Wild Child...      Pinot Noir   \n...                                                   ...             ...   \n129966  Dr. H. Thanisch (Erben Müller-Burggraef) 2013 ...        Riesling   \n129967                  Citation 2004 Pinot Noir (Oregon)      Pinot Noir   \n129968  Domaine Gresser 2013 Kritt Gewurztraminer (Als...  Gewürztraminer   \n129969      Domaine Marcel Deiss 2012 Pinot Gris (Alsace)      Pinot Gris   \n129970  Domaine Schoffit 2012 Lieu-dit Harth Cuvée Car...  Gewürztraminer   \n\n                                          winery  \n0                                        Nicosia  \n1                            Quinta dos Avidagos  \n2                                      Rainstorm  \n3                                     St. Julian  \n4                                   Sweet Cheeks  \n...                                          ...  \n129966  Dr. H. Thanisch (Erben Müller-Burggraef)  \n129967                                  Citation  \n129968                           Domaine Gresser  \n129969                      Domaine Marcel Deiss  \n129970                          Domaine Schoffit  \n\n[129908 rows x 13 columns]"
     },
     "execution_count": 9,
     "metadata": {},
     "output_type": "execute_result"
    }
   ],
   "source": [
    "# SELECT...WHERE \r\n",
    "wine_reviews.loc[wine_reviews['country'] == 'US']  # or wine_reviews[wine_reviews['country']=='US']\r\n",
    "# WHERE AND\r\n",
    "wine_reviews.loc[(wine_reviews['country'] == 'US') & (wine_reviews['points']>=90)] \r\n",
    "# WHERE OR\r\n",
    "wine_reviews.loc[(wine_reviews['country'] == 'US') | (wine_reviews['points']>=90)] \r\n",
    "# WHERE IN\r\n",
    "wine_reviews.loc[wine_reviews['country'].isin(['US','Italy'])] \r\n",
    "# WHERE NOT IN \r\n",
    "wine_reviews.loc[~(wine_reviews['country'].isin(['US','Italy']))] \r\n",
    "# WHERE IS NULL\r\n",
    "wine_reviews.loc[(wine_reviews['country'].isnull())]  # or isna()\r\n",
    "# WHERE IS NOT NULL\r\n",
    "wine_reviews.loc[(wine_reviews['country'].notnull())]  # or notna()\r\n"
   ]
  },
  {
   "cell_type": "markdown",
   "metadata": {},
   "source": [
    "Note: **the use of DataFrame.loc[] method**\r\n",
    "\r\n",
    "Allowed inputs are:\r\n",
    "- A single label, e.g. ``5`` or ``'a'``, (note that ``5`` is\r\n",
    "    interpreted as a *label* of the index, and **never** as an\r\n",
    "    integer position along the index).\r\n",
    "- A list or array of labels, e.g. ``['a', 'b', 'c']``.\r\n",
    "- A slice object with labels, e.g. ``'a':'f'``.\r\n",
    "- A boolean array of the same length as the axis being sliced,\r\n",
    "    e.g. ``[True, False, True]``.\r\n",
    "- A ``callable`` function with one argument (the calling Series or\r\n",
    "    DataFrame) and that returns valid output for indexing (one of the above)\r\n"
   ]
  },
  {
   "cell_type": "code",
   "execution_count": 10,
   "metadata": {},
   "outputs": [
    {
     "data": {
      "text/html": "<div>\n<style scoped>\n    .dataframe tbody tr th:only-of-type {\n        vertical-align: middle;\n    }\n\n    .dataframe tbody tr th {\n        vertical-align: top;\n    }\n\n    .dataframe thead th {\n        text-align: right;\n    }\n</style>\n<table border=\"1\" class=\"dataframe\">\n  <thead>\n    <tr style=\"text-align: right;\">\n      <th></th>\n      <th>country</th>\n      <th>description</th>\n      <th>designation</th>\n      <th>points</th>\n      <th>price</th>\n      <th>province</th>\n      <th>region_1</th>\n      <th>region_2</th>\n      <th>taster_name</th>\n      <th>taster_twitter_handle</th>\n      <th>title</th>\n      <th>variety</th>\n      <th>winery</th>\n    </tr>\n  </thead>\n  <tbody>\n    <tr>\n      <th>90901</th>\n      <td>Argentina</td>\n      <td>Odd aromas of bath soap and tropical fruits ar...</td>\n      <td>Valle Las Acequias Clase A</td>\n      <td>81</td>\n      <td>9.0</td>\n      <td>Mendoza Province</td>\n      <td>Mendoza</td>\n      <td>NaN</td>\n      <td>Michael Schachner</td>\n      <td>@wineschach</td>\n      <td>Luis Segundo Correas 2015 Valle Las Acequias C...</td>\n      <td>Chardonnay</td>\n      <td>Luis Segundo Correas</td>\n    </tr>\n    <tr>\n      <th>122372</th>\n      <td>Argentina</td>\n      <td>Malty, earthy aromas of cassis and prune are t...</td>\n      <td>NaN</td>\n      <td>86</td>\n      <td>15.0</td>\n      <td>Mendoza Province</td>\n      <td>Mendoza</td>\n      <td>NaN</td>\n      <td>Michael Schachner</td>\n      <td>@wineschach</td>\n      <td>Bodega Familia Barberis 2010 Cabernet Sauvigno...</td>\n      <td>Cabernet Sauvignon</td>\n      <td>Bodega Familia Barberis</td>\n    </tr>\n    <tr>\n      <th>122374</th>\n      <td>Argentina</td>\n      <td>This SB delivers citrus peel, grass and other ...</td>\n      <td>Ciclos Fume</td>\n      <td>86</td>\n      <td>28.0</td>\n      <td>Other</td>\n      <td>Cafayate</td>\n      <td>NaN</td>\n      <td>Michael Schachner</td>\n      <td>@wineschach</td>\n      <td>Michel Torino 2013 Ciclos Fume Sauvignon Blanc...</td>\n      <td>Sauvignon Blanc</td>\n      <td>Michel Torino</td>\n    </tr>\n    <tr>\n      <th>4814</th>\n      <td>Argentina</td>\n      <td>Opens with aromas of tomato leaf, fresh salsa ...</td>\n      <td>Reserva</td>\n      <td>85</td>\n      <td>15.0</td>\n      <td>Other</td>\n      <td>Neuquén</td>\n      <td>NaN</td>\n      <td>Michael Schachner</td>\n      <td>@wineschach</td>\n      <td>Chaltén 2007 Reserva Pinot Noir (Neuquén)</td>\n      <td>Pinot Noir</td>\n      <td>Chaltén</td>\n    </tr>\n    <tr>\n      <th>4806</th>\n      <td>Argentina</td>\n      <td>A heavy, dark and loud Malbec with bullish flo...</td>\n      <td>NaN</td>\n      <td>85</td>\n      <td>20.0</td>\n      <td>Mendoza Province</td>\n      <td>Uco Valley</td>\n      <td>NaN</td>\n      <td>Michael Schachner</td>\n      <td>@wineschach</td>\n      <td>DiamAndes 2010 Malbec (Uco Valley)</td>\n      <td>Malbec</td>\n      <td>DiamAndes</td>\n    </tr>\n    <tr>\n      <th>...</th>\n      <td>...</td>\n      <td>...</td>\n      <td>...</td>\n      <td>...</td>\n      <td>...</td>\n      <td>...</td>\n      <td>...</td>\n      <td>...</td>\n      <td>...</td>\n      <td>...</td>\n      <td>...</td>\n      <td>...</td>\n      <td>...</td>\n    </tr>\n    <tr>\n      <th>124176</th>\n      <td>NaN</td>\n      <td>This Swiss red blend is composed of four varie...</td>\n      <td>Les Romaines</td>\n      <td>90</td>\n      <td>30.0</td>\n      <td>NaN</td>\n      <td>NaN</td>\n      <td>NaN</td>\n      <td>Jeff Jenssen</td>\n      <td>@worldwineguys</td>\n      <td>Les Frères Dutruy 2014 Les Romaines Red</td>\n      <td>Red Blend</td>\n      <td>Les Frères Dutruy</td>\n    </tr>\n    <tr>\n      <th>129407</th>\n      <td>NaN</td>\n      <td>Dry spicy aromas of dusty plum and tomato add ...</td>\n      <td>Reserve</td>\n      <td>89</td>\n      <td>22.0</td>\n      <td>NaN</td>\n      <td>NaN</td>\n      <td>NaN</td>\n      <td>Michael Schachner</td>\n      <td>@wineschach</td>\n      <td>El Capricho 2015 Reserve Cabernet Sauvignon</td>\n      <td>Cabernet Sauvignon</td>\n      <td>El Capricho</td>\n    </tr>\n    <tr>\n      <th>129408</th>\n      <td>NaN</td>\n      <td>El Capricho is one of Uruguay's more consisten...</td>\n      <td>Reserve</td>\n      <td>89</td>\n      <td>22.0</td>\n      <td>NaN</td>\n      <td>NaN</td>\n      <td>NaN</td>\n      <td>Michael Schachner</td>\n      <td>@wineschach</td>\n      <td>El Capricho 2015 Reserve Tempranillo</td>\n      <td>Tempranillo</td>\n      <td>El Capricho</td>\n    </tr>\n    <tr>\n      <th>129590</th>\n      <td>NaN</td>\n      <td>A blend of 60% Syrah, 30% Cabernet Sauvignon a...</td>\n      <td>Shah</td>\n      <td>90</td>\n      <td>30.0</td>\n      <td>NaN</td>\n      <td>NaN</td>\n      <td>NaN</td>\n      <td>Mike DeSimone</td>\n      <td>@worldwineguys</td>\n      <td>Büyülübağ 2012 Shah Red</td>\n      <td>Red Blend</td>\n      <td>Büyülübağ</td>\n    </tr>\n    <tr>\n      <th>129900</th>\n      <td>NaN</td>\n      <td>This wine offers a delightful bouquet of black...</td>\n      <td>NaN</td>\n      <td>91</td>\n      <td>32.0</td>\n      <td>NaN</td>\n      <td>NaN</td>\n      <td>NaN</td>\n      <td>Mike DeSimone</td>\n      <td>@worldwineguys</td>\n      <td>Psagot 2014 Merlot</td>\n      <td>Merlot</td>\n      <td>Psagot</td>\n    </tr>\n  </tbody>\n</table>\n<p>129971 rows × 13 columns</p>\n</div>",
      "text/plain": "          country                                        description  \\\n90901   Argentina  Odd aromas of bath soap and tropical fruits ar...   \n122372  Argentina  Malty, earthy aromas of cassis and prune are t...   \n122374  Argentina  This SB delivers citrus peel, grass and other ...   \n4814    Argentina  Opens with aromas of tomato leaf, fresh salsa ...   \n4806    Argentina  A heavy, dark and loud Malbec with bullish flo...   \n...           ...                                                ...   \n124176        NaN  This Swiss red blend is composed of four varie...   \n129407        NaN  Dry spicy aromas of dusty plum and tomato add ...   \n129408        NaN  El Capricho is one of Uruguay's more consisten...   \n129590        NaN  A blend of 60% Syrah, 30% Cabernet Sauvignon a...   \n129900        NaN  This wine offers a delightful bouquet of black...   \n\n                       designation  points  price          province  \\\n90901   Valle Las Acequias Clase A      81    9.0  Mendoza Province   \n122372                         NaN      86   15.0  Mendoza Province   \n122374                 Ciclos Fume      86   28.0             Other   \n4814                       Reserva      85   15.0             Other   \n4806                           NaN      85   20.0  Mendoza Province   \n...                            ...     ...    ...               ...   \n124176                Les Romaines      90   30.0               NaN   \n129407                     Reserve      89   22.0               NaN   \n129408                     Reserve      89   22.0               NaN   \n129590                        Shah      90   30.0               NaN   \n129900                         NaN      91   32.0               NaN   \n\n          region_1 region_2        taster_name taster_twitter_handle  \\\n90901      Mendoza      NaN  Michael Schachner           @wineschach   \n122372     Mendoza      NaN  Michael Schachner           @wineschach   \n122374    Cafayate      NaN  Michael Schachner           @wineschach   \n4814       Neuquén      NaN  Michael Schachner           @wineschach   \n4806    Uco Valley      NaN  Michael Schachner           @wineschach   \n...            ...      ...                ...                   ...   \n124176         NaN      NaN       Jeff Jenssen        @worldwineguys   \n129407         NaN      NaN  Michael Schachner           @wineschach   \n129408         NaN      NaN  Michael Schachner           @wineschach   \n129590         NaN      NaN      Mike DeSimone        @worldwineguys   \n129900         NaN      NaN      Mike DeSimone        @worldwineguys   \n\n                                                    title             variety  \\\n90901   Luis Segundo Correas 2015 Valle Las Acequias C...          Chardonnay   \n122372  Bodega Familia Barberis 2010 Cabernet Sauvigno...  Cabernet Sauvignon   \n122374  Michel Torino 2013 Ciclos Fume Sauvignon Blanc...     Sauvignon Blanc   \n4814            Chaltén 2007 Reserva Pinot Noir (Neuquén)          Pinot Noir   \n4806                   DiamAndes 2010 Malbec (Uco Valley)              Malbec   \n...                                                   ...                 ...   \n124176            Les Frères Dutruy 2014 Les Romaines Red           Red Blend   \n129407        El Capricho 2015 Reserve Cabernet Sauvignon  Cabernet Sauvignon   \n129408               El Capricho 2015 Reserve Tempranillo         Tempranillo   \n129590                            Büyülübağ 2012 Shah Red           Red Blend   \n129900                                 Psagot 2014 Merlot              Merlot   \n\n                         winery  \n90901      Luis Segundo Correas  \n122372  Bodega Familia Barberis  \n122374            Michel Torino  \n4814                    Chaltén  \n4806                  DiamAndes  \n...                         ...  \n124176        Les Frères Dutruy  \n129407              El Capricho  \n129408              El Capricho  \n129590                Büyülübağ  \n129900                   Psagot  \n\n[129971 rows x 13 columns]"
     },
     "execution_count": 10,
     "metadata": {},
     "output_type": "execute_result"
    }
   ],
   "source": [
    "# SELECT * FROM WINE_REVIEWS_NEW ORDER BY COUNTRY\r\n",
    "wine_reviews.sort_values(by='country')"
   ]
  },
  {
   "cell_type": "code",
   "execution_count": 11,
   "metadata": {},
   "outputs": [
    {
     "data": {
      "text/html": "<div>\n<style scoped>\n    .dataframe tbody tr th:only-of-type {\n        vertical-align: middle;\n    }\n\n    .dataframe tbody tr th {\n        vertical-align: top;\n    }\n\n    .dataframe thead th {\n        text-align: right;\n    }\n</style>\n<table border=\"1\" class=\"dataframe\">\n  <thead>\n    <tr style=\"text-align: right;\">\n      <th></th>\n      <th>country</th>\n      <th>description</th>\n      <th>designation</th>\n      <th>points</th>\n      <th>price</th>\n      <th>province</th>\n      <th>region_1</th>\n      <th>region_2</th>\n      <th>taster_name</th>\n      <th>taster_twitter_handle</th>\n      <th>title</th>\n      <th>variety</th>\n      <th>winery</th>\n    </tr>\n  </thead>\n  <tbody>\n    <tr>\n      <th>111753</th>\n      <td>France</td>\n      <td>Almost black in color, this stunning wine is g...</td>\n      <td>NaN</td>\n      <td>100</td>\n      <td>1500.0</td>\n      <td>Bordeaux</td>\n      <td>Pauillac</td>\n      <td>NaN</td>\n      <td>Roger Voss</td>\n      <td>@vossroger</td>\n      <td>Château Lafite Rothschild 2010  Pauillac</td>\n      <td>Bordeaux-style Red Blend</td>\n      <td>Château Lafite Rothschild</td>\n    </tr>\n    <tr>\n      <th>111755</th>\n      <td>France</td>\n      <td>This is the finest Cheval Blanc for many years...</td>\n      <td>NaN</td>\n      <td>100</td>\n      <td>1500.0</td>\n      <td>Bordeaux</td>\n      <td>Saint-Émilion</td>\n      <td>NaN</td>\n      <td>Roger Voss</td>\n      <td>@vossroger</td>\n      <td>Château Cheval Blanc 2010  Saint-Émilion</td>\n      <td>Bordeaux-style Red Blend</td>\n      <td>Château Cheval Blanc</td>\n    </tr>\n    <tr>\n      <th>122935</th>\n      <td>France</td>\n      <td>Full of ripe fruit, opulent and concentrated, ...</td>\n      <td>NaN</td>\n      <td>100</td>\n      <td>848.0</td>\n      <td>Bordeaux</td>\n      <td>Pessac-Léognan</td>\n      <td>NaN</td>\n      <td>Roger Voss</td>\n      <td>@vossroger</td>\n      <td>Château Haut-Brion 2014  Pessac-Léognan</td>\n      <td>Bordeaux-style White Blend</td>\n      <td>Château Haut-Brion</td>\n    </tr>\n    <tr>\n      <th>114972</th>\n      <td>Portugal</td>\n      <td>A powerful and ripe wine, strongly influenced ...</td>\n      <td>Nacional Vintage</td>\n      <td>100</td>\n      <td>650.0</td>\n      <td>Port</td>\n      <td>NaN</td>\n      <td>NaN</td>\n      <td>Roger Voss</td>\n      <td>@vossroger</td>\n      <td>Quinta do Noval 2011 Nacional Vintage  (Port)</td>\n      <td>Port</td>\n      <td>Quinta do Noval</td>\n    </tr>\n    <tr>\n      <th>89729</th>\n      <td>France</td>\n      <td>This new release from a great vintage for Char...</td>\n      <td>Le Mesnil Blanc de Blancs Brut</td>\n      <td>100</td>\n      <td>617.0</td>\n      <td>Champagne</td>\n      <td>Champagne</td>\n      <td>NaN</td>\n      <td>Roger Voss</td>\n      <td>@vossroger</td>\n      <td>Salon 2006 Le Mesnil Blanc de Blancs Brut Char...</td>\n      <td>Chardonnay</td>\n      <td>Salon</td>\n    </tr>\n  </tbody>\n</table>\n</div>",
      "text/plain": "         country                                        description  \\\n111753    France  Almost black in color, this stunning wine is g...   \n111755    France  This is the finest Cheval Blanc for many years...   \n122935    France  Full of ripe fruit, opulent and concentrated, ...   \n114972  Portugal  A powerful and ripe wine, strongly influenced ...   \n89729     France  This new release from a great vintage for Char...   \n\n                           designation  points   price   province  \\\n111753                             NaN     100  1500.0   Bordeaux   \n111755                             NaN     100  1500.0   Bordeaux   \n122935                             NaN     100   848.0   Bordeaux   \n114972                Nacional Vintage     100   650.0       Port   \n89729   Le Mesnil Blanc de Blancs Brut     100   617.0  Champagne   \n\n              region_1 region_2 taster_name taster_twitter_handle  \\\n111753        Pauillac      NaN  Roger Voss            @vossroger   \n111755   Saint-Émilion      NaN  Roger Voss            @vossroger   \n122935  Pessac-Léognan      NaN  Roger Voss            @vossroger   \n114972             NaN      NaN  Roger Voss            @vossroger   \n89729        Champagne      NaN  Roger Voss            @vossroger   \n\n                                                    title  \\\n111753           Château Lafite Rothschild 2010  Pauillac   \n111755           Château Cheval Blanc 2010  Saint-Émilion   \n122935            Château Haut-Brion 2014  Pessac-Léognan   \n114972      Quinta do Noval 2011 Nacional Vintage  (Port)   \n89729   Salon 2006 Le Mesnil Blanc de Blancs Brut Char...   \n\n                           variety                     winery  \n111753    Bordeaux-style Red Blend  Château Lafite Rothschild  \n111755    Bordeaux-style Red Blend       Château Cheval Blanc  \n122935  Bordeaux-style White Blend         Château Haut-Brion  \n114972                        Port            Quinta do Noval  \n89729                   Chardonnay                      Salon  "
     },
     "execution_count": 11,
     "metadata": {},
     "output_type": "execute_result"
    }
   ],
   "source": [
    "# SELECT * FROM WINE_REVIEWS_NEW \r\n",
    "# ORDER BY points DESC, price DESC\r\n",
    "# OFFSET 0 ROWS FETCH NEXT 5 ROWS ONLY\r\n",
    "wine_reviews.sort_values(by=['points','price'], ascending = False).head(5)"
   ]
  },
  {
   "cell_type": "code",
   "execution_count": 12,
   "metadata": {},
   "outputs": [
    {
     "data": {
      "text/plain": "0              NaN\n1         5.800000\n2         6.214286\n3         6.692308\n4         1.338462\n            ...   \n129966    3.214286\n129967    1.200000\n129968    3.000000\n129969    2.812500\n129970    4.285714\nLength: 129971, dtype: float64"
     },
     "execution_count": 12,
     "metadata": {},
     "output_type": "execute_result"
    }
   ],
   "source": [
    "# COLUMN OPERATION: SELECT points/price as pp_ratio FROM WINE_REVIEWS_NEW\r\n",
    "wine_reviews['points']/wine_reviews['price']"
   ]
  },
  {
   "cell_type": "code",
   "execution_count": 13,
   "metadata": {},
   "outputs": [
    {
     "data": {
      "text/plain": "array(['Italy', 'Portugal', 'US', 'Spain', 'France', 'Germany',\n       'Argentina', 'Chile', 'Australia', 'Austria', 'South Africa',\n       'New Zealand', 'Israel', 'Hungary', 'Greece', 'Romania', 'Mexico',\n       'Canada', nan, 'Turkey', 'Czech Republic', 'Slovenia',\n       'Luxembourg', 'Croatia', 'Georgia', 'Uruguay', 'England',\n       'Lebanon', 'Serbia', 'Brazil', 'Moldova', 'Morocco', 'Peru',\n       'India', 'Bulgaria', 'Cyprus', 'Armenia', 'Switzerland',\n       'Bosnia and Herzegovina', 'Ukraine', 'Slovakia', 'Macedonia',\n       'China', 'Egypt'], dtype=object)"
     },
     "execution_count": 13,
     "metadata": {},
     "output_type": "execute_result"
    }
   ],
   "source": [
    "# SELECT DISTINCT COUNTRY FROM WINE_REVIEWS_NEW\r\n",
    "wine_reviews['country'].unique() # retrun an array of distinct values"
   ]
  },
  {
   "cell_type": "code",
   "execution_count": 21,
   "metadata": {},
   "outputs": [
    {
     "data": {
      "text/plain": "US          54504\nFrance      22093\nItaly       19540\nSpain        6645\nPortugal     5691\nName: country, dtype: int64"
     },
     "execution_count": 21,
     "metadata": {},
     "output_type": "execute_result"
    }
   ],
   "source": [
    "# SELECT DISTINCT COUNTRY FROM WINE_REVIEWS_NEW\r\n",
    "wine_reviews['country'].value_counts().head() # return a Series\r\n",
    "# wine_reviews.groupby(['country'])['description'].agg([len]) # return a df\r\n",
    "# wine_reviews.groupby(['country']).size() # return a Series\r\n",
    "# wine_reviews.groupby(['country']).description.count() # return a Series"
   ]
  },
  {
   "cell_type": "markdown",
   "metadata": {},
   "source": [
    "Note:\r\n",
    "\r\n",
    "- The use of `agg()`:\r\n",
    "  - input: list of functions that takes lists return a single value, e.g. len(), max(), min().\r\n",
    "  - output: a dataframe \r\n",
    "  - it could either apply to every column or one column (if specified)\r\n",
    "- Difference between `size()` and `count()`\r\n",
    "  - `size()`: compute group size, including null values.\r\n",
    "  - `count()`: Compute count of group, excluding missing values.\r\n",
    " "
   ]
  },
  {
   "cell_type": "code",
   "execution_count": 22,
   "metadata": {},
   "outputs": [
    {
     "data": {
      "text/plain": "country\nArgentina                 24.510117\nArmenia                   14.500000\nAustralia                 35.437663\nAustria                   30.762772\nBosnia and Herzegovina    12.500000\nName: price, dtype: float64"
     },
     "execution_count": 22,
     "metadata": {},
     "output_type": "execute_result"
    }
   ],
   "source": [
    "# GROUP BY\r\n",
    "# SELECT AVG(PRICE) FROM WINE_REVIEWS_NEW GROUP BY COUNTRY\r\n",
    "wine_reivews_country= wine_reviews.groupby(['country'])\r\n",
    "wine_reivews_country.price.mean().head() # return a Series"
   ]
  },
  {
   "cell_type": "markdown",
   "metadata": {},
   "source": [
    "```sql\r\n",
    "-- CREATE TABLE: wine_taster, and add a taster_level column \r\n",
    "SELECT taster_name,taster_twitter_handle INTO WINE_TASTER \r\n",
    "FROM WINE_REVIEWS_NEW\r\n",
    "WHERE LEN(taster_name)>0 \r\n",
    "GROUP BY taster_name,taster_twitter_handle\r\n",
    "\r\n",
    "ALTER TABLE WINE_TASTER ADD taster_level int \r\n",
    "\r\n",
    "UPDATE WINE_TASTER SET taster_level = CASE WHEN len(taster_twitter_handle)>0 THEN 5 WHEN (upper(taster_name) like '%S%' OR  upper(taster_name) like '%M%') THEN 4 ELSE 3 END\r\n",
    "SELECT  * FROM WINE_TASTER\r\n",
    "```"
   ]
  },
  {
   "cell_type": "code",
   "execution_count": 23,
   "metadata": {},
   "outputs": [
    {
     "data": {
      "text/html": "<div>\n<style scoped>\n    .dataframe tbody tr th:only-of-type {\n        vertical-align: middle;\n    }\n\n    .dataframe tbody tr th {\n        vertical-align: top;\n    }\n\n    .dataframe thead th {\n        text-align: right;\n    }\n</style>\n<table border=\"1\" class=\"dataframe\">\n  <thead>\n    <tr style=\"text-align: right;\">\n      <th></th>\n      <th>taster_name</th>\n      <th>taster_twitter_handle</th>\n      <th>taster_level</th>\n    </tr>\n  </thead>\n  <tbody>\n    <tr>\n      <th>0</th>\n      <td>Alexander Peartree</td>\n      <td>NA</td>\n      <td>3</td>\n    </tr>\n    <tr>\n      <th>1</th>\n      <td>Anna Lee C. Iijima</td>\n      <td>NA</td>\n      <td>4</td>\n    </tr>\n    <tr>\n      <th>2</th>\n      <td>Anne Krebiehl MW</td>\n      <td>@AnneInVino</td>\n      <td>5</td>\n    </tr>\n    <tr>\n      <th>3</th>\n      <td>Carrie Dykes</td>\n      <td>NA</td>\n      <td>4</td>\n    </tr>\n    <tr>\n      <th>4</th>\n      <td>Christina Pickard</td>\n      <td>@winewchristina</td>\n      <td>5</td>\n    </tr>\n  </tbody>\n</table>\n</div>",
      "text/plain": "          taster_name taster_twitter_handle  taster_level\n0  Alexander Peartree                    NA             3\n1  Anna Lee C. Iijima                    NA             4\n2    Anne Krebiehl MW           @AnneInVino             5\n3        Carrie Dykes                    NA             4\n4   Christina Pickard       @winewchristina             5"
     },
     "execution_count": 23,
     "metadata": {},
     "output_type": "execute_result"
    }
   ],
   "source": [
    "# JOIN\r\n",
    "# CREATE TABLE: wine_taster, and add a taster_level column \r\n",
    "wine_taster = wine_reviews.loc[wine_reviews['taster_name'].notnull()]\r\n",
    "wine_taster = wine_taster.loc[:,['taster_name','taster_twitter_handle']].fillna('NA').groupby(['taster_name','taster_twitter_handle']).size()\r\n",
    "wine_taster = wine_taster.reset_index().drop(columns=0)\r\n",
    "def get_taster_level(row):\r\n",
    "    level = None\r\n",
    "    if row['taster_twitter_handle'] != 'NA':\r\n",
    "        level = 5\r\n",
    "    elif ('S' in  row['taster_name'].upper()) or ('M' in  row['taster_name'].upper()):\r\n",
    "        level = 4\r\n",
    "    else:\r\n",
    "        level = 3\r\n",
    "    \r\n",
    "    return level  \r\n",
    "\r\n",
    "wine_taster['taster_level'] = wine_taster.apply(get_taster_level, axis='columns')\r\n",
    "wine_taster.head()\r\n"
   ]
  },
  {
   "cell_type": "code",
   "execution_count": 17,
   "metadata": {},
   "outputs": [
    {
     "data": {
      "text/html": "<div>\n<style scoped>\n    .dataframe tbody tr th:only-of-type {\n        vertical-align: middle;\n    }\n\n    .dataframe tbody tr th {\n        vertical-align: top;\n    }\n\n    .dataframe thead th {\n        text-align: right;\n    }\n</style>\n<table border=\"1\" class=\"dataframe\">\n  <thead>\n    <tr style=\"text-align: right;\">\n      <th></th>\n      <th>country</th>\n      <th>description</th>\n      <th>designation</th>\n      <th>points</th>\n      <th>price</th>\n      <th>province</th>\n      <th>region_1</th>\n      <th>region_2</th>\n      <th>taster_twitter_handle_REVIEW</th>\n      <th>title</th>\n      <th>variety</th>\n      <th>winery</th>\n      <th>taster_twitter_handle_LEVEL</th>\n      <th>taster_level</th>\n    </tr>\n    <tr>\n      <th>taster_name</th>\n      <th></th>\n      <th></th>\n      <th></th>\n      <th></th>\n      <th></th>\n      <th></th>\n      <th></th>\n      <th></th>\n      <th></th>\n      <th></th>\n      <th></th>\n      <th></th>\n      <th></th>\n      <th></th>\n    </tr>\n  </thead>\n  <tbody>\n    <tr>\n      <th>Alexander Peartree</th>\n      <td>US</td>\n      <td>Pineapple rind, lemon pith and orange blossom ...</td>\n      <td>Reserve Late Harvest</td>\n      <td>87</td>\n      <td>13.0</td>\n      <td>Michigan</td>\n      <td>Lake Michigan Shore</td>\n      <td>NaN</td>\n      <td>NaN</td>\n      <td>St. Julian 2013 Reserve Late Harvest Riesling ...</td>\n      <td>Riesling</td>\n      <td>St. Julian</td>\n      <td>NA</td>\n      <td>3.0</td>\n    </tr>\n    <tr>\n      <th>Alexander Peartree</th>\n      <td>US</td>\n      <td>Red fruit aromas pervade on the nose, with cig...</td>\n      <td>NaN</td>\n      <td>87</td>\n      <td>32.0</td>\n      <td>Virginia</td>\n      <td>Virginia</td>\n      <td>NaN</td>\n      <td>NaN</td>\n      <td>Quiévremont 2012 Meritage (Virginia)</td>\n      <td>Meritage</td>\n      <td>Quiévremont</td>\n      <td>NA</td>\n      <td>3.0</td>\n    </tr>\n    <tr>\n      <th>Alexander Peartree</th>\n      <td>US</td>\n      <td>Ripe aromas of dark berries mingle with ample ...</td>\n      <td>Vin de Maison</td>\n      <td>87</td>\n      <td>23.0</td>\n      <td>Virginia</td>\n      <td>Virginia</td>\n      <td>NaN</td>\n      <td>NaN</td>\n      <td>Quiévremont 2012 Vin de Maison Red (Virginia)</td>\n      <td>Red Blend</td>\n      <td>Quiévremont</td>\n      <td>NA</td>\n      <td>3.0</td>\n    </tr>\n    <tr>\n      <th>Alexander Peartree</th>\n      <td>US</td>\n      <td>Peach, banana peel and a slight petrol note sh...</td>\n      <td>Mont Sec Vineyards</td>\n      <td>85</td>\n      <td>14.0</td>\n      <td>Texas</td>\n      <td>Texas</td>\n      <td>NaN</td>\n      <td>NaN</td>\n      <td>Mont Sec 2015 Mont Sec Vineyards Viognier (Texas)</td>\n      <td>Viognier</td>\n      <td>Mont Sec</td>\n      <td>NA</td>\n      <td>3.0</td>\n    </tr>\n    <tr>\n      <th>Alexander Peartree</th>\n      <td>US</td>\n      <td>There seems to be a dusty veil over the fruit ...</td>\n      <td>NaN</td>\n      <td>85</td>\n      <td>NaN</td>\n      <td>Texas</td>\n      <td>Texas</td>\n      <td>NaN</td>\n      <td>NaN</td>\n      <td>McPherson 2014 Sangiovese (Texas)</td>\n      <td>Sangiovese</td>\n      <td>McPherson</td>\n      <td>NA</td>\n      <td>3.0</td>\n    </tr>\n    <tr>\n      <th>...</th>\n      <td>...</td>\n      <td>...</td>\n      <td>...</td>\n      <td>...</td>\n      <td>...</td>\n      <td>...</td>\n      <td>...</td>\n      <td>...</td>\n      <td>...</td>\n      <td>...</td>\n      <td>...</td>\n      <td>...</td>\n      <td>...</td>\n      <td>...</td>\n    </tr>\n    <tr>\n      <th>NaN</th>\n      <td>Italy</td>\n      <td>Here's an easy blend of Cabernet Sauvignon and...</td>\n      <td>NaN</td>\n      <td>86</td>\n      <td>10.0</td>\n      <td>Sicily &amp; Sardinia</td>\n      <td>Sicilia</td>\n      <td>NaN</td>\n      <td>NaN</td>\n      <td>MandraRossa 2006 Cabernet Sauvignon-Shiraz (Si...</td>\n      <td>Cabernet Sauvignon-Shiraz</td>\n      <td>MandraRossa</td>\n      <td>NaN</td>\n      <td>NaN</td>\n    </tr>\n    <tr>\n      <th>NaN</th>\n      <td>US</td>\n      <td>Fritz has made tremendous progress with Cab ov...</td>\n      <td>NaN</td>\n      <td>91</td>\n      <td>35.0</td>\n      <td>California</td>\n      <td>Dry Creek Valley</td>\n      <td>Sonoma</td>\n      <td>NaN</td>\n      <td>Fritz 2005 Cabernet Sauvignon (Dry Creek Valley)</td>\n      <td>Cabernet Sauvignon</td>\n      <td>Fritz</td>\n      <td>NaN</td>\n      <td>NaN</td>\n    </tr>\n    <tr>\n      <th>NaN</th>\n      <td>US</td>\n      <td>Shows the clean, citrus acid juiciness and sil...</td>\n      <td>Fiddlestix Vineyard</td>\n      <td>91</td>\n      <td>48.0</td>\n      <td>California</td>\n      <td>Sta. Rita Hills</td>\n      <td>Central Coast</td>\n      <td>NaN</td>\n      <td>Pali 2006 Fiddlestix Vineyard Pinot Noir (Sta....</td>\n      <td>Pinot Noir</td>\n      <td>Pali</td>\n      <td>NaN</td>\n      <td>NaN</td>\n    </tr>\n    <tr>\n      <th>NaN</th>\n      <td>Italy</td>\n      <td>This luminous sparkler has a sweet, fruit-forw...</td>\n      <td>NaN</td>\n      <td>91</td>\n      <td>38.0</td>\n      <td>Veneto</td>\n      <td>Prosecco Superiore di Cartizze</td>\n      <td>NaN</td>\n      <td>NaN</td>\n      <td>Col Vetoraz Spumanti NV  Prosecco Superiore di...</td>\n      <td>Prosecco</td>\n      <td>Col Vetoraz Spumanti</td>\n      <td>NaN</td>\n      <td>NaN</td>\n    </tr>\n    <tr>\n      <th>NaN</th>\n      <td>US</td>\n      <td>This is the winery's bells and whistles Chardo...</td>\n      <td>Watson Vineyard</td>\n      <td>91</td>\n      <td>36.0</td>\n      <td>California</td>\n      <td>Mendocino</td>\n      <td>NaN</td>\n      <td>NaN</td>\n      <td>Standish 2006 Watson Vineyard Chardonnay (Mend...</td>\n      <td>Chardonnay</td>\n      <td>Standish</td>\n      <td>NaN</td>\n      <td>NaN</td>\n    </tr>\n  </tbody>\n</table>\n<p>129971 rows × 14 columns</p>\n</div>",
      "text/plain": "                   country                                        description  \\\ntaster_name                                                                     \nAlexander Peartree      US  Pineapple rind, lemon pith and orange blossom ...   \nAlexander Peartree      US  Red fruit aromas pervade on the nose, with cig...   \nAlexander Peartree      US  Ripe aromas of dark berries mingle with ample ...   \nAlexander Peartree      US  Peach, banana peel and a slight petrol note sh...   \nAlexander Peartree      US  There seems to be a dusty veil over the fruit ...   \n...                    ...                                                ...   \nNaN                  Italy  Here's an easy blend of Cabernet Sauvignon and...   \nNaN                     US  Fritz has made tremendous progress with Cab ov...   \nNaN                     US  Shows the clean, citrus acid juiciness and sil...   \nNaN                  Italy  This luminous sparkler has a sweet, fruit-forw...   \nNaN                     US  This is the winery's bells and whistles Chardo...   \n\n                             designation  points  price           province  \\\ntaster_name                                                                  \nAlexander Peartree  Reserve Late Harvest      87   13.0           Michigan   \nAlexander Peartree                   NaN      87   32.0           Virginia   \nAlexander Peartree         Vin de Maison      87   23.0           Virginia   \nAlexander Peartree    Mont Sec Vineyards      85   14.0              Texas   \nAlexander Peartree                   NaN      85    NaN              Texas   \n...                                  ...     ...    ...                ...   \nNaN                                  NaN      86   10.0  Sicily & Sardinia   \nNaN                                  NaN      91   35.0         California   \nNaN                  Fiddlestix Vineyard      91   48.0         California   \nNaN                                  NaN      91   38.0             Veneto   \nNaN                      Watson Vineyard      91   36.0         California   \n\n                                          region_1       region_2  \\\ntaster_name                                                         \nAlexander Peartree             Lake Michigan Shore            NaN   \nAlexander Peartree                        Virginia            NaN   \nAlexander Peartree                        Virginia            NaN   \nAlexander Peartree                           Texas            NaN   \nAlexander Peartree                           Texas            NaN   \n...                                            ...            ...   \nNaN                                        Sicilia            NaN   \nNaN                               Dry Creek Valley         Sonoma   \nNaN                                Sta. Rita Hills  Central Coast   \nNaN                 Prosecco Superiore di Cartizze            NaN   \nNaN                                      Mendocino            NaN   \n\n                   taster_twitter_handle_REVIEW  \\\ntaster_name                                       \nAlexander Peartree                          NaN   \nAlexander Peartree                          NaN   \nAlexander Peartree                          NaN   \nAlexander Peartree                          NaN   \nAlexander Peartree                          NaN   \n...                                         ...   \nNaN                                         NaN   \nNaN                                         NaN   \nNaN                                         NaN   \nNaN                                         NaN   \nNaN                                         NaN   \n\n                                                                title  \\\ntaster_name                                                             \nAlexander Peartree  St. Julian 2013 Reserve Late Harvest Riesling ...   \nAlexander Peartree               Quiévremont 2012 Meritage (Virginia)   \nAlexander Peartree      Quiévremont 2012 Vin de Maison Red (Virginia)   \nAlexander Peartree  Mont Sec 2015 Mont Sec Vineyards Viognier (Texas)   \nAlexander Peartree                  McPherson 2014 Sangiovese (Texas)   \n...                                                               ...   \nNaN                 MandraRossa 2006 Cabernet Sauvignon-Shiraz (Si...   \nNaN                  Fritz 2005 Cabernet Sauvignon (Dry Creek Valley)   \nNaN                 Pali 2006 Fiddlestix Vineyard Pinot Noir (Sta....   \nNaN                 Col Vetoraz Spumanti NV  Prosecco Superiore di...   \nNaN                 Standish 2006 Watson Vineyard Chardonnay (Mend...   \n\n                                      variety                winery  \\\ntaster_name                                                           \nAlexander Peartree                   Riesling            St. Julian   \nAlexander Peartree                   Meritage           Quiévremont   \nAlexander Peartree                  Red Blend           Quiévremont   \nAlexander Peartree                   Viognier              Mont Sec   \nAlexander Peartree                 Sangiovese             McPherson   \n...                                       ...                   ...   \nNaN                 Cabernet Sauvignon-Shiraz           MandraRossa   \nNaN                        Cabernet Sauvignon                 Fritz   \nNaN                                Pinot Noir                  Pali   \nNaN                                  Prosecco  Col Vetoraz Spumanti   \nNaN                                Chardonnay              Standish   \n\n                   taster_twitter_handle_LEVEL  taster_level  \ntaster_name                                                   \nAlexander Peartree                          NA           3.0  \nAlexander Peartree                          NA           3.0  \nAlexander Peartree                          NA           3.0  \nAlexander Peartree                          NA           3.0  \nAlexander Peartree                          NA           3.0  \n...                                        ...           ...  \nNaN                                        NaN           NaN  \nNaN                                        NaN           NaN  \nNaN                                        NaN           NaN  \nNaN                                        NaN           NaN  \nNaN                                        NaN           NaN  \n\n[129971 rows x 14 columns]"
     },
     "execution_count": 17,
     "metadata": {},
     "output_type": "execute_result"
    }
   ],
   "source": [
    "# JOIN\r\n",
    "# SELECT A.*, B.taster_level FROM WINE_REVIEWS_NEW A\r\n",
    "# LEFT JOIN WINE_TASTER B ON A.taster_name= B.taster_name\r\n",
    "left_df = wine_reviews.set_index('taster_name')\r\n",
    "right_df = wine_taster.set_index('taster_name')\r\n",
    "left_df.join(right_df, lsuffix='_REVIEW', rsuffix='_LEVEL') # left join \r\n",
    "# left_df.join(right_df, how='inner', lsuffix='_REVIEW', rsuffix='_LEVEL') # inner join \r\n",
    "# left_df.join(right_df, how='outer', lsuffix='_REVIEW', rsuffix='_LEVEL') # full outer join "
   ]
  },
  {
   "cell_type": "code",
   "execution_count": 18,
   "metadata": {},
   "outputs": [
    {
     "data": {
      "text/html": "<div>\n<style scoped>\n    .dataframe tbody tr th:only-of-type {\n        vertical-align: middle;\n    }\n\n    .dataframe tbody tr th {\n        vertical-align: top;\n    }\n\n    .dataframe thead th {\n        text-align: right;\n    }\n</style>\n<table border=\"1\" class=\"dataframe\">\n  <thead>\n    <tr style=\"text-align: right;\">\n      <th></th>\n      <th>country</th>\n      <th>description</th>\n      <th>designation</th>\n      <th>points</th>\n      <th>price</th>\n      <th>province</th>\n      <th>region_1</th>\n      <th>region_2</th>\n      <th>taster_name</th>\n      <th>taster_twitter_handle_x</th>\n      <th>title</th>\n      <th>variety</th>\n      <th>winery</th>\n      <th>taster_twitter_handle_y</th>\n      <th>taster_level</th>\n    </tr>\n  </thead>\n  <tbody>\n    <tr>\n      <th>0</th>\n      <td>Italy</td>\n      <td>Aromas include tropical fruit, broom, brimston...</td>\n      <td>Vulkà Bianco</td>\n      <td>87</td>\n      <td>NaN</td>\n      <td>Sicily &amp; Sardinia</td>\n      <td>Etna</td>\n      <td>NaN</td>\n      <td>Kerin O’Keefe</td>\n      <td>@kerinokeefe</td>\n      <td>Nicosia 2013 Vulkà Bianco  (Etna)</td>\n      <td>White Blend</td>\n      <td>Nicosia</td>\n      <td>@kerinokeefe</td>\n      <td>5.0</td>\n    </tr>\n    <tr>\n      <th>1</th>\n      <td>Portugal</td>\n      <td>This is ripe and fruity, a wine that is smooth...</td>\n      <td>Avidagos</td>\n      <td>87</td>\n      <td>15.0</td>\n      <td>Douro</td>\n      <td>NaN</td>\n      <td>NaN</td>\n      <td>Roger Voss</td>\n      <td>@vossroger</td>\n      <td>Quinta dos Avidagos 2011 Avidagos Red (Douro)</td>\n      <td>Portuguese Red</td>\n      <td>Quinta dos Avidagos</td>\n      <td>@vossroger</td>\n      <td>5.0</td>\n    </tr>\n    <tr>\n      <th>2</th>\n      <td>US</td>\n      <td>Tart and snappy, the flavors of lime flesh and...</td>\n      <td>NaN</td>\n      <td>87</td>\n      <td>14.0</td>\n      <td>Oregon</td>\n      <td>Willamette Valley</td>\n      <td>Willamette Valley</td>\n      <td>Paul Gregutt</td>\n      <td>@paulgwine</td>\n      <td>Rainstorm 2013 Pinot Gris (Willamette Valley)</td>\n      <td>Pinot Gris</td>\n      <td>Rainstorm</td>\n      <td>@paulgwine</td>\n      <td>5.0</td>\n    </tr>\n    <tr>\n      <th>3</th>\n      <td>US</td>\n      <td>Pineapple rind, lemon pith and orange blossom ...</td>\n      <td>Reserve Late Harvest</td>\n      <td>87</td>\n      <td>13.0</td>\n      <td>Michigan</td>\n      <td>Lake Michigan Shore</td>\n      <td>NaN</td>\n      <td>Alexander Peartree</td>\n      <td>NaN</td>\n      <td>St. Julian 2013 Reserve Late Harvest Riesling ...</td>\n      <td>Riesling</td>\n      <td>St. Julian</td>\n      <td>NA</td>\n      <td>3.0</td>\n    </tr>\n    <tr>\n      <th>4</th>\n      <td>US</td>\n      <td>Much like the regular bottling from 2012, this...</td>\n      <td>Vintner's Reserve Wild Child Block</td>\n      <td>87</td>\n      <td>65.0</td>\n      <td>Oregon</td>\n      <td>Willamette Valley</td>\n      <td>Willamette Valley</td>\n      <td>Paul Gregutt</td>\n      <td>@paulgwine</td>\n      <td>Sweet Cheeks 2012 Vintner's Reserve Wild Child...</td>\n      <td>Pinot Noir</td>\n      <td>Sweet Cheeks</td>\n      <td>@paulgwine</td>\n      <td>5.0</td>\n    </tr>\n    <tr>\n      <th>...</th>\n      <td>...</td>\n      <td>...</td>\n      <td>...</td>\n      <td>...</td>\n      <td>...</td>\n      <td>...</td>\n      <td>...</td>\n      <td>...</td>\n      <td>...</td>\n      <td>...</td>\n      <td>...</td>\n      <td>...</td>\n      <td>...</td>\n      <td>...</td>\n      <td>...</td>\n    </tr>\n    <tr>\n      <th>129966</th>\n      <td>Germany</td>\n      <td>Notes of honeysuckle and cantaloupe sweeten th...</td>\n      <td>Brauneberger Juffer-Sonnenuhr Spätlese</td>\n      <td>90</td>\n      <td>28.0</td>\n      <td>Mosel</td>\n      <td>NaN</td>\n      <td>NaN</td>\n      <td>Anna Lee C. Iijima</td>\n      <td>NaN</td>\n      <td>Dr. H. Thanisch (Erben Müller-Burggraef) 2013 ...</td>\n      <td>Riesling</td>\n      <td>Dr. H. Thanisch (Erben Müller-Burggraef)</td>\n      <td>NA</td>\n      <td>4.0</td>\n    </tr>\n    <tr>\n      <th>129967</th>\n      <td>US</td>\n      <td>Citation is given as much as a decade of bottl...</td>\n      <td>NaN</td>\n      <td>90</td>\n      <td>75.0</td>\n      <td>Oregon</td>\n      <td>Oregon</td>\n      <td>Oregon Other</td>\n      <td>Paul Gregutt</td>\n      <td>@paulgwine</td>\n      <td>Citation 2004 Pinot Noir (Oregon)</td>\n      <td>Pinot Noir</td>\n      <td>Citation</td>\n      <td>@paulgwine</td>\n      <td>5.0</td>\n    </tr>\n    <tr>\n      <th>129968</th>\n      <td>France</td>\n      <td>Well-drained gravel soil gives this wine its c...</td>\n      <td>Kritt</td>\n      <td>90</td>\n      <td>30.0</td>\n      <td>Alsace</td>\n      <td>Alsace</td>\n      <td>NaN</td>\n      <td>Roger Voss</td>\n      <td>@vossroger</td>\n      <td>Domaine Gresser 2013 Kritt Gewurztraminer (Als...</td>\n      <td>Gewürztraminer</td>\n      <td>Domaine Gresser</td>\n      <td>@vossroger</td>\n      <td>5.0</td>\n    </tr>\n    <tr>\n      <th>129969</th>\n      <td>France</td>\n      <td>A dry style of Pinot Gris, this is crisp with ...</td>\n      <td>NaN</td>\n      <td>90</td>\n      <td>32.0</td>\n      <td>Alsace</td>\n      <td>Alsace</td>\n      <td>NaN</td>\n      <td>Roger Voss</td>\n      <td>@vossroger</td>\n      <td>Domaine Marcel Deiss 2012 Pinot Gris (Alsace)</td>\n      <td>Pinot Gris</td>\n      <td>Domaine Marcel Deiss</td>\n      <td>@vossroger</td>\n      <td>5.0</td>\n    </tr>\n    <tr>\n      <th>129970</th>\n      <td>France</td>\n      <td>Big, rich and off-dry, this is powered by inte...</td>\n      <td>Lieu-dit Harth Cuvée Caroline</td>\n      <td>90</td>\n      <td>21.0</td>\n      <td>Alsace</td>\n      <td>Alsace</td>\n      <td>NaN</td>\n      <td>Roger Voss</td>\n      <td>@vossroger</td>\n      <td>Domaine Schoffit 2012 Lieu-dit Harth Cuvée Car...</td>\n      <td>Gewürztraminer</td>\n      <td>Domaine Schoffit</td>\n      <td>@vossroger</td>\n      <td>5.0</td>\n    </tr>\n  </tbody>\n</table>\n<p>129971 rows × 15 columns</p>\n</div>",
      "text/plain": "         country                                        description  \\\n0          Italy  Aromas include tropical fruit, broom, brimston...   \n1       Portugal  This is ripe and fruity, a wine that is smooth...   \n2             US  Tart and snappy, the flavors of lime flesh and...   \n3             US  Pineapple rind, lemon pith and orange blossom ...   \n4             US  Much like the regular bottling from 2012, this...   \n...          ...                                                ...   \n129966   Germany  Notes of honeysuckle and cantaloupe sweeten th...   \n129967        US  Citation is given as much as a decade of bottl...   \n129968    France  Well-drained gravel soil gives this wine its c...   \n129969    France  A dry style of Pinot Gris, this is crisp with ...   \n129970    France  Big, rich and off-dry, this is powered by inte...   \n\n                                   designation  points  price  \\\n0                                 Vulkà Bianco      87    NaN   \n1                                     Avidagos      87   15.0   \n2                                          NaN      87   14.0   \n3                         Reserve Late Harvest      87   13.0   \n4           Vintner's Reserve Wild Child Block      87   65.0   \n...                                        ...     ...    ...   \n129966  Brauneberger Juffer-Sonnenuhr Spätlese      90   28.0   \n129967                                     NaN      90   75.0   \n129968                                   Kritt      90   30.0   \n129969                                     NaN      90   32.0   \n129970           Lieu-dit Harth Cuvée Caroline      90   21.0   \n\n                 province             region_1           region_2  \\\n0       Sicily & Sardinia                 Etna                NaN   \n1                   Douro                  NaN                NaN   \n2                  Oregon    Willamette Valley  Willamette Valley   \n3                Michigan  Lake Michigan Shore                NaN   \n4                  Oregon    Willamette Valley  Willamette Valley   \n...                   ...                  ...                ...   \n129966              Mosel                  NaN                NaN   \n129967             Oregon               Oregon       Oregon Other   \n129968             Alsace               Alsace                NaN   \n129969             Alsace               Alsace                NaN   \n129970             Alsace               Alsace                NaN   \n\n               taster_name taster_twitter_handle_x  \\\n0            Kerin O’Keefe            @kerinokeefe   \n1               Roger Voss              @vossroger   \n2             Paul Gregutt             @paulgwine    \n3       Alexander Peartree                     NaN   \n4             Paul Gregutt             @paulgwine    \n...                    ...                     ...   \n129966  Anna Lee C. Iijima                     NaN   \n129967        Paul Gregutt             @paulgwine    \n129968          Roger Voss              @vossroger   \n129969          Roger Voss              @vossroger   \n129970          Roger Voss              @vossroger   \n\n                                                    title         variety  \\\n0                       Nicosia 2013 Vulkà Bianco  (Etna)     White Blend   \n1           Quinta dos Avidagos 2011 Avidagos Red (Douro)  Portuguese Red   \n2           Rainstorm 2013 Pinot Gris (Willamette Valley)      Pinot Gris   \n3       St. Julian 2013 Reserve Late Harvest Riesling ...        Riesling   \n4       Sweet Cheeks 2012 Vintner's Reserve Wild Child...      Pinot Noir   \n...                                                   ...             ...   \n129966  Dr. H. Thanisch (Erben Müller-Burggraef) 2013 ...        Riesling   \n129967                  Citation 2004 Pinot Noir (Oregon)      Pinot Noir   \n129968  Domaine Gresser 2013 Kritt Gewurztraminer (Als...  Gewürztraminer   \n129969      Domaine Marcel Deiss 2012 Pinot Gris (Alsace)      Pinot Gris   \n129970  Domaine Schoffit 2012 Lieu-dit Harth Cuvée Car...  Gewürztraminer   \n\n                                          winery taster_twitter_handle_y  \\\n0                                        Nicosia            @kerinokeefe   \n1                            Quinta dos Avidagos              @vossroger   \n2                                      Rainstorm             @paulgwine    \n3                                     St. Julian                      NA   \n4                                   Sweet Cheeks             @paulgwine    \n...                                          ...                     ...   \n129966  Dr. H. Thanisch (Erben Müller-Burggraef)                      NA   \n129967                                  Citation             @paulgwine    \n129968                           Domaine Gresser              @vossroger   \n129969                      Domaine Marcel Deiss              @vossroger   \n129970                          Domaine Schoffit              @vossroger   \n\n        taster_level  \n0                5.0  \n1                5.0  \n2                5.0  \n3                3.0  \n4                5.0  \n...              ...  \n129966           4.0  \n129967           5.0  \n129968           5.0  \n129969           5.0  \n129970           5.0  \n\n[129971 rows x 15 columns]"
     },
     "execution_count": 18,
     "metadata": {},
     "output_type": "execute_result"
    }
   ],
   "source": [
    "# JOIN -- using pd.merge: more concise\r\n",
    "pd.merge(wine_reviews,wine_taster,on='taster_name',how='left')"
   ]
  }
 ],
 "metadata": {
  "interpreter": {
   "hash": "c2bb4c3659b3800c6f5c337833d4b61a13da9254187e1e335ac6d827c94feba0"
  },
  "kernelspec": {
   "display_name": "Python 3.7.2 64-bit",
   "name": "python3"
  },
  "language_info": {
   "codemirror_mode": {
    "name": "ipython",
    "version": 3
   },
   "file_extension": ".py",
   "mimetype": "text/x-python",
   "name": "python",
   "nbconvert_exporter": "python",
   "pygments_lexer": "ipython3",
   "version": "3.7.2"
  },
  "orig_nbformat": 2
 },
 "nbformat": 4,
 "nbformat_minor": 2
}