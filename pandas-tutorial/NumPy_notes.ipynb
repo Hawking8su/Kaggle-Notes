{
 "cells": [
  {
   "cell_type": "markdown",
   "metadata": {},
   "source": [
    "# Numpy Notes\r\n",
    "\r\n",
    "Reference: https://mp.weixin.qq.com/s/77aq0JQs8SX6molSxewOdQ\r\n",
    "\r\n",
    "NumPy的关键用途是实现适用于矩阵和向量的数学运算。"
   ]
  },
  {
   "cell_type": "code",
   "execution_count": 1,
   "metadata": {},
   "outputs": [],
   "source": [
    "import numpy as np "
   ]
  },
  {
   "cell_type": "markdown",
   "metadata": {},
   "source": [
    "## Numpy中的数组操作"
   ]
  },
  {
   "cell_type": "code",
   "execution_count": 4,
   "metadata": {},
   "outputs": [
    {
     "data": {
      "text/plain": "array([0.73153272, 0.82767112, 0.02032306])"
     },
     "execution_count": 4,
     "metadata": {},
     "output_type": "execute_result"
    }
   ],
   "source": [
    "# 创建数组\r\n",
    "np.ones(3)\r\n",
    "np.zeros(3)\r\n",
    "np.random.random(3)"
   ]
  },
  {
   "cell_type": "code",
   "execution_count": 6,
   "metadata": {},
   "outputs": [
    {
     "data": {
      "text/plain": "array([1.6, 3.2])"
     },
     "execution_count": 6,
     "metadata": {},
     "output_type": "execute_result"
    }
   ],
   "source": [
    "# 数组的算术运算\r\n",
    "data = np.array([1,2])\r\n",
    "ones = np.ones(2)\r\n",
    "data + ones\r\n",
    "data * 1.6 # broadcasting"
   ]
  },
  {
   "cell_type": "code",
   "execution_count": 9,
   "metadata": {},
   "outputs": [
    {
     "data": {
      "text/plain": "2"
     },
     "execution_count": 9,
     "metadata": {},
     "output_type": "execute_result"
    }
   ],
   "source": [
    "# 数组的切片操作\r\n",
    "data[0] # return a value\r\n",
    "data[0:] # return a array"
   ]
  },
  {
   "cell_type": "code",
   "execution_count": 11,
   "metadata": {},
   "outputs": [
    {
     "data": {
      "text/plain": "2"
     },
     "execution_count": 11,
     "metadata": {},
     "output_type": "execute_result"
    }
   ],
   "source": [
    "# 聚合函数\r\n",
    "data.max()\r\n",
    "data.min()\r\n",
    "data.sum()\r\n",
    "data.mean()\r\n",
    "data.prod() # product of all elements"
   ]
  },
  {
   "cell_type": "markdown",
   "metadata": {},
   "source": [
    "## NumPy中的矩阵操作"
   ]
  },
  {
   "cell_type": "code",
   "execution_count": 16,
   "metadata": {},
   "outputs": [
    {
     "data": {
      "text/plain": "array([[0.58657812, 0.17240919],\n       [0.39692835, 0.11575789],\n       [0.41764588, 0.7017165 ]])"
     },
     "execution_count": 16,
     "metadata": {},
     "output_type": "execute_result"
    }
   ],
   "source": [
    "# 创建矩阵\r\n",
    "np.array([[1,2],[3,4]]) # input: list[[row1],[row2]]\r\n",
    "np.ones((2,2))  # input: tuple(rows, columns)\r\n",
    "np.zeros((3,2)) \r\n",
    "np.random.random((3,2))"
   ]
  },
  {
   "cell_type": "code",
   "execution_count": 22,
   "metadata": {},
   "outputs": [
    {
     "data": {
      "text/plain": "array([[2., 3.],\n       [4., 5.]])"
     },
     "execution_count": 22,
     "metadata": {},
     "output_type": "execute_result"
    }
   ],
   "source": [
    "# 矩阵的算术运算\r\n",
    "data = np.array([[1,2],[3,4]])\r\n",
    "ones = np.ones((2,2))\r\n",
    "data + ones\r\n",
    "ones_row = np.ones(2)\r\n",
    "data + ones_row  # broadcasting"
   ]
  },
  {
   "cell_type": "code",
   "execution_count": 29,
   "metadata": {},
   "outputs": [
    {
     "data": {
      "text/plain": "6"
     },
     "execution_count": 29,
     "metadata": {},
     "output_type": "execute_result"
    }
   ],
   "source": [
    "# 矩阵的切片\r\n",
    "data = np.array([[1,2],[3,4],[5,6]]) \r\n",
    "data[0,1] # [row_index, column_index]\r\n",
    "data[0:1,] # [row_begin:row_end, col_begin:col_end]\r\n",
    "data[1:3,]\r\n",
    "data[0:2,0]"
   ]
  },
  {
   "cell_type": "code",
   "execution_count": 31,
   "metadata": {},
   "outputs": [
    {
     "data": {
      "text/plain": "array([5, 6])"
     },
     "execution_count": 31,
     "metadata": {},
     "output_type": "execute_result"
    }
   ],
   "source": [
    "# 矩阵的聚合\r\n",
    "data.max() # group all\r\n",
    "data.min()\r\n",
    "data.max(axis =0) # group by column\r\n",
    "data.max(axis =1) # group by row"
   ]
  },
  {
   "cell_type": "code",
   "execution_count": 32,
   "metadata": {},
   "outputs": [
    {
     "data": {
      "text/plain": "array([[1, 3, 5],\n       [2, 4, 6]])"
     },
     "execution_count": 32,
     "metadata": {},
     "output_type": "execute_result"
    }
   ],
   "source": [
    "# 矩阵的转置\r\n",
    "data = np.array([[1,2],[3,4],[5,6]]) \r\n",
    "data.T # 转置"
   ]
  },
  {
   "cell_type": "code",
   "execution_count": 38,
   "metadata": {},
   "outputs": [
    {
     "data": {
      "text/plain": "array([[1, 2],\n       [3, 4],\n       [5, 6]])"
     },
     "execution_count": 38,
     "metadata": {},
     "output_type": "execute_result"
    }
   ],
   "source": [
    "# 矩阵的重构\r\n",
    "data = np.array([1,2,3,4,5,6])\r\n",
    "data\r\n",
    "data.reshape(2,3) # input: reshap(row_count, column_count)\r\n",
    "data.reshape(3,2)"
   ]
  },
  {
   "cell_type": "code",
   "execution_count": 42,
   "metadata": {},
   "outputs": [
    {
     "data": {
      "text/plain": "24.0"
     },
     "execution_count": 42,
     "metadata": {},
     "output_type": "execute_result"
    }
   ],
   "source": [
    "# 多维矩阵\r\n",
    "np.array([\r\n",
    "    [[1,2],[3,4]],\r\n",
    "    [[5,6],[7,8]]\r\n",
    "])\r\n",
    "np.ones((4,3,2))"
   ]
  }
 ],
 "metadata": {
  "interpreter": {
   "hash": "c2bb4c3659b3800c6f5c337833d4b61a13da9254187e1e335ac6d827c94feba0"
  },
  "kernelspec": {
   "display_name": "Python 3.7.2 64-bit",
   "name": "python3"
  },
  "language_info": {
   "name": "python",
   "version": ""
  },
  "orig_nbformat": 2
 },
 "nbformat": 4,
 "nbformat_minor": 2
}