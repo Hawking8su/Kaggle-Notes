{
 "cells": [
  {
   "cell_type": "markdown",
   "metadata": {},
   "source": [
    "# Pandas Tutorial - Kaggle"
   ]
  },
  {
   "cell_type": "markdown",
   "metadata": {},
   "source": [
    "Date: 2021-05-15\r\n",
    "\r\n",
    "Links: https://www.kaggle.com/learn/pandas"
   ]
  },
  {
   "cell_type": "code",
   "execution_count": null,
   "metadata": {},
   "outputs": [],
   "source": [
    "import pandas as pd"
   ]
  },
  {
   "cell_type": "markdown",
   "metadata": {},
   "source": [
    "## Creating, Reading and Writing"
   ]
  },
  {
   "cell_type": "markdown",
   "metadata": {},
   "source": [
    "There are two core objects in pandas: DataFrame and Series"
   ]
  },
  {
   "cell_type": "markdown",
   "metadata": {},
   "source": [
    "### DataFrame"
   ]
  },
  {
   "cell_type": "code",
   "execution_count": null,
   "metadata": {},
   "outputs": [],
   "source": [
    "# Create a Basic DataFrame\r\n",
    "pd.DataFrame({'Bob':['I liked it.','It was awful.'],\r\n",
    "    'Sue':['Pretty good.','Bland.']})"
   ]
  },
  {
   "cell_type": "code",
   "execution_count": null,
   "metadata": {},
   "outputs": [],
   "source": [
    "# Create a DataFrame with index\r\n",
    "pd.DataFrame({'Bob':['I liked it.','It was awful.'],\r\n",
    "    'Sue':['Pretty good.','Bland.']},\r\n",
    "    index = ['Product A','Product B'])"
   ]
  },
  {
   "cell_type": "markdown",
   "metadata": {},
   "source": [
    "### Series"
   ]
  },
  {
   "cell_type": "markdown",
   "metadata": {},
   "source": [
    "A Series is a sequence of data values. If DataFrame is a table, a Series is a list.\r\n",
    "\r\n",
    "A Series is, in essence, a single column of a DataFrame.\r\n",
    "- A Series can have index parameter\r\n",
    "- A Series does not have a column name"
   ]
  },
  {
   "cell_type": "code",
   "execution_count": null,
   "metadata": {},
   "outputs": [],
   "source": [
    "pd.Series([1,2,3,4])"
   ]
  },
  {
   "cell_type": "code",
   "execution_count": null,
   "metadata": {},
   "outputs": [],
   "source": [
    "# Series with index and assigned name\r\n",
    "pd.Series([30, 35, 40], index = ['2015 Sales','2016 Sales','2017 Sales'], name = 'Product A')"
   ]
  },
  {
   "cell_type": "markdown",
   "metadata": {},
   "source": [
    "### Reading data files"
   ]
  },
  {
   "cell_type": "code",
   "execution_count": null,
   "metadata": {},
   "outputs": [],
   "source": [
    "wine_reviews = pd.read_csv(\"./data/winemag-data/winemag-data-130k-v2.csv\")"
   ]
  },
  {
   "cell_type": "code",
   "execution_count": null,
   "metadata": {},
   "outputs": [],
   "source": [
    "# shape attribues: return row and column count\r\n",
    "wine_reviews.shape"
   ]
  },
  {
   "cell_type": "code",
   "execution_count": null,
   "metadata": {},
   "outputs": [],
   "source": [
    "# show the first 5 rows \r\n",
    "wine_reviews.head()"
   ]
  },
  {
   "cell_type": "code",
   "execution_count": null,
   "metadata": {},
   "outputs": [],
   "source": [
    "# read_csv(): specify the 1st column as a index column using index_col\r\n",
    "wine_reviews = pd.read_csv('./data/winemag-data/winemag-data-130k-v2.csv', index_col=0)\r\n",
    "wine_reviews.head()"
   ]
  },
  {
   "cell_type": "markdown",
   "metadata": {},
   "source": [
    "## Indexing, Selecting & Assigning"
   ]
  },
  {
   "cell_type": "code",
   "execution_count": null,
   "metadata": {},
   "outputs": [],
   "source": [
    "# Access column using table.column_name\r\n",
    "wine_reviews.country"
   ]
  },
  {
   "cell_type": "code",
   "execution_count": null,
   "metadata": {},
   "outputs": [],
   "source": [
    "# Accessing column using ['colum_name']\r\n",
    "wine_reviews['country']"
   ]
  },
  {
   "cell_type": "code",
   "execution_count": null,
   "metadata": {},
   "outputs": [],
   "source": [
    "# Select the first row of column 'country'\r\n",
    "wine_reviews['country'][0]"
   ]
  },
  {
   "cell_type": "markdown",
   "metadata": {},
   "source": [
    "### Indexing in pandas"
   ]
  },
  {
   "cell_type": "markdown",
   "metadata": {},
   "source": [
    "Pandas indexing works in one of 2 paradigms:\r\n",
    "- index-based selection `iloc`: selecting data based on its numerical position in the data\r\n",
    "- label-based selection `loc`: selecting data based on its data index value, not its position"
   ]
  },
  {
   "cell_type": "markdown",
   "metadata": {},
   "source": [
    "**Index-based selection** `iloc`"
   ]
  },
  {
   "cell_type": "code",
   "execution_count": null,
   "metadata": {},
   "outputs": [],
   "source": [
    "wine_reviews.iloc[0] # select the first row"
   ]
  },
  {
   "cell_type": "markdown",
   "metadata": {},
   "source": [
    "Both loc and iloc are row-first, column-second. This means that it's marginally easier to retrieve rows, and marginally harder to get retrieve columns."
   ]
  },
  {
   "cell_type": "code",
   "execution_count": null,
   "metadata": {},
   "outputs": [],
   "source": [
    "wine_reviews.iloc[:, 0] # retrieve the first column"
   ]
  },
  {
   "cell_type": "markdown",
   "metadata": {},
   "source": [
    "On its own, the `:` operator means \"everything\". However, it can be used to indicate a range of values. "
   ]
  },
  {
   "cell_type": "code",
   "execution_count": null,
   "metadata": {},
   "outputs": [],
   "source": [
    "wine_reviews.iloc[:3, 0] # select the top 3 rows of the 1st column"
   ]
  },
  {
   "cell_type": "code",
   "execution_count": null,
   "metadata": {},
   "outputs": [],
   "source": [
    "wine_reviews.iloc[[0,1,2], 0] # select the top 1st, 2nd, 3rd row of the 1st column"
   ]
  },
  {
   "cell_type": "code",
   "execution_count": null,
   "metadata": {},
   "outputs": [],
   "source": [
    "wine_reviews.iloc[-5:,] # select the last 5 rows using negative number"
   ]
  },
  {
   "cell_type": "code",
   "execution_count": null,
   "metadata": {},
   "outputs": [],
   "source": [
    "wine_reviews['country'].iloc[:1] # `iloc` can also be used in Series"
   ]
  },
  {
   "cell_type": "markdown",
   "metadata": {},
   "source": [
    "**Label-based selection** `loc`"
   ]
  },
  {
   "cell_type": "code",
   "execution_count": null,
   "metadata": {},
   "outputs": [],
   "source": [
    "wine_reviews.loc[0, 'country'] # select the 1st row of column country"
   ]
  },
  {
   "cell_type": "code",
   "execution_count": null,
   "metadata": {},
   "outputs": [],
   "source": [
    "wine_reviews.loc[:, ['taster_name', 'taster_twitter_handle', 'points']] # select all rows in columns specified"
   ]
  },
  {
   "cell_type": "markdown",
   "metadata": {},
   "source": [
    "Choosing between `loc` and `iloc`:\r\n",
    "- `iloc` is conceptually simpler than `loc`, while `loc` can access data directly using index values(such as column names)\r\n",
    "- Gotcha: `iloc` use Python stdlib indexing scheme, where the 1st element of the range is included and the last one excluded. So `0:10` will select entries `0,...,9`. Meanwhile, indexes used in `loc` is inclusive, so `0:10` will select entries `0,...,10`.\r\n"
   ]
  },
  {
   "cell_type": "code",
   "execution_count": null,
   "metadata": {},
   "outputs": [],
   "source": [
    "# Exercises\r\n",
    "# Create a variable df containing the country and variety columns of the first 100 records.\r\n",
    "df = wine_reviews.loc[:99,['country','variety']]"
   ]
  },
  {
   "cell_type": "markdown",
   "metadata": {},
   "source": [
    "### Manipulating the index\r\n",
    "\r\n",
    "Label-based selection `loc` derives its power from the labels in the index. Critically, the index we use is ot immutable.\r\n"
   ]
  },
  {
   "cell_type": "code",
   "execution_count": null,
   "metadata": {},
   "outputs": [],
   "source": [
    "wine_reviews.set_index('title') # set column title as index column \r\n",
    "## note this will not change the dataframe index, you will have to assign to a new dataframe`"
   ]
  },
  {
   "cell_type": "markdown",
   "metadata": {},
   "source": [
    "### Conditional Selection"
   ]
  },
  {
   "cell_type": "code",
   "execution_count": null,
   "metadata": {},
   "outputs": [],
   "source": [
    "# return a Series of True/False\r\n",
    "wine_reviews['country'] == 'Italy' "
   ]
  },
  {
   "cell_type": "code",
   "execution_count": null,
   "metadata": {},
   "outputs": [],
   "source": [
    "# select rows where country = Italy using loc + Series\r\n",
    "wine_reviews.loc[wine_reviews['country'] == 'Italy'] "
   ]
  },
  {
   "cell_type": "code",
   "execution_count": null,
   "metadata": {},
   "outputs": [],
   "source": [
    "# `&`: and\r\n",
    "# select rows where country = Italy and points >= 90 \r\n",
    "wine_reviews.loc[(wine_reviews['country'] == 'Italy') & (wine_reviews['points'] >= 90)] "
   ]
  },
  {
   "cell_type": "code",
   "execution_count": null,
   "metadata": {},
   "outputs": [],
   "source": [
    "# `|`: or\r\n",
    "# select rows where country = Italy or points >=90\r\n",
    "wine_reviews.loc[(wine_reviews['country'] == 'Italy') | (wine_reviews['points'] >= 90)] "
   ]
  },
  {
   "cell_type": "code",
   "execution_count": null,
   "metadata": {},
   "outputs": [],
   "source": [
    "# `isin`: in\r\n",
    "# select rows where country is Italy or France\r\n",
    "wine_reviews.loc[wine_reviews['country'].isin(['Italy','France'])]"
   ]
  },
  {
   "cell_type": "code",
   "execution_count": null,
   "metadata": {},
   "outputs": [],
   "source": [
    "# `isnull` and `notnull`: is null and is not null\r\n",
    "# select rows where price is not null\r\n",
    "wine_reviews.loc[wine_reviews['price'].notnull()]"
   ]
  },
  {
   "cell_type": "markdown",
   "metadata": {},
   "source": [
    "### Assigning data"
   ]
  },
  {
   "cell_type": "code",
   "execution_count": null,
   "metadata": {},
   "outputs": [],
   "source": [
    "# Assign constant value to a column\r\n",
    "# note if the column('critic') doesn't exists, a new column will be created.\r\n",
    "wine_reviews['critic'] = 'everyone'\r\n",
    "wine_reviews['critic']"
   ]
  },
  {
   "cell_type": "code",
   "execution_count": null,
   "metadata": {},
   "outputs": [],
   "source": [
    "# Assign a iterable value to a column\r\n",
    "wine_reviews['index_backwards'] = range(len(wine_reviews), 0,-1)\r\n",
    "wine_reviews['index_backwards']"
   ]
  },
  {
   "cell_type": "markdown",
   "metadata": {},
   "source": [
    "Notes: \r\n",
    "- Be careful to distinguish `[]` and `()` when selecting data; also be aware the input data types inside a method's `()`."
   ]
  },
  {
   "cell_type": "markdown",
   "metadata": {},
   "source": [
    "## Summary Functions and Maps"
   ]
  },
  {
   "cell_type": "markdown",
   "metadata": {},
   "source": [
    "### Summary Functions"
   ]
  },
  {
   "cell_type": "code",
   "execution_count": null,
   "metadata": {},
   "outputs": [],
   "source": [
    "# describe() of a Series of numeric values\r\n",
    "wine_reviews.points.describe()"
   ]
  },
  {
   "cell_type": "code",
   "execution_count": null,
   "metadata": {},
   "outputs": [],
   "source": [
    "# desribe() of a categorical Series\r\n",
    "wine_reviews.taster_name.describe()"
   ]
  },
  {
   "cell_type": "code",
   "execution_count": null,
   "metadata": {},
   "outputs": [],
   "source": [
    "wine_reviews.points.mean()"
   ]
  },
  {
   "cell_type": "code",
   "execution_count": null,
   "metadata": {},
   "outputs": [],
   "source": [
    "# retrieve list of unqiue values\r\n",
    "wine_reviews.taster_name.unique()"
   ]
  },
  {
   "cell_type": "code",
   "execution_count": null,
   "metadata": {},
   "outputs": [],
   "source": [
    "# retrieve values and counts. In SQL: select value, count(1) cnt from table group by value\r\n",
    "wine_reviews.taster_name.value_counts()"
   ]
  },
  {
   "cell_type": "markdown",
   "metadata": {},
   "source": [
    "### Maps"
   ]
  },
  {
   "cell_type": "markdown",
   "metadata": {},
   "source": [
    "A map is a term for a function that takes one set of values and maps them to another set of values.\r\n",
    "\r\n",
    "There are two mapping methods that you will use often:\r\n",
    "- `map()`: map(function, list_inputs), or list_inputs.map(function)\r\n",
    "- `apply()`: DataFrame.apply(function, axis= 'columns') -- means apply function to each row of the DataFrame\r\n",
    "- Note that `map()` and `apply()` return new, transformed Series and DataFrames, respectively. They don't modify the original data they're called on."
   ]
  },
  {
   "cell_type": "code",
   "execution_count": null,
   "metadata": {},
   "outputs": [],
   "source": [
    "# map() example: remean the scores the wines received to 0.\r\n",
    "review_points_mean = wine_reviews.points.mean()\r\n",
    "wine_reviews.points.map(lambda p: p - review_points_mean)"
   ]
  },
  {
   "cell_type": "code",
   "execution_count": null,
   "metadata": {},
   "outputs": [],
   "source": [
    "# apply() same example\r\n",
    "def remean_points(row):\r\n",
    "    row.points = row.points - review_points_mean\r\n",
    "    return row\r\n",
    "\r\n",
    "wine_reviews.apply(remean_points, axis = 'columns')"
   ]
  },
  {
   "cell_type": "markdown",
   "metadata": {},
   "source": [
    "Pandas provides many common mapping operations as built-ins.\r\n",
    "- Series type + singe value type operation => map automatically\r\n",
    "- Series type + Series type operation=> combine automatically"
   ]
  },
  {
   "cell_type": "code",
   "execution_count": null,
   "metadata": {},
   "outputs": [],
   "source": [
    "# Series type + single values type\r\n",
    "review_points_mean = wine_reviews.points.mean()\r\n",
    "wine_reviews.points - review_points_mean"
   ]
  },
  {
   "cell_type": "code",
   "execution_count": null,
   "metadata": {},
   "outputs": [],
   "source": [
    "# Series type + Series type \r\n",
    "wine_reviews.country + '-' + wine_reviews.region_1"
   ]
  },
  {
   "cell_type": "code",
   "execution_count": null,
   "metadata": {},
   "outputs": [],
   "source": [
    "# Solution:idxmax() of Series + loc \r\n",
    "bargain_idx = (wine_reviews.points/wine_reviews.price).idxmax()\r\n",
    "bargain_wine = wine_reviews.loc[bargain_idx, 'title']\r\n",
    "print(bargain_wine)"
   ]
  },
  {
   "cell_type": "code",
   "execution_count": null,
   "metadata": {},
   "outputs": [],
   "source": [
    "# My Solution: new column + select -- more verbose, but return the right result: \r\n",
    "#   there are 2 wine with the highest points/price ratios\r\n",
    "wine_reviews['pp_ratios'] = wine_reviews.points/wine_reviews.price\r\n",
    "bargain_wine = wine_reviews.title.loc[wine_reviews.pp_ratios == wine_reviews.pp_ratios.max()]\r\n",
    "print(bargain_wine)"
   ]
  },
  {
   "cell_type": "markdown",
   "metadata": {},
   "source": [
    "**Exercises**"
   ]
  },
  {
   "cell_type": "markdown",
   "metadata": {},
   "source": [
    "1. There are only so many words you can use when describing a bottle of wine. Is a wine more likely to be \"tropical\" or \"fruity\"? Create a Series descriptor_counts counting how many times each of these two words appears in the description column in the dataset."
   ]
  },
  {
   "cell_type": "code",
   "execution_count": null,
   "metadata": {},
   "outputs": [],
   "source": [
    "n_trop = wine_reviews.description.map(lambda desc: \"tropical\" in desc).sum()\r\n",
    "n_fruity = wine_reviews.description.map(lambda desc: \"fruity\" in desc).sum()\r\n",
    "descriptor_counts = pd.Series([n_trop,n_fruity], index=['tropical','fruity'])\r\n",
    "print(descriptor_counts)\r\n",
    "# Quick takeaway: \r\n",
    "# - when deals with string without using regex, it's simple to deal one condition one at a time\r\n",
    "# - always remember `in` in string is the `instr` in sql: check for existence. There is no method simply achieve it after string\r\n",
    "# - index in DataFrame is useful when you want to label the row data\r\n"
   ]
  },
  {
   "cell_type": "markdown",
   "metadata": {},
   "source": [
    "2. We'd like to host these wine reviews on our website, but a rating system ranging from 80 to 100 points is too hard to understand - we'd like to translate them into simple star ratings. A score of 95 or higher counts as 3 stars, a score of at least 85 but less than 95 is 2 stars. Any other score is 1 star.\r\n",
    "\r\n",
    "    Also, the Canadian Vintners Association bought a lot of ads on the site, so any wines from Canada should automatically get 3 stars, regardless of points.\r\n",
    "\r\n",
    "    Create a series star_ratings with the number of stars corresponding to each review in the dataset."
   ]
  },
  {
   "cell_type": "code",
   "execution_count": null,
   "metadata": {},
   "outputs": [],
   "source": [
    "def rate_star(row):\r\n",
    "    star = 0 \r\n",
    "    if (row.points>=95 or row.country == 'Cananda'):\r\n",
    "        star = 3\r\n",
    "    elif (row.points<95 and row.points>=85):\r\n",
    "        star = 2\r\n",
    "    else:\r\n",
    "        star = 1\r\n",
    "    return star\r\n",
    "        \r\n",
    "star_ratings = wine_reviews.apply(rate_star, axis=\"columns\")\r\n",
    "print(star_ratings)"
   ]
  },
  {
   "cell_type": "markdown",
   "metadata": {},
   "source": [
    "## Grouping and Sorting"
   ]
  },
  {
   "cell_type": "markdown",
   "metadata": {},
   "source": [
    "### Groupwise analysis"
   ]
  },
  {
   "cell_type": "code",
   "execution_count": null,
   "metadata": {},
   "outputs": [],
   "source": [
    "pd.set_option(\"display.max_rows\", 5)\r\n"
   ]
  },
  {
   "cell_type": "code",
   "execution_count": null,
   "metadata": {},
   "outputs": [],
   "source": [
    "# realize value_counts() using groupby()\r\n",
    "df = wine_reviews.groupby('points')  # this creates a special groupby object\r\n",
    "df.points.count() # count different points"
   ]
  },
  {
   "cell_type": "code",
   "execution_count": null,
   "metadata": {},
   "outputs": [],
   "source": [
    "df.price.min() # get the min price of each point group"
   ]
  },
  {
   "cell_type": "markdown",
   "metadata": {},
   "source": [
    "You can think of each group we generate as being a slice of our DataFrame containing only data with values that match. This DataFrame is accessable to us directly using the `apply()` method"
   ]
  },
  {
   "cell_type": "code",
   "execution_count": null,
   "metadata": {},
   "outputs": [],
   "source": [
    "# select the name of the first wine reviewed from each winery \r\n",
    "wine_reviews.groupby('winery').apply(lambda df: df.title.iloc[0])"
   ]
  },
  {
   "cell_type": "code",
   "execution_count": null,
   "metadata": {},
   "outputs": [],
   "source": [
    "# group by two columns and select the wine with highest point\r\n",
    "wine_reviews.groupby(['country','province']).apply(lambda df: df.loc[df.points.idxmax()])"
   ]
  },
  {
   "cell_type": "code",
   "execution_count": null,
   "metadata": {},
   "outputs": [],
   "source": [
    "# use groupby() + agg() to run a bunch of different functions simultaneously\r\n",
    "wine_reviews.groupby(['country']).price.agg([len, min, max])\r\n",
    "## note len(df) returns the row count of the DataFrame"
   ]
  },
  {
   "cell_type": "markdown",
   "metadata": {},
   "source": [
    "### Multi-indexes\r\n",
    "A multi-index differs from a regular index in that it has multiple levels."
   ]
  },
  {
   "cell_type": "code",
   "execution_count": null,
   "metadata": {},
   "outputs": [],
   "source": [
    "# count the number of reviews for each province\r\n",
    "countries_reviewed = wine_reviews.groupby(['country','province']).description.agg([len])\r\n",
    "countries_reviewed\r\n",
    "## note: the result df has multiple levels"
   ]
  },
  {
   "cell_type": "code",
   "execution_count": null,
   "metadata": {},
   "outputs": [],
   "source": [
    "mi = countries_reviewed.index\r\n",
    "type(mi)"
   ]
  },
  {
   "cell_type": "markdown",
   "metadata": {},
   "source": [
    " in general the multi-index method you will use most often is the one for converting back to a regular index, the `reset_index()` method:"
   ]
  },
  {
   "cell_type": "code",
   "execution_count": null,
   "metadata": {},
   "outputs": [],
   "source": [
    "countries_reviewed.reset_index() # convert multiple index to single index"
   ]
  },
  {
   "cell_type": "markdown",
   "metadata": {},
   "source": [
    "### Sorting"
   ]
  },
  {
   "cell_type": "code",
   "execution_count": null,
   "metadata": {},
   "outputs": [],
   "source": [
    "countries_reviewed = countries_reviewed.reset_index()\r\n",
    "countries_reviewed.sort_values(by = 'len') # sort df by column `len` in ascending order"
   ]
  },
  {
   "cell_type": "code",
   "execution_count": null,
   "metadata": {},
   "outputs": [],
   "source": [
    "countries_reviewed.sort_values(by = 'len', ascending=False) # sort df by column `len` in descending order"
   ]
  },
  {
   "cell_type": "code",
   "execution_count": null,
   "metadata": {},
   "outputs": [],
   "source": [
    "countries_reviewed.sort_index() # sort by index(default order mode)"
   ]
  },
  {
   "cell_type": "code",
   "execution_count": null,
   "metadata": {},
   "outputs": [],
   "source": [
    "# sort by 2 column\r\n",
    "countries_reviewed.sort_values(by = ['country','len']) "
   ]
  },
  {
   "cell_type": "markdown",
   "metadata": {},
   "source": [
    "#### Excercises"
   ]
  },
  {
   "cell_type": "markdown",
   "metadata": {},
   "source": [
    "1. Who are the most common wine reviewers in the dataset? Create a Series whose index is the taster_twitter_handle category from the dataset, and whose values count how many reviews each person wrote."
   ]
  },
  {
   "cell_type": "code",
   "execution_count": null,
   "metadata": {},
   "outputs": [],
   "source": [
    "reviews_written = wine_reviews.groupby('taster_twitter_handle').size()\r\n",
    "# or\r\n",
    "reviews_written = wine_reviews.groupby('taster_twitter_handle').taster_twitter_handle.count()"
   ]
  },
  {
   "cell_type": "markdown",
   "metadata": {},
   "source": [
    "2. What is the best wine I can buy for a given amount of money? Create a Series whose index is wine prices and whose values is the maximum number of points a wine costing that much was given in a review. Sort the values by price, ascending (so that 4.0 dollars is at the top and 3300.0 dollars is at the bottom)."
   ]
  },
  {
   "cell_type": "code",
   "execution_count": null,
   "metadata": {},
   "outputs": [],
   "source": [
    "best_rating_per_price = wine_reviews.groupby('price').points.max().sort_index()\r\n",
    "print(best_rating_per_price)"
   ]
  },
  {
   "cell_type": "markdown",
   "metadata": {},
   "source": [
    "3. What are the minimum and maximum prices for each variety of wine? Create a DataFrame whose index is the variety category from the dataset and whose values are the min and max values thereof."
   ]
  },
  {
   "cell_type": "code",
   "execution_count": null,
   "metadata": {},
   "outputs": [],
   "source": [
    "price_extremes = wine_reviews.groupby('variety').price.agg([min, max])\r\n",
    "print(price_extremes)"
   ]
  },
  {
   "cell_type": "markdown",
   "metadata": {},
   "source": [
    "4. What are the most expensive wine varieties? Create a variable sorted_varieties containing a copy of the dataframe from the previous question where varieties are sorted in descending order based on minimum price, then on maximum price (to break ties)."
   ]
  },
  {
   "cell_type": "code",
   "execution_count": null,
   "metadata": {},
   "outputs": [],
   "source": [
    "sorted_varieties = price_extremes.sort_values(by=['min', 'max'], ascending=False)\r\n",
    "print(sorted_varieties)"
   ]
  },
  {
   "cell_type": "markdown",
   "metadata": {},
   "source": [
    "5. Create a Series whose index is reviewers and whose values is the average review score given out by that reviewer. Hint: you will need the taster_name and points columns."
   ]
  },
  {
   "cell_type": "code",
   "execution_count": null,
   "metadata": {},
   "outputs": [],
   "source": [
    "reviewer_mean_ratings = wine_reviews.groupby('taster_name').points.mean()\r\n",
    "print(reviewer_mean_ratings)"
   ]
  },
  {
   "cell_type": "markdown",
   "metadata": {},
   "source": [
    "## Data Types and Missing Values"
   ]
  },
  {
   "cell_type": "markdown",
   "metadata": {},
   "source": [
    "### Dtypes\r\n",
    " "
   ]
  },
  {
   "cell_type": "code",
   "execution_count": null,
   "metadata": {},
   "outputs": [],
   "source": [
    "# `dtype` property on DataFrame or Series\r\n",
    "wine_reviews.price.dtype"
   ]
  },
  {
   "cell_type": "code",
   "execution_count": null,
   "metadata": {},
   "outputs": [],
   "source": [
    "wine_reviews.dtypes"
   ]
  },
  {
   "cell_type": "markdown",
   "metadata": {},
   "source": [
    "One peculiarity to keep in mind is that columns consisting of entirely of strings do not get their own type; they are instead given the `object` type."
   ]
  },
  {
   "cell_type": "code",
   "execution_count": null,
   "metadata": {},
   "outputs": [],
   "source": [
    "# use `astype` to convert format\r\n",
    "wine_reviews.points.astype('float64')"
   ]
  },
  {
   "cell_type": "code",
   "execution_count": null,
   "metadata": {},
   "outputs": [],
   "source": [
    "# A DataFrame or Series index has its own `dtype` too\r\n",
    "wine_reviews.index.dtype"
   ]
  },
  {
   "cell_type": "markdown",
   "metadata": {},
   "source": [
    "### Missing data"
   ]
  },
  {
   "cell_type": "markdown",
   "metadata": {},
   "source": [
    "Entries missing values are given the value `NaN`, short for \"Not a Number\". For technical reasons these `NaN` values are always of the `float64` dtype."
   ]
  },
  {
   "cell_type": "code",
   "execution_count": null,
   "metadata": {},
   "outputs": [],
   "source": [
    "# use pd.isnull() and pd.notnull() to work with NaN data\r\n",
    "wine_reviews[pd.isnull(wine_reviews.country)]"
   ]
  },
  {
   "cell_type": "code",
   "execution_count": null,
   "metadata": {},
   "outputs": [],
   "source": [
    "# replacing missing values using `fillna()`\r\n",
    "wine_reviews['region_2'].fillna('Unknown')"
   ]
  },
  {
   "cell_type": "code",
   "execution_count": null,
   "metadata": {},
   "outputs": [],
   "source": [
    "# replacing non-null value using `replace()`\r\n",
    "wine_reviews.taster_twitter_handle.replace('@kerinokeefe','@kerino')"
   ]
  },
  {
   "cell_type": "markdown",
   "metadata": {},
   "source": [
    "#### Exercise"
   ]
  },
  {
   "cell_type": "markdown",
   "metadata": {},
   "source": [
    "1. Sometimes the price column is null. How many reviews in the dataset are missing a price?"
   ]
  },
  {
   "cell_type": "code",
   "execution_count": null,
   "metadata": {},
   "outputs": [],
   "source": [
    "# solution 1:\r\n",
    "missing_price_reviews = wine_reviews[wine_reviews.price.isnull()]\r\n",
    "n_missing_prices = len(missing_price_reviews)\r\n",
    "# solution 2:\r\n",
    "n_missing_prices = wine_reviews.price.isnull().sum()\r\n",
    "# or equivalently:\r\n",
    "n_missing_prices = pd.isnull(wine_reviews.price).sum()"
   ]
  },
  {
   "cell_type": "markdown",
   "metadata": {},
   "source": [
    "## Renaming and Combining"
   ]
  },
  {
   "cell_type": "markdown",
   "metadata": {},
   "source": [
    "### Renaming\r\n",
    "\r\n",
    "`rename()` lets you rename index or column values by specifying a index or column keyword parameter, respectively."
   ]
  },
  {
   "cell_type": "code",
   "execution_count": null,
   "metadata": {},
   "outputs": [],
   "source": [
    "wine_reviews.rename(columns = {'points':'score'})"
   ]
  },
  {
   "cell_type": "code",
   "execution_count": null,
   "metadata": {},
   "outputs": [],
   "source": [
    "# rename line index\r\n",
    "wine_reviews.rename(index = {0:'firstEntry', 1:'secondEntry'})\r\n",
    "## note: rename index is rarely, `set_index()` is usually more convenient"
   ]
  },
  {
   "cell_type": "markdown",
   "metadata": {},
   "source": [
    "You'll probably rename columns very often, but rename index values very rarely. For that, set_index() is usually more convenient.\r\n",
    "\r\n",
    "Both the row index and the column index can have their own name attribute. The complimentary rename_axis() method may be used to change these names."
   ]
  },
  {
   "cell_type": "code",
   "execution_count": null,
   "metadata": {},
   "outputs": [],
   "source": [
    "wine_reviews.rename_axis('wines', axis= 'rows').rename_axis('fields', axis='columns')"
   ]
  },
  {
   "cell_type": "markdown",
   "metadata": {},
   "source": [
    "### Combining"
   ]
  },
  {
   "cell_type": "markdown",
   "metadata": {},
   "source": [
    "Pandas has three core methods for combining: \r\n",
    "- `concat()`: concat DataFrame horizontally\r\n",
    "- `join()`: join data vertically\r\n",
    "- `merge()`: can be done by `join`, omitted."
   ]
  },
  {
   "cell_type": "code",
   "execution_count": null,
   "metadata": {},
   "outputs": [],
   "source": [
    "# concat() \r\n",
    "canadian_youtube = pd.read_csv(\"./data/youtube-data/CAvideos.csv\")\r\n",
    "british_youtube = pd.read_csv(\"./data/youtube-data/GBvideos.csv\")\r\n",
    "\r\n",
    "comb_youtube = pd.concat([canadian_youtube,british_youtube])\r\n",
    "print(comb_youtube.shape)"
   ]
  },
  {
   "cell_type": "code",
   "execution_count": null,
   "metadata": {},
   "outputs": [],
   "source": [
    "# join(): \r\n",
    "# Example: pull down videos that happened to be trending on the same day in both Canada and the UK\r\n",
    "\r\n",
    "# step 1: set join key column to index\r\n",
    "left = canadian_youtube.set_index(['title','trending_date'])\r\n",
    "right = british_youtube.set_index(['title','trending_date'])\r\n",
    "# step 2: join \r\n",
    "left.join(right, lsuffix='_CAN', rsuffix='_UK')"
   ]
  }
 ],
 "metadata": {
  "interpreter": {
   "hash": "c2bb4c3659b3800c6f5c337833d4b61a13da9254187e1e335ac6d827c94feba0"
  },
  "kernelspec": {
   "display_name": "Python 3.7.2 64-bit",
   "name": "python3"
  },
  "language_info": {
   "name": "python",
   "version": ""
  },
  "orig_nbformat": 3
 },
 "nbformat": 4,
 "nbformat_minor": 2
}