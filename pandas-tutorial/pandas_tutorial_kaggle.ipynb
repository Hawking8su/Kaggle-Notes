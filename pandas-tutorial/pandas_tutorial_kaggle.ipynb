{
 "cells": [
  {
   "cell_type": "markdown",
   "metadata": {},
   "source": [
    "# Pandas Tutorial - Kaggle"
   ]
  },
  {
   "cell_type": "markdown",
   "metadata": {},
   "source": [
    "Date: 2021-05-15\r\n",
    "\r\n",
    "Links: https://www.kaggle.com/learn/pandas"
   ]
  },
  {
   "cell_type": "code",
   "execution_count": 1,
   "metadata": {},
   "outputs": [],
   "source": [
    "import pandas as pd"
   ]
  },
  {
   "cell_type": "markdown",
   "metadata": {},
   "source": [
    "## Creating, Reading and Writing"
   ]
  },
  {
   "cell_type": "markdown",
   "metadata": {},
   "source": [
    "There are two core objects in pandas: DataFrame and Series"
   ]
  },
  {
   "cell_type": "markdown",
   "metadata": {},
   "source": [
    "### DataFrame"
   ]
  },
  {
   "cell_type": "code",
   "execution_count": 2,
   "metadata": {},
   "outputs": [
    {
     "data": {
      "text/html": "<div>\n<style scoped>\n    .dataframe tbody tr th:only-of-type {\n        vertical-align: middle;\n    }\n\n    .dataframe tbody tr th {\n        vertical-align: top;\n    }\n\n    .dataframe thead th {\n        text-align: right;\n    }\n</style>\n<table border=\"1\" class=\"dataframe\">\n  <thead>\n    <tr style=\"text-align: right;\">\n      <th></th>\n      <th>Bob</th>\n      <th>Sue</th>\n    </tr>\n  </thead>\n  <tbody>\n    <tr>\n      <th>0</th>\n      <td>I liked it.</td>\n      <td>Pretty good.</td>\n    </tr>\n    <tr>\n      <th>1</th>\n      <td>It was awful.</td>\n      <td>Bland.</td>\n    </tr>\n  </tbody>\n</table>\n</div>",
      "text/plain": "             Bob           Sue\n0    I liked it.  Pretty good.\n1  It was awful.        Bland."
     },
     "execution_count": 2,
     "metadata": {},
     "output_type": "execute_result"
    }
   ],
   "source": [
    "# Create a Basic DataFrame\r\n",
    "pd.DataFrame({'Bob':['I liked it.','It was awful.'],\r\n",
    "    'Sue':['Pretty good.','Bland.']})"
   ]
  },
  {
   "cell_type": "code",
   "execution_count": 3,
   "metadata": {},
   "outputs": [
    {
     "data": {
      "text/html": "<div>\n<style scoped>\n    .dataframe tbody tr th:only-of-type {\n        vertical-align: middle;\n    }\n\n    .dataframe tbody tr th {\n        vertical-align: top;\n    }\n\n    .dataframe thead th {\n        text-align: right;\n    }\n</style>\n<table border=\"1\" class=\"dataframe\">\n  <thead>\n    <tr style=\"text-align: right;\">\n      <th></th>\n      <th>Bob</th>\n      <th>Sue</th>\n    </tr>\n  </thead>\n  <tbody>\n    <tr>\n      <th>Product A</th>\n      <td>I liked it.</td>\n      <td>Pretty good.</td>\n    </tr>\n    <tr>\n      <th>Product B</th>\n      <td>It was awful.</td>\n      <td>Bland.</td>\n    </tr>\n  </tbody>\n</table>\n</div>",
      "text/plain": "                     Bob           Sue\nProduct A    I liked it.  Pretty good.\nProduct B  It was awful.        Bland."
     },
     "execution_count": 3,
     "metadata": {},
     "output_type": "execute_result"
    }
   ],
   "source": [
    "# Create a DataFrame with index\r\n",
    "pd.DataFrame({'Bob':['I liked it.','It was awful.'],\r\n",
    "    'Sue':['Pretty good.','Bland.']},\r\n",
    "    index = ['Product A','Product B'])"
   ]
  },
  {
   "cell_type": "markdown",
   "metadata": {},
   "source": [
    "### Series"
   ]
  },
  {
   "cell_type": "markdown",
   "metadata": {},
   "source": [
    "A Series is a sequence of data values. If DataFrame is a table, a Series is a list.\r\n",
    "\r\n",
    "A Series is, in essence, a single column of a DataFrame.\r\n",
    "- A Series can have index parameter\r\n",
    "- A Series does not have a column name"
   ]
  },
  {
   "cell_type": "code",
   "execution_count": 4,
   "metadata": {},
   "outputs": [
    {
     "data": {
      "text/plain": "0    1\n1    2\n2    3\n3    4\ndtype: int64"
     },
     "execution_count": 4,
     "metadata": {},
     "output_type": "execute_result"
    }
   ],
   "source": [
    "pd.Series([1,2,3,4])"
   ]
  },
  {
   "cell_type": "code",
   "execution_count": 5,
   "metadata": {},
   "outputs": [
    {
     "data": {
      "text/plain": "2015 Sales    30\n2016 Sales    35\n2017 Sales    40\nName: Product A, dtype: int64"
     },
     "execution_count": 5,
     "metadata": {},
     "output_type": "execute_result"
    }
   ],
   "source": [
    "# Series with index and assigned name\r\n",
    "pd.Series([30, 35, 40], index = ['2015 Sales','2016 Sales','2017 Sales'], name = 'Product A')"
   ]
  },
  {
   "cell_type": "markdown",
   "metadata": {},
   "source": [
    "### Reading data files"
   ]
  },
  {
   "cell_type": "code",
   "execution_count": 6,
   "metadata": {},
   "outputs": [],
   "source": [
    "wine_reviews = pd.read_csv(\"./data/winemag-data/winemag-data-130k-v2.csv\")"
   ]
  },
  {
   "cell_type": "code",
   "execution_count": 7,
   "metadata": {},
   "outputs": [
    {
     "data": {
      "text/plain": "(129971, 14)"
     },
     "execution_count": 7,
     "metadata": {},
     "output_type": "execute_result"
    }
   ],
   "source": [
    "# shape attribues: return row and column count\r\n",
    "wine_reviews.shape"
   ]
  },
  {
   "cell_type": "code",
   "execution_count": 8,
   "metadata": {},
   "outputs": [
    {
     "data": {
      "text/html": "<div>\n<style scoped>\n    .dataframe tbody tr th:only-of-type {\n        vertical-align: middle;\n    }\n\n    .dataframe tbody tr th {\n        vertical-align: top;\n    }\n\n    .dataframe thead th {\n        text-align: right;\n    }\n</style>\n<table border=\"1\" class=\"dataframe\">\n  <thead>\n    <tr style=\"text-align: right;\">\n      <th></th>\n      <th>Unnamed: 0</th>\n      <th>country</th>\n      <th>description</th>\n      <th>designation</th>\n      <th>points</th>\n      <th>price</th>\n      <th>province</th>\n      <th>region_1</th>\n      <th>region_2</th>\n      <th>taster_name</th>\n      <th>taster_twitter_handle</th>\n      <th>title</th>\n      <th>variety</th>\n      <th>winery</th>\n    </tr>\n  </thead>\n  <tbody>\n    <tr>\n      <th>0</th>\n      <td>0</td>\n      <td>Italy</td>\n      <td>Aromas include tropical fruit, broom, brimston...</td>\n      <td>Vulkà Bianco</td>\n      <td>87</td>\n      <td>NaN</td>\n      <td>Sicily &amp; Sardinia</td>\n      <td>Etna</td>\n      <td>NaN</td>\n      <td>Kerin O’Keefe</td>\n      <td>@kerinokeefe</td>\n      <td>Nicosia 2013 Vulkà Bianco  (Etna)</td>\n      <td>White Blend</td>\n      <td>Nicosia</td>\n    </tr>\n    <tr>\n      <th>1</th>\n      <td>1</td>\n      <td>Portugal</td>\n      <td>This is ripe and fruity, a wine that is smooth...</td>\n      <td>Avidagos</td>\n      <td>87</td>\n      <td>15.0</td>\n      <td>Douro</td>\n      <td>NaN</td>\n      <td>NaN</td>\n      <td>Roger Voss</td>\n      <td>@vossroger</td>\n      <td>Quinta dos Avidagos 2011 Avidagos Red (Douro)</td>\n      <td>Portuguese Red</td>\n      <td>Quinta dos Avidagos</td>\n    </tr>\n    <tr>\n      <th>2</th>\n      <td>2</td>\n      <td>US</td>\n      <td>Tart and snappy, the flavors of lime flesh and...</td>\n      <td>NaN</td>\n      <td>87</td>\n      <td>14.0</td>\n      <td>Oregon</td>\n      <td>Willamette Valley</td>\n      <td>Willamette Valley</td>\n      <td>Paul Gregutt</td>\n      <td>@paulgwine</td>\n      <td>Rainstorm 2013 Pinot Gris (Willamette Valley)</td>\n      <td>Pinot Gris</td>\n      <td>Rainstorm</td>\n    </tr>\n    <tr>\n      <th>3</th>\n      <td>3</td>\n      <td>US</td>\n      <td>Pineapple rind, lemon pith and orange blossom ...</td>\n      <td>Reserve Late Harvest</td>\n      <td>87</td>\n      <td>13.0</td>\n      <td>Michigan</td>\n      <td>Lake Michigan Shore</td>\n      <td>NaN</td>\n      <td>Alexander Peartree</td>\n      <td>NaN</td>\n      <td>St. Julian 2013 Reserve Late Harvest Riesling ...</td>\n      <td>Riesling</td>\n      <td>St. Julian</td>\n    </tr>\n    <tr>\n      <th>4</th>\n      <td>4</td>\n      <td>US</td>\n      <td>Much like the regular bottling from 2012, this...</td>\n      <td>Vintner's Reserve Wild Child Block</td>\n      <td>87</td>\n      <td>65.0</td>\n      <td>Oregon</td>\n      <td>Willamette Valley</td>\n      <td>Willamette Valley</td>\n      <td>Paul Gregutt</td>\n      <td>@paulgwine</td>\n      <td>Sweet Cheeks 2012 Vintner's Reserve Wild Child...</td>\n      <td>Pinot Noir</td>\n      <td>Sweet Cheeks</td>\n    </tr>\n  </tbody>\n</table>\n</div>",
      "text/plain": "   Unnamed: 0   country                                        description  \\\n0           0     Italy  Aromas include tropical fruit, broom, brimston...   \n1           1  Portugal  This is ripe and fruity, a wine that is smooth...   \n2           2        US  Tart and snappy, the flavors of lime flesh and...   \n3           3        US  Pineapple rind, lemon pith and orange blossom ...   \n4           4        US  Much like the regular bottling from 2012, this...   \n\n                          designation  points  price           province  \\\n0                        Vulkà Bianco      87    NaN  Sicily & Sardinia   \n1                            Avidagos      87   15.0              Douro   \n2                                 NaN      87   14.0             Oregon   \n3                Reserve Late Harvest      87   13.0           Michigan   \n4  Vintner's Reserve Wild Child Block      87   65.0             Oregon   \n\n              region_1           region_2         taster_name  \\\n0                 Etna                NaN       Kerin O’Keefe   \n1                  NaN                NaN          Roger Voss   \n2    Willamette Valley  Willamette Valley        Paul Gregutt   \n3  Lake Michigan Shore                NaN  Alexander Peartree   \n4    Willamette Valley  Willamette Valley        Paul Gregutt   \n\n  taster_twitter_handle                                              title  \\\n0          @kerinokeefe                  Nicosia 2013 Vulkà Bianco  (Etna)   \n1            @vossroger      Quinta dos Avidagos 2011 Avidagos Red (Douro)   \n2           @paulgwine       Rainstorm 2013 Pinot Gris (Willamette Valley)   \n3                   NaN  St. Julian 2013 Reserve Late Harvest Riesling ...   \n4           @paulgwine   Sweet Cheeks 2012 Vintner's Reserve Wild Child...   \n\n          variety               winery  \n0     White Blend              Nicosia  \n1  Portuguese Red  Quinta dos Avidagos  \n2      Pinot Gris            Rainstorm  \n3        Riesling           St. Julian  \n4      Pinot Noir         Sweet Cheeks  "
     },
     "execution_count": 8,
     "metadata": {},
     "output_type": "execute_result"
    }
   ],
   "source": [
    "# show the first 5 rows \r\n",
    "wine_reviews.head()"
   ]
  },
  {
   "cell_type": "code",
   "execution_count": 9,
   "metadata": {},
   "outputs": [
    {
     "data": {
      "text/html": "<div>\n<style scoped>\n    .dataframe tbody tr th:only-of-type {\n        vertical-align: middle;\n    }\n\n    .dataframe tbody tr th {\n        vertical-align: top;\n    }\n\n    .dataframe thead th {\n        text-align: right;\n    }\n</style>\n<table border=\"1\" class=\"dataframe\">\n  <thead>\n    <tr style=\"text-align: right;\">\n      <th></th>\n      <th>country</th>\n      <th>description</th>\n      <th>designation</th>\n      <th>points</th>\n      <th>price</th>\n      <th>province</th>\n      <th>region_1</th>\n      <th>region_2</th>\n      <th>taster_name</th>\n      <th>taster_twitter_handle</th>\n      <th>title</th>\n      <th>variety</th>\n      <th>winery</th>\n    </tr>\n  </thead>\n  <tbody>\n    <tr>\n      <th>0</th>\n      <td>Italy</td>\n      <td>Aromas include tropical fruit, broom, brimston...</td>\n      <td>Vulkà Bianco</td>\n      <td>87</td>\n      <td>NaN</td>\n      <td>Sicily &amp; Sardinia</td>\n      <td>Etna</td>\n      <td>NaN</td>\n      <td>Kerin O’Keefe</td>\n      <td>@kerinokeefe</td>\n      <td>Nicosia 2013 Vulkà Bianco  (Etna)</td>\n      <td>White Blend</td>\n      <td>Nicosia</td>\n    </tr>\n    <tr>\n      <th>1</th>\n      <td>Portugal</td>\n      <td>This is ripe and fruity, a wine that is smooth...</td>\n      <td>Avidagos</td>\n      <td>87</td>\n      <td>15.0</td>\n      <td>Douro</td>\n      <td>NaN</td>\n      <td>NaN</td>\n      <td>Roger Voss</td>\n      <td>@vossroger</td>\n      <td>Quinta dos Avidagos 2011 Avidagos Red (Douro)</td>\n      <td>Portuguese Red</td>\n      <td>Quinta dos Avidagos</td>\n    </tr>\n    <tr>\n      <th>2</th>\n      <td>US</td>\n      <td>Tart and snappy, the flavors of lime flesh and...</td>\n      <td>NaN</td>\n      <td>87</td>\n      <td>14.0</td>\n      <td>Oregon</td>\n      <td>Willamette Valley</td>\n      <td>Willamette Valley</td>\n      <td>Paul Gregutt</td>\n      <td>@paulgwine</td>\n      <td>Rainstorm 2013 Pinot Gris (Willamette Valley)</td>\n      <td>Pinot Gris</td>\n      <td>Rainstorm</td>\n    </tr>\n    <tr>\n      <th>3</th>\n      <td>US</td>\n      <td>Pineapple rind, lemon pith and orange blossom ...</td>\n      <td>Reserve Late Harvest</td>\n      <td>87</td>\n      <td>13.0</td>\n      <td>Michigan</td>\n      <td>Lake Michigan Shore</td>\n      <td>NaN</td>\n      <td>Alexander Peartree</td>\n      <td>NaN</td>\n      <td>St. Julian 2013 Reserve Late Harvest Riesling ...</td>\n      <td>Riesling</td>\n      <td>St. Julian</td>\n    </tr>\n    <tr>\n      <th>4</th>\n      <td>US</td>\n      <td>Much like the regular bottling from 2012, this...</td>\n      <td>Vintner's Reserve Wild Child Block</td>\n      <td>87</td>\n      <td>65.0</td>\n      <td>Oregon</td>\n      <td>Willamette Valley</td>\n      <td>Willamette Valley</td>\n      <td>Paul Gregutt</td>\n      <td>@paulgwine</td>\n      <td>Sweet Cheeks 2012 Vintner's Reserve Wild Child...</td>\n      <td>Pinot Noir</td>\n      <td>Sweet Cheeks</td>\n    </tr>\n  </tbody>\n</table>\n</div>",
      "text/plain": "    country                                        description  \\\n0     Italy  Aromas include tropical fruit, broom, brimston...   \n1  Portugal  This is ripe and fruity, a wine that is smooth...   \n2        US  Tart and snappy, the flavors of lime flesh and...   \n3        US  Pineapple rind, lemon pith and orange blossom ...   \n4        US  Much like the regular bottling from 2012, this...   \n\n                          designation  points  price           province  \\\n0                        Vulkà Bianco      87    NaN  Sicily & Sardinia   \n1                            Avidagos      87   15.0              Douro   \n2                                 NaN      87   14.0             Oregon   \n3                Reserve Late Harvest      87   13.0           Michigan   \n4  Vintner's Reserve Wild Child Block      87   65.0             Oregon   \n\n              region_1           region_2         taster_name  \\\n0                 Etna                NaN       Kerin O’Keefe   \n1                  NaN                NaN          Roger Voss   \n2    Willamette Valley  Willamette Valley        Paul Gregutt   \n3  Lake Michigan Shore                NaN  Alexander Peartree   \n4    Willamette Valley  Willamette Valley        Paul Gregutt   \n\n  taster_twitter_handle                                              title  \\\n0          @kerinokeefe                  Nicosia 2013 Vulkà Bianco  (Etna)   \n1            @vossroger      Quinta dos Avidagos 2011 Avidagos Red (Douro)   \n2           @paulgwine       Rainstorm 2013 Pinot Gris (Willamette Valley)   \n3                   NaN  St. Julian 2013 Reserve Late Harvest Riesling ...   \n4           @paulgwine   Sweet Cheeks 2012 Vintner's Reserve Wild Child...   \n\n          variety               winery  \n0     White Blend              Nicosia  \n1  Portuguese Red  Quinta dos Avidagos  \n2      Pinot Gris            Rainstorm  \n3        Riesling           St. Julian  \n4      Pinot Noir         Sweet Cheeks  "
     },
     "execution_count": 9,
     "metadata": {},
     "output_type": "execute_result"
    }
   ],
   "source": [
    "# read_csv(): specify the 1st column as a index column using index_col\r\n",
    "wine_reviews = pd.read_csv('./data/winemag-data/winemag-data-130k-v2.csv', index_col=0)\r\n",
    "wine_reviews.head()"
   ]
  },
  {
   "cell_type": "markdown",
   "metadata": {},
   "source": [
    "## Indexing, Selecting & Assigning"
   ]
  },
  {
   "cell_type": "code",
   "execution_count": 10,
   "metadata": {},
   "outputs": [
    {
     "data": {
      "text/plain": "0            Italy\n1         Portugal\n2               US\n3               US\n4               US\n            ...   \n129966     Germany\n129967          US\n129968      France\n129969      France\n129970      France\nName: country, Length: 129971, dtype: object"
     },
     "execution_count": 10,
     "metadata": {},
     "output_type": "execute_result"
    }
   ],
   "source": [
    "# Access column using table.column_name\r\n",
    "wine_reviews.country"
   ]
  },
  {
   "cell_type": "code",
   "execution_count": 11,
   "metadata": {},
   "outputs": [
    {
     "data": {
      "text/plain": "0            Italy\n1         Portugal\n2               US\n3               US\n4               US\n            ...   \n129966     Germany\n129967          US\n129968      France\n129969      France\n129970      France\nName: country, Length: 129971, dtype: object"
     },
     "execution_count": 11,
     "metadata": {},
     "output_type": "execute_result"
    }
   ],
   "source": [
    "# Accessing column using ['colum_name']\r\n",
    "wine_reviews['country']"
   ]
  },
  {
   "cell_type": "code",
   "execution_count": 12,
   "metadata": {},
   "outputs": [
    {
     "data": {
      "text/plain": "'Italy'"
     },
     "execution_count": 12,
     "metadata": {},
     "output_type": "execute_result"
    }
   ],
   "source": [
    "# Select the first row of column 'country'\r\n",
    "wine_reviews['country'][0]"
   ]
  },
  {
   "cell_type": "markdown",
   "metadata": {},
   "source": [
    "### Indexing in pandas"
   ]
  },
  {
   "cell_type": "markdown",
   "metadata": {},
   "source": [
    "Pandas indexing works in one of 2 paradigms:\r\n",
    "- index-based selection `iloc`: selecting data based on its numerical position in the data\r\n",
    "- label-based selection `loc`: selecting data based on its data index value, not its position"
   ]
  },
  {
   "cell_type": "markdown",
   "metadata": {},
   "source": [
    "**Index-based selection** `iloc`"
   ]
  },
  {
   "cell_type": "code",
   "execution_count": 13,
   "metadata": {},
   "outputs": [
    {
     "data": {
      "text/plain": "country                                                              Italy\ndescription              Aromas include tropical fruit, broom, brimston...\ndesignation                                                   Vulkà Bianco\npoints                                                                  87\nprice                                                                  NaN\nprovince                                                 Sicily & Sardinia\nregion_1                                                              Etna\nregion_2                                                               NaN\ntaster_name                                                  Kerin O’Keefe\ntaster_twitter_handle                                         @kerinokeefe\ntitle                                    Nicosia 2013 Vulkà Bianco  (Etna)\nvariety                                                        White Blend\nwinery                                                             Nicosia\nName: 0, dtype: object"
     },
     "execution_count": 13,
     "metadata": {},
     "output_type": "execute_result"
    }
   ],
   "source": [
    "wine_reviews.iloc[0] # select the first row"
   ]
  },
  {
   "cell_type": "markdown",
   "metadata": {},
   "source": [
    "Both loc and iloc are row-first, column-second. This means that it's marginally easier to retrieve rows, and marginally harder to get retrieve columns."
   ]
  },
  {
   "cell_type": "code",
   "execution_count": 14,
   "metadata": {},
   "outputs": [
    {
     "data": {
      "text/plain": "0            Italy\n1         Portugal\n2               US\n3               US\n4               US\n            ...   \n129966     Germany\n129967          US\n129968      France\n129969      France\n129970      France\nName: country, Length: 129971, dtype: object"
     },
     "execution_count": 14,
     "metadata": {},
     "output_type": "execute_result"
    }
   ],
   "source": [
    "wine_reviews.iloc[:, 0] # retrieve the first column"
   ]
  },
  {
   "cell_type": "markdown",
   "metadata": {},
   "source": [
    "On its own, the `:` operator means \"everything\". However, it can be used to indicate a range of values. "
   ]
  },
  {
   "cell_type": "code",
   "execution_count": 15,
   "metadata": {},
   "outputs": [
    {
     "data": {
      "text/plain": "0       Italy\n1    Portugal\n2          US\nName: country, dtype: object"
     },
     "execution_count": 15,
     "metadata": {},
     "output_type": "execute_result"
    }
   ],
   "source": [
    "wine_reviews.iloc[:3, 0] # select the top 3 rows of the 1st column"
   ]
  },
  {
   "cell_type": "code",
   "execution_count": 16,
   "metadata": {},
   "outputs": [
    {
     "data": {
      "text/plain": "0       Italy\n1    Portugal\n2          US\nName: country, dtype: object"
     },
     "execution_count": 16,
     "metadata": {},
     "output_type": "execute_result"
    }
   ],
   "source": [
    "wine_reviews.iloc[[0,1,2], 0] # select the top 1st, 2nd, 3rd row of the 1st column"
   ]
  },
  {
   "cell_type": "code",
   "execution_count": 17,
   "metadata": {},
   "outputs": [
    {
     "data": {
      "text/html": "<div>\n<style scoped>\n    .dataframe tbody tr th:only-of-type {\n        vertical-align: middle;\n    }\n\n    .dataframe tbody tr th {\n        vertical-align: top;\n    }\n\n    .dataframe thead th {\n        text-align: right;\n    }\n</style>\n<table border=\"1\" class=\"dataframe\">\n  <thead>\n    <tr style=\"text-align: right;\">\n      <th></th>\n      <th>country</th>\n      <th>description</th>\n      <th>designation</th>\n      <th>points</th>\n      <th>price</th>\n      <th>province</th>\n      <th>region_1</th>\n      <th>region_2</th>\n      <th>taster_name</th>\n      <th>taster_twitter_handle</th>\n      <th>title</th>\n      <th>variety</th>\n      <th>winery</th>\n    </tr>\n  </thead>\n  <tbody>\n    <tr>\n      <th>129966</th>\n      <td>Germany</td>\n      <td>Notes of honeysuckle and cantaloupe sweeten th...</td>\n      <td>Brauneberger Juffer-Sonnenuhr Spätlese</td>\n      <td>90</td>\n      <td>28.0</td>\n      <td>Mosel</td>\n      <td>NaN</td>\n      <td>NaN</td>\n      <td>Anna Lee C. Iijima</td>\n      <td>NaN</td>\n      <td>Dr. H. Thanisch (Erben Müller-Burggraef) 2013 ...</td>\n      <td>Riesling</td>\n      <td>Dr. H. Thanisch (Erben Müller-Burggraef)</td>\n    </tr>\n    <tr>\n      <th>129967</th>\n      <td>US</td>\n      <td>Citation is given as much as a decade of bottl...</td>\n      <td>NaN</td>\n      <td>90</td>\n      <td>75.0</td>\n      <td>Oregon</td>\n      <td>Oregon</td>\n      <td>Oregon Other</td>\n      <td>Paul Gregutt</td>\n      <td>@paulgwine</td>\n      <td>Citation 2004 Pinot Noir (Oregon)</td>\n      <td>Pinot Noir</td>\n      <td>Citation</td>\n    </tr>\n    <tr>\n      <th>129968</th>\n      <td>France</td>\n      <td>Well-drained gravel soil gives this wine its c...</td>\n      <td>Kritt</td>\n      <td>90</td>\n      <td>30.0</td>\n      <td>Alsace</td>\n      <td>Alsace</td>\n      <td>NaN</td>\n      <td>Roger Voss</td>\n      <td>@vossroger</td>\n      <td>Domaine Gresser 2013 Kritt Gewurztraminer (Als...</td>\n      <td>Gewürztraminer</td>\n      <td>Domaine Gresser</td>\n    </tr>\n    <tr>\n      <th>129969</th>\n      <td>France</td>\n      <td>A dry style of Pinot Gris, this is crisp with ...</td>\n      <td>NaN</td>\n      <td>90</td>\n      <td>32.0</td>\n      <td>Alsace</td>\n      <td>Alsace</td>\n      <td>NaN</td>\n      <td>Roger Voss</td>\n      <td>@vossroger</td>\n      <td>Domaine Marcel Deiss 2012 Pinot Gris (Alsace)</td>\n      <td>Pinot Gris</td>\n      <td>Domaine Marcel Deiss</td>\n    </tr>\n    <tr>\n      <th>129970</th>\n      <td>France</td>\n      <td>Big, rich and off-dry, this is powered by inte...</td>\n      <td>Lieu-dit Harth Cuvée Caroline</td>\n      <td>90</td>\n      <td>21.0</td>\n      <td>Alsace</td>\n      <td>Alsace</td>\n      <td>NaN</td>\n      <td>Roger Voss</td>\n      <td>@vossroger</td>\n      <td>Domaine Schoffit 2012 Lieu-dit Harth Cuvée Car...</td>\n      <td>Gewürztraminer</td>\n      <td>Domaine Schoffit</td>\n    </tr>\n  </tbody>\n</table>\n</div>",
      "text/plain": "        country                                        description  \\\n129966  Germany  Notes of honeysuckle and cantaloupe sweeten th...   \n129967       US  Citation is given as much as a decade of bottl...   \n129968   France  Well-drained gravel soil gives this wine its c...   \n129969   France  A dry style of Pinot Gris, this is crisp with ...   \n129970   France  Big, rich and off-dry, this is powered by inte...   \n\n                                   designation  points  price province  \\\n129966  Brauneberger Juffer-Sonnenuhr Spätlese      90   28.0    Mosel   \n129967                                     NaN      90   75.0   Oregon   \n129968                                   Kritt      90   30.0   Alsace   \n129969                                     NaN      90   32.0   Alsace   \n129970           Lieu-dit Harth Cuvée Caroline      90   21.0   Alsace   \n\n       region_1      region_2         taster_name taster_twitter_handle  \\\n129966      NaN           NaN  Anna Lee C. Iijima                   NaN   \n129967   Oregon  Oregon Other        Paul Gregutt           @paulgwine    \n129968   Alsace           NaN          Roger Voss            @vossroger   \n129969   Alsace           NaN          Roger Voss            @vossroger   \n129970   Alsace           NaN          Roger Voss            @vossroger   \n\n                                                    title         variety  \\\n129966  Dr. H. Thanisch (Erben Müller-Burggraef) 2013 ...        Riesling   \n129967                  Citation 2004 Pinot Noir (Oregon)      Pinot Noir   \n129968  Domaine Gresser 2013 Kritt Gewurztraminer (Als...  Gewürztraminer   \n129969      Domaine Marcel Deiss 2012 Pinot Gris (Alsace)      Pinot Gris   \n129970  Domaine Schoffit 2012 Lieu-dit Harth Cuvée Car...  Gewürztraminer   \n\n                                          winery  \n129966  Dr. H. Thanisch (Erben Müller-Burggraef)  \n129967                                  Citation  \n129968                           Domaine Gresser  \n129969                      Domaine Marcel Deiss  \n129970                          Domaine Schoffit  "
     },
     "execution_count": 17,
     "metadata": {},
     "output_type": "execute_result"
    }
   ],
   "source": [
    "wine_reviews.iloc[-5:,] # select the last 5 rows using negative number"
   ]
  },
  {
   "cell_type": "code",
   "execution_count": 18,
   "metadata": {},
   "outputs": [
    {
     "data": {
      "text/plain": "0    Italy\nName: country, dtype: object"
     },
     "execution_count": 18,
     "metadata": {},
     "output_type": "execute_result"
    }
   ],
   "source": [
    "wine_reviews['country'].iloc[:1] # `iloc` can also be used in Series"
   ]
  },
  {
   "cell_type": "markdown",
   "metadata": {},
   "source": [
    "**Label-based selection** `loc`"
   ]
  },
  {
   "cell_type": "code",
   "execution_count": 19,
   "metadata": {},
   "outputs": [
    {
     "data": {
      "text/plain": "'Italy'"
     },
     "execution_count": 19,
     "metadata": {},
     "output_type": "execute_result"
    }
   ],
   "source": [
    "wine_reviews.loc[0, 'country'] # select the 1st row of column country"
   ]
  },
  {
   "cell_type": "code",
   "execution_count": 20,
   "metadata": {},
   "outputs": [
    {
     "data": {
      "text/html": "<div>\n<style scoped>\n    .dataframe tbody tr th:only-of-type {\n        vertical-align: middle;\n    }\n\n    .dataframe tbody tr th {\n        vertical-align: top;\n    }\n\n    .dataframe thead th {\n        text-align: right;\n    }\n</style>\n<table border=\"1\" class=\"dataframe\">\n  <thead>\n    <tr style=\"text-align: right;\">\n      <th></th>\n      <th>taster_name</th>\n      <th>taster_twitter_handle</th>\n      <th>points</th>\n    </tr>\n  </thead>\n  <tbody>\n    <tr>\n      <th>0</th>\n      <td>Kerin O’Keefe</td>\n      <td>@kerinokeefe</td>\n      <td>87</td>\n    </tr>\n    <tr>\n      <th>1</th>\n      <td>Roger Voss</td>\n      <td>@vossroger</td>\n      <td>87</td>\n    </tr>\n    <tr>\n      <th>2</th>\n      <td>Paul Gregutt</td>\n      <td>@paulgwine</td>\n      <td>87</td>\n    </tr>\n    <tr>\n      <th>3</th>\n      <td>Alexander Peartree</td>\n      <td>NaN</td>\n      <td>87</td>\n    </tr>\n    <tr>\n      <th>4</th>\n      <td>Paul Gregutt</td>\n      <td>@paulgwine</td>\n      <td>87</td>\n    </tr>\n    <tr>\n      <th>...</th>\n      <td>...</td>\n      <td>...</td>\n      <td>...</td>\n    </tr>\n    <tr>\n      <th>129966</th>\n      <td>Anna Lee C. Iijima</td>\n      <td>NaN</td>\n      <td>90</td>\n    </tr>\n    <tr>\n      <th>129967</th>\n      <td>Paul Gregutt</td>\n      <td>@paulgwine</td>\n      <td>90</td>\n    </tr>\n    <tr>\n      <th>129968</th>\n      <td>Roger Voss</td>\n      <td>@vossroger</td>\n      <td>90</td>\n    </tr>\n    <tr>\n      <th>129969</th>\n      <td>Roger Voss</td>\n      <td>@vossroger</td>\n      <td>90</td>\n    </tr>\n    <tr>\n      <th>129970</th>\n      <td>Roger Voss</td>\n      <td>@vossroger</td>\n      <td>90</td>\n    </tr>\n  </tbody>\n</table>\n<p>129971 rows × 3 columns</p>\n</div>",
      "text/plain": "               taster_name taster_twitter_handle  points\n0            Kerin O’Keefe          @kerinokeefe      87\n1               Roger Voss            @vossroger      87\n2             Paul Gregutt           @paulgwine       87\n3       Alexander Peartree                   NaN      87\n4             Paul Gregutt           @paulgwine       87\n...                    ...                   ...     ...\n129966  Anna Lee C. Iijima                   NaN      90\n129967        Paul Gregutt           @paulgwine       90\n129968          Roger Voss            @vossroger      90\n129969          Roger Voss            @vossroger      90\n129970          Roger Voss            @vossroger      90\n\n[129971 rows x 3 columns]"
     },
     "execution_count": 20,
     "metadata": {},
     "output_type": "execute_result"
    }
   ],
   "source": [
    "wine_reviews.loc[:, ['taster_name', 'taster_twitter_handle', 'points']] # select all rows in columns specified"
   ]
  },
  {
   "cell_type": "markdown",
   "metadata": {},
   "source": [
    "Choosing between `loc` and `iloc`:\r\n",
    "- `iloc` is conceptually simpler than `loc`, while `loc` can access data directly using index values(such as column names)\r\n",
    "- Gotcha: `iloc` use Python stdlib indexing scheme, where the 1st element of the range is included and the last one excluded. So `0:10` will select entries `0,...,9`. Meanwhile, indexes used in `loc` is inclusive, so `0:10` will select entries `0,...,10`.\r\n"
   ]
  },
  {
   "cell_type": "code",
   "execution_count": 21,
   "metadata": {},
   "outputs": [],
   "source": [
    "# Exercises\r\n",
    "# Create a variable df containing the country and variety columns of the first 100 records.\r\n",
    "df = wine_reviews.loc[:99,['country','variety']]"
   ]
  },
  {
   "cell_type": "markdown",
   "metadata": {},
   "source": [
    "### Manipulating the index\r\n",
    "\r\n",
    "Label-based selection `loc` derives its power from the labels in the index. Critically, the index we use is ot immutable.\r\n"
   ]
  },
  {
   "cell_type": "code",
   "execution_count": 22,
   "metadata": {},
   "outputs": [
    {
     "data": {
      "text/html": "<div>\n<style scoped>\n    .dataframe tbody tr th:only-of-type {\n        vertical-align: middle;\n    }\n\n    .dataframe tbody tr th {\n        vertical-align: top;\n    }\n\n    .dataframe thead th {\n        text-align: right;\n    }\n</style>\n<table border=\"1\" class=\"dataframe\">\n  <thead>\n    <tr style=\"text-align: right;\">\n      <th></th>\n      <th>country</th>\n      <th>description</th>\n      <th>designation</th>\n      <th>points</th>\n      <th>price</th>\n      <th>province</th>\n      <th>region_1</th>\n      <th>region_2</th>\n      <th>taster_name</th>\n      <th>taster_twitter_handle</th>\n      <th>variety</th>\n      <th>winery</th>\n    </tr>\n    <tr>\n      <th>title</th>\n      <th></th>\n      <th></th>\n      <th></th>\n      <th></th>\n      <th></th>\n      <th></th>\n      <th></th>\n      <th></th>\n      <th></th>\n      <th></th>\n      <th></th>\n      <th></th>\n    </tr>\n  </thead>\n  <tbody>\n    <tr>\n      <th>Nicosia 2013 Vulkà Bianco  (Etna)</th>\n      <td>Italy</td>\n      <td>Aromas include tropical fruit, broom, brimston...</td>\n      <td>Vulkà Bianco</td>\n      <td>87</td>\n      <td>NaN</td>\n      <td>Sicily &amp; Sardinia</td>\n      <td>Etna</td>\n      <td>NaN</td>\n      <td>Kerin O’Keefe</td>\n      <td>@kerinokeefe</td>\n      <td>White Blend</td>\n      <td>Nicosia</td>\n    </tr>\n    <tr>\n      <th>Quinta dos Avidagos 2011 Avidagos Red (Douro)</th>\n      <td>Portugal</td>\n      <td>This is ripe and fruity, a wine that is smooth...</td>\n      <td>Avidagos</td>\n      <td>87</td>\n      <td>15.0</td>\n      <td>Douro</td>\n      <td>NaN</td>\n      <td>NaN</td>\n      <td>Roger Voss</td>\n      <td>@vossroger</td>\n      <td>Portuguese Red</td>\n      <td>Quinta dos Avidagos</td>\n    </tr>\n    <tr>\n      <th>Rainstorm 2013 Pinot Gris (Willamette Valley)</th>\n      <td>US</td>\n      <td>Tart and snappy, the flavors of lime flesh and...</td>\n      <td>NaN</td>\n      <td>87</td>\n      <td>14.0</td>\n      <td>Oregon</td>\n      <td>Willamette Valley</td>\n      <td>Willamette Valley</td>\n      <td>Paul Gregutt</td>\n      <td>@paulgwine</td>\n      <td>Pinot Gris</td>\n      <td>Rainstorm</td>\n    </tr>\n    <tr>\n      <th>St. Julian 2013 Reserve Late Harvest Riesling (Lake Michigan Shore)</th>\n      <td>US</td>\n      <td>Pineapple rind, lemon pith and orange blossom ...</td>\n      <td>Reserve Late Harvest</td>\n      <td>87</td>\n      <td>13.0</td>\n      <td>Michigan</td>\n      <td>Lake Michigan Shore</td>\n      <td>NaN</td>\n      <td>Alexander Peartree</td>\n      <td>NaN</td>\n      <td>Riesling</td>\n      <td>St. Julian</td>\n    </tr>\n    <tr>\n      <th>Sweet Cheeks 2012 Vintner's Reserve Wild Child Block Pinot Noir (Willamette Valley)</th>\n      <td>US</td>\n      <td>Much like the regular bottling from 2012, this...</td>\n      <td>Vintner's Reserve Wild Child Block</td>\n      <td>87</td>\n      <td>65.0</td>\n      <td>Oregon</td>\n      <td>Willamette Valley</td>\n      <td>Willamette Valley</td>\n      <td>Paul Gregutt</td>\n      <td>@paulgwine</td>\n      <td>Pinot Noir</td>\n      <td>Sweet Cheeks</td>\n    </tr>\n    <tr>\n      <th>...</th>\n      <td>...</td>\n      <td>...</td>\n      <td>...</td>\n      <td>...</td>\n      <td>...</td>\n      <td>...</td>\n      <td>...</td>\n      <td>...</td>\n      <td>...</td>\n      <td>...</td>\n      <td>...</td>\n      <td>...</td>\n    </tr>\n    <tr>\n      <th>Dr. H. Thanisch (Erben Müller-Burggraef) 2013 Brauneberger Juffer-Sonnenuhr Spätlese Riesling (Mosel)</th>\n      <td>Germany</td>\n      <td>Notes of honeysuckle and cantaloupe sweeten th...</td>\n      <td>Brauneberger Juffer-Sonnenuhr Spätlese</td>\n      <td>90</td>\n      <td>28.0</td>\n      <td>Mosel</td>\n      <td>NaN</td>\n      <td>NaN</td>\n      <td>Anna Lee C. Iijima</td>\n      <td>NaN</td>\n      <td>Riesling</td>\n      <td>Dr. H. Thanisch (Erben Müller-Burggraef)</td>\n    </tr>\n    <tr>\n      <th>Citation 2004 Pinot Noir (Oregon)</th>\n      <td>US</td>\n      <td>Citation is given as much as a decade of bottl...</td>\n      <td>NaN</td>\n      <td>90</td>\n      <td>75.0</td>\n      <td>Oregon</td>\n      <td>Oregon</td>\n      <td>Oregon Other</td>\n      <td>Paul Gregutt</td>\n      <td>@paulgwine</td>\n      <td>Pinot Noir</td>\n      <td>Citation</td>\n    </tr>\n    <tr>\n      <th>Domaine Gresser 2013 Kritt Gewurztraminer (Alsace)</th>\n      <td>France</td>\n      <td>Well-drained gravel soil gives this wine its c...</td>\n      <td>Kritt</td>\n      <td>90</td>\n      <td>30.0</td>\n      <td>Alsace</td>\n      <td>Alsace</td>\n      <td>NaN</td>\n      <td>Roger Voss</td>\n      <td>@vossroger</td>\n      <td>Gewürztraminer</td>\n      <td>Domaine Gresser</td>\n    </tr>\n    <tr>\n      <th>Domaine Marcel Deiss 2012 Pinot Gris (Alsace)</th>\n      <td>France</td>\n      <td>A dry style of Pinot Gris, this is crisp with ...</td>\n      <td>NaN</td>\n      <td>90</td>\n      <td>32.0</td>\n      <td>Alsace</td>\n      <td>Alsace</td>\n      <td>NaN</td>\n      <td>Roger Voss</td>\n      <td>@vossroger</td>\n      <td>Pinot Gris</td>\n      <td>Domaine Marcel Deiss</td>\n    </tr>\n    <tr>\n      <th>Domaine Schoffit 2012 Lieu-dit Harth Cuvée Caroline Gewurztraminer (Alsace)</th>\n      <td>France</td>\n      <td>Big, rich and off-dry, this is powered by inte...</td>\n      <td>Lieu-dit Harth Cuvée Caroline</td>\n      <td>90</td>\n      <td>21.0</td>\n      <td>Alsace</td>\n      <td>Alsace</td>\n      <td>NaN</td>\n      <td>Roger Voss</td>\n      <td>@vossroger</td>\n      <td>Gewürztraminer</td>\n      <td>Domaine Schoffit</td>\n    </tr>\n  </tbody>\n</table>\n<p>129971 rows × 12 columns</p>\n</div>",
      "text/plain": "                                                     country  \\\ntitle                                                          \nNicosia 2013 Vulkà Bianco  (Etna)                      Italy   \nQuinta dos Avidagos 2011 Avidagos Red (Douro)       Portugal   \nRainstorm 2013 Pinot Gris (Willamette Valley)             US   \nSt. Julian 2013 Reserve Late Harvest Riesling (...        US   \nSweet Cheeks 2012 Vintner's Reserve Wild Child ...        US   \n...                                                      ...   \nDr. H. Thanisch (Erben Müller-Burggraef) 2013 B...   Germany   \nCitation 2004 Pinot Noir (Oregon)                         US   \nDomaine Gresser 2013 Kritt Gewurztraminer (Alsace)    France   \nDomaine Marcel Deiss 2012 Pinot Gris (Alsace)         France   \nDomaine Schoffit 2012 Lieu-dit Harth Cuvée Caro...    France   \n\n                                                                                          description  \\\ntitle                                                                                                   \nNicosia 2013 Vulkà Bianco  (Etna)                   Aromas include tropical fruit, broom, brimston...   \nQuinta dos Avidagos 2011 Avidagos Red (Douro)       This is ripe and fruity, a wine that is smooth...   \nRainstorm 2013 Pinot Gris (Willamette Valley)       Tart and snappy, the flavors of lime flesh and...   \nSt. Julian 2013 Reserve Late Harvest Riesling (...  Pineapple rind, lemon pith and orange blossom ...   \nSweet Cheeks 2012 Vintner's Reserve Wild Child ...  Much like the regular bottling from 2012, this...   \n...                                                                                               ...   \nDr. H. Thanisch (Erben Müller-Burggraef) 2013 B...  Notes of honeysuckle and cantaloupe sweeten th...   \nCitation 2004 Pinot Noir (Oregon)                   Citation is given as much as a decade of bottl...   \nDomaine Gresser 2013 Kritt Gewurztraminer (Alsace)  Well-drained gravel soil gives this wine its c...   \nDomaine Marcel Deiss 2012 Pinot Gris (Alsace)       A dry style of Pinot Gris, this is crisp with ...   \nDomaine Schoffit 2012 Lieu-dit Harth Cuvée Caro...  Big, rich and off-dry, this is powered by inte...   \n\n                                                                               designation  \\\ntitle                                                                                        \nNicosia 2013 Vulkà Bianco  (Etna)                                             Vulkà Bianco   \nQuinta dos Avidagos 2011 Avidagos Red (Douro)                                     Avidagos   \nRainstorm 2013 Pinot Gris (Willamette Valley)                                          NaN   \nSt. Julian 2013 Reserve Late Harvest Riesling (...                    Reserve Late Harvest   \nSweet Cheeks 2012 Vintner's Reserve Wild Child ...      Vintner's Reserve Wild Child Block   \n...                                                                                    ...   \nDr. H. Thanisch (Erben Müller-Burggraef) 2013 B...  Brauneberger Juffer-Sonnenuhr Spätlese   \nCitation 2004 Pinot Noir (Oregon)                                                      NaN   \nDomaine Gresser 2013 Kritt Gewurztraminer (Alsace)                                   Kritt   \nDomaine Marcel Deiss 2012 Pinot Gris (Alsace)                                          NaN   \nDomaine Schoffit 2012 Lieu-dit Harth Cuvée Caro...           Lieu-dit Harth Cuvée Caroline   \n\n                                                    points  price  \\\ntitle                                                               \nNicosia 2013 Vulkà Bianco  (Etna)                       87    NaN   \nQuinta dos Avidagos 2011 Avidagos Red (Douro)           87   15.0   \nRainstorm 2013 Pinot Gris (Willamette Valley)           87   14.0   \nSt. Julian 2013 Reserve Late Harvest Riesling (...      87   13.0   \nSweet Cheeks 2012 Vintner's Reserve Wild Child ...      87   65.0   \n...                                                    ...    ...   \nDr. H. Thanisch (Erben Müller-Burggraef) 2013 B...      90   28.0   \nCitation 2004 Pinot Noir (Oregon)                       90   75.0   \nDomaine Gresser 2013 Kritt Gewurztraminer (Alsace)      90   30.0   \nDomaine Marcel Deiss 2012 Pinot Gris (Alsace)           90   32.0   \nDomaine Schoffit 2012 Lieu-dit Harth Cuvée Caro...      90   21.0   \n\n                                                             province  \\\ntitle                                                                   \nNicosia 2013 Vulkà Bianco  (Etna)                   Sicily & Sardinia   \nQuinta dos Avidagos 2011 Avidagos Red (Douro)                   Douro   \nRainstorm 2013 Pinot Gris (Willamette Valley)                  Oregon   \nSt. Julian 2013 Reserve Late Harvest Riesling (...           Michigan   \nSweet Cheeks 2012 Vintner's Reserve Wild Child ...             Oregon   \n...                                                               ...   \nDr. H. Thanisch (Erben Müller-Burggraef) 2013 B...              Mosel   \nCitation 2004 Pinot Noir (Oregon)                              Oregon   \nDomaine Gresser 2013 Kritt Gewurztraminer (Alsace)             Alsace   \nDomaine Marcel Deiss 2012 Pinot Gris (Alsace)                  Alsace   \nDomaine Schoffit 2012 Lieu-dit Harth Cuvée Caro...             Alsace   \n\n                                                               region_1  \\\ntitle                                                                     \nNicosia 2013 Vulkà Bianco  (Etna)                                  Etna   \nQuinta dos Avidagos 2011 Avidagos Red (Douro)                       NaN   \nRainstorm 2013 Pinot Gris (Willamette Valley)         Willamette Valley   \nSt. Julian 2013 Reserve Late Harvest Riesling (...  Lake Michigan Shore   \nSweet Cheeks 2012 Vintner's Reserve Wild Child ...    Willamette Valley   \n...                                                                 ...   \nDr. H. Thanisch (Erben Müller-Burggraef) 2013 B...                  NaN   \nCitation 2004 Pinot Noir (Oregon)                                Oregon   \nDomaine Gresser 2013 Kritt Gewurztraminer (Alsace)               Alsace   \nDomaine Marcel Deiss 2012 Pinot Gris (Alsace)                    Alsace   \nDomaine Schoffit 2012 Lieu-dit Harth Cuvée Caro...               Alsace   \n\n                                                             region_2  \\\ntitle                                                                   \nNicosia 2013 Vulkà Bianco  (Etna)                                 NaN   \nQuinta dos Avidagos 2011 Avidagos Red (Douro)                     NaN   \nRainstorm 2013 Pinot Gris (Willamette Valley)       Willamette Valley   \nSt. Julian 2013 Reserve Late Harvest Riesling (...                NaN   \nSweet Cheeks 2012 Vintner's Reserve Wild Child ...  Willamette Valley   \n...                                                               ...   \nDr. H. Thanisch (Erben Müller-Burggraef) 2013 B...                NaN   \nCitation 2004 Pinot Noir (Oregon)                        Oregon Other   \nDomaine Gresser 2013 Kritt Gewurztraminer (Alsace)                NaN   \nDomaine Marcel Deiss 2012 Pinot Gris (Alsace)                     NaN   \nDomaine Schoffit 2012 Lieu-dit Harth Cuvée Caro...                NaN   \n\n                                                           taster_name  \\\ntitle                                                                    \nNicosia 2013 Vulkà Bianco  (Etna)                        Kerin O’Keefe   \nQuinta dos Avidagos 2011 Avidagos Red (Douro)               Roger Voss   \nRainstorm 2013 Pinot Gris (Willamette Valley)             Paul Gregutt   \nSt. Julian 2013 Reserve Late Harvest Riesling (...  Alexander Peartree   \nSweet Cheeks 2012 Vintner's Reserve Wild Child ...        Paul Gregutt   \n...                                                                ...   \nDr. H. Thanisch (Erben Müller-Burggraef) 2013 B...  Anna Lee C. Iijima   \nCitation 2004 Pinot Noir (Oregon)                         Paul Gregutt   \nDomaine Gresser 2013 Kritt Gewurztraminer (Alsace)          Roger Voss   \nDomaine Marcel Deiss 2012 Pinot Gris (Alsace)               Roger Voss   \nDomaine Schoffit 2012 Lieu-dit Harth Cuvée Caro...          Roger Voss   \n\n                                                   taster_twitter_handle  \\\ntitle                                                                      \nNicosia 2013 Vulkà Bianco  (Etna)                           @kerinokeefe   \nQuinta dos Avidagos 2011 Avidagos Red (Douro)                 @vossroger   \nRainstorm 2013 Pinot Gris (Willamette Valley)                @paulgwine    \nSt. Julian 2013 Reserve Late Harvest Riesling (...                   NaN   \nSweet Cheeks 2012 Vintner's Reserve Wild Child ...           @paulgwine    \n...                                                                  ...   \nDr. H. Thanisch (Erben Müller-Burggraef) 2013 B...                   NaN   \nCitation 2004 Pinot Noir (Oregon)                            @paulgwine    \nDomaine Gresser 2013 Kritt Gewurztraminer (Alsace)            @vossroger   \nDomaine Marcel Deiss 2012 Pinot Gris (Alsace)                 @vossroger   \nDomaine Schoffit 2012 Lieu-dit Harth Cuvée Caro...            @vossroger   \n\n                                                           variety  \\\ntitle                                                                \nNicosia 2013 Vulkà Bianco  (Etna)                      White Blend   \nQuinta dos Avidagos 2011 Avidagos Red (Douro)       Portuguese Red   \nRainstorm 2013 Pinot Gris (Willamette Valley)           Pinot Gris   \nSt. Julian 2013 Reserve Late Harvest Riesling (...        Riesling   \nSweet Cheeks 2012 Vintner's Reserve Wild Child ...      Pinot Noir   \n...                                                            ...   \nDr. H. Thanisch (Erben Müller-Burggraef) 2013 B...        Riesling   \nCitation 2004 Pinot Noir (Oregon)                       Pinot Noir   \nDomaine Gresser 2013 Kritt Gewurztraminer (Alsace)  Gewürztraminer   \nDomaine Marcel Deiss 2012 Pinot Gris (Alsace)           Pinot Gris   \nDomaine Schoffit 2012 Lieu-dit Harth Cuvée Caro...  Gewürztraminer   \n\n                                                                                      winery  \ntitle                                                                                         \nNicosia 2013 Vulkà Bianco  (Etna)                                                    Nicosia  \nQuinta dos Avidagos 2011 Avidagos Red (Douro)                            Quinta dos Avidagos  \nRainstorm 2013 Pinot Gris (Willamette Valley)                                      Rainstorm  \nSt. Julian 2013 Reserve Late Harvest Riesling (...                                St. Julian  \nSweet Cheeks 2012 Vintner's Reserve Wild Child ...                              Sweet Cheeks  \n...                                                                                      ...  \nDr. H. Thanisch (Erben Müller-Burggraef) 2013 B...  Dr. H. Thanisch (Erben Müller-Burggraef)  \nCitation 2004 Pinot Noir (Oregon)                                                   Citation  \nDomaine Gresser 2013 Kritt Gewurztraminer (Alsace)                           Domaine Gresser  \nDomaine Marcel Deiss 2012 Pinot Gris (Alsace)                           Domaine Marcel Deiss  \nDomaine Schoffit 2012 Lieu-dit Harth Cuvée Caro...                          Domaine Schoffit  \n\n[129971 rows x 12 columns]"
     },
     "execution_count": 22,
     "metadata": {},
     "output_type": "execute_result"
    }
   ],
   "source": [
    "wine_reviews.set_index('title') # set column title as index column \r\n",
    "## note this will not change the dataframe index, you will have to assign to a new dataframe`"
   ]
  },
  {
   "cell_type": "markdown",
   "metadata": {},
   "source": [
    "### Conditional Selection"
   ]
  },
  {
   "cell_type": "code",
   "execution_count": 23,
   "metadata": {},
   "outputs": [
    {
     "data": {
      "text/plain": "0          True\n1         False\n2         False\n3         False\n4         False\n          ...  \n129966    False\n129967    False\n129968    False\n129969    False\n129970    False\nName: country, Length: 129971, dtype: bool"
     },
     "execution_count": 23,
     "metadata": {},
     "output_type": "execute_result"
    }
   ],
   "source": [
    "# return a Series of True/False\r\n",
    "wine_reviews['country'] == 'Italy' "
   ]
  },
  {
   "cell_type": "code",
   "execution_count": 24,
   "metadata": {},
   "outputs": [
    {
     "data": {
      "text/html": "<div>\n<style scoped>\n    .dataframe tbody tr th:only-of-type {\n        vertical-align: middle;\n    }\n\n    .dataframe tbody tr th {\n        vertical-align: top;\n    }\n\n    .dataframe thead th {\n        text-align: right;\n    }\n</style>\n<table border=\"1\" class=\"dataframe\">\n  <thead>\n    <tr style=\"text-align: right;\">\n      <th></th>\n      <th>country</th>\n      <th>description</th>\n      <th>designation</th>\n      <th>points</th>\n      <th>price</th>\n      <th>province</th>\n      <th>region_1</th>\n      <th>region_2</th>\n      <th>taster_name</th>\n      <th>taster_twitter_handle</th>\n      <th>title</th>\n      <th>variety</th>\n      <th>winery</th>\n    </tr>\n  </thead>\n  <tbody>\n    <tr>\n      <th>0</th>\n      <td>Italy</td>\n      <td>Aromas include tropical fruit, broom, brimston...</td>\n      <td>Vulkà Bianco</td>\n      <td>87</td>\n      <td>NaN</td>\n      <td>Sicily &amp; Sardinia</td>\n      <td>Etna</td>\n      <td>NaN</td>\n      <td>Kerin O’Keefe</td>\n      <td>@kerinokeefe</td>\n      <td>Nicosia 2013 Vulkà Bianco  (Etna)</td>\n      <td>White Blend</td>\n      <td>Nicosia</td>\n    </tr>\n    <tr>\n      <th>6</th>\n      <td>Italy</td>\n      <td>Here's a bright, informal red that opens with ...</td>\n      <td>Belsito</td>\n      <td>87</td>\n      <td>16.0</td>\n      <td>Sicily &amp; Sardinia</td>\n      <td>Vittoria</td>\n      <td>NaN</td>\n      <td>Kerin O’Keefe</td>\n      <td>@kerinokeefe</td>\n      <td>Terre di Giurfo 2013 Belsito Frappato (Vittoria)</td>\n      <td>Frappato</td>\n      <td>Terre di Giurfo</td>\n    </tr>\n    <tr>\n      <th>13</th>\n      <td>Italy</td>\n      <td>This is dominated by oak and oak-driven aromas...</td>\n      <td>Rosso</td>\n      <td>87</td>\n      <td>NaN</td>\n      <td>Sicily &amp; Sardinia</td>\n      <td>Etna</td>\n      <td>NaN</td>\n      <td>Kerin O’Keefe</td>\n      <td>@kerinokeefe</td>\n      <td>Masseria Setteporte 2012 Rosso  (Etna)</td>\n      <td>Nerello Mascalese</td>\n      <td>Masseria Setteporte</td>\n    </tr>\n    <tr>\n      <th>22</th>\n      <td>Italy</td>\n      <td>Delicate aromas recall white flower and citrus...</td>\n      <td>Ficiligno</td>\n      <td>87</td>\n      <td>19.0</td>\n      <td>Sicily &amp; Sardinia</td>\n      <td>Sicilia</td>\n      <td>NaN</td>\n      <td>Kerin O’Keefe</td>\n      <td>@kerinokeefe</td>\n      <td>Baglio di Pianetto 2007 Ficiligno White (Sicilia)</td>\n      <td>White Blend</td>\n      <td>Baglio di Pianetto</td>\n    </tr>\n    <tr>\n      <th>24</th>\n      <td>Italy</td>\n      <td>Aromas of prune, blackcurrant, toast and oak c...</td>\n      <td>Aynat</td>\n      <td>87</td>\n      <td>35.0</td>\n      <td>Sicily &amp; Sardinia</td>\n      <td>Sicilia</td>\n      <td>NaN</td>\n      <td>Kerin O’Keefe</td>\n      <td>@kerinokeefe</td>\n      <td>Canicattì 2009 Aynat Nero d'Avola (Sicilia)</td>\n      <td>Nero d'Avola</td>\n      <td>Canicattì</td>\n    </tr>\n    <tr>\n      <th>...</th>\n      <td>...</td>\n      <td>...</td>\n      <td>...</td>\n      <td>...</td>\n      <td>...</td>\n      <td>...</td>\n      <td>...</td>\n      <td>...</td>\n      <td>...</td>\n      <td>...</td>\n      <td>...</td>\n      <td>...</td>\n      <td>...</td>\n    </tr>\n    <tr>\n      <th>129929</th>\n      <td>Italy</td>\n      <td>This luminous sparkler has a sweet, fruit-forw...</td>\n      <td>NaN</td>\n      <td>91</td>\n      <td>38.0</td>\n      <td>Veneto</td>\n      <td>Prosecco Superiore di Cartizze</td>\n      <td>NaN</td>\n      <td>NaN</td>\n      <td>NaN</td>\n      <td>Col Vetoraz Spumanti NV  Prosecco Superiore di...</td>\n      <td>Prosecco</td>\n      <td>Col Vetoraz Spumanti</td>\n    </tr>\n    <tr>\n      <th>129943</th>\n      <td>Italy</td>\n      <td>A blend of Nero d'Avola and Syrah, this convey...</td>\n      <td>Adènzia</td>\n      <td>90</td>\n      <td>29.0</td>\n      <td>Sicily &amp; Sardinia</td>\n      <td>Sicilia</td>\n      <td>NaN</td>\n      <td>Kerin O’Keefe</td>\n      <td>@kerinokeefe</td>\n      <td>Baglio del Cristo di Campobello 2012 Adènzia R...</td>\n      <td>Red Blend</td>\n      <td>Baglio del Cristo di Campobello</td>\n    </tr>\n    <tr>\n      <th>129947</th>\n      <td>Italy</td>\n      <td>A blend of 65% Cabernet Sauvignon, 30% Merlot ...</td>\n      <td>Symposio</td>\n      <td>90</td>\n      <td>20.0</td>\n      <td>Sicily &amp; Sardinia</td>\n      <td>Terre Siciliane</td>\n      <td>NaN</td>\n      <td>Kerin O’Keefe</td>\n      <td>@kerinokeefe</td>\n      <td>Feudo Principi di Butera 2012 Symposio Red (Te...</td>\n      <td>Red Blend</td>\n      <td>Feudo Principi di Butera</td>\n    </tr>\n    <tr>\n      <th>129961</th>\n      <td>Italy</td>\n      <td>Intense aromas of wild cherry, baking spice, t...</td>\n      <td>NaN</td>\n      <td>90</td>\n      <td>30.0</td>\n      <td>Sicily &amp; Sardinia</td>\n      <td>Sicilia</td>\n      <td>NaN</td>\n      <td>Kerin O’Keefe</td>\n      <td>@kerinokeefe</td>\n      <td>COS 2013 Frappato (Sicilia)</td>\n      <td>Frappato</td>\n      <td>COS</td>\n    </tr>\n    <tr>\n      <th>129962</th>\n      <td>Italy</td>\n      <td>Blackberry, cassis, grilled herb and toasted a...</td>\n      <td>Sàgana Tenuta San Giacomo</td>\n      <td>90</td>\n      <td>40.0</td>\n      <td>Sicily &amp; Sardinia</td>\n      <td>Sicilia</td>\n      <td>NaN</td>\n      <td>Kerin O’Keefe</td>\n      <td>@kerinokeefe</td>\n      <td>Cusumano 2012 Sàgana Tenuta San Giacomo Nero d...</td>\n      <td>Nero d'Avola</td>\n      <td>Cusumano</td>\n    </tr>\n  </tbody>\n</table>\n<p>19540 rows × 13 columns</p>\n</div>",
      "text/plain": "       country                                        description  \\\n0        Italy  Aromas include tropical fruit, broom, brimston...   \n6        Italy  Here's a bright, informal red that opens with ...   \n13       Italy  This is dominated by oak and oak-driven aromas...   \n22       Italy  Delicate aromas recall white flower and citrus...   \n24       Italy  Aromas of prune, blackcurrant, toast and oak c...   \n...        ...                                                ...   \n129929   Italy  This luminous sparkler has a sweet, fruit-forw...   \n129943   Italy  A blend of Nero d'Avola and Syrah, this convey...   \n129947   Italy  A blend of 65% Cabernet Sauvignon, 30% Merlot ...   \n129961   Italy  Intense aromas of wild cherry, baking spice, t...   \n129962   Italy  Blackberry, cassis, grilled herb and toasted a...   \n\n                      designation  points  price           province  \\\n0                    Vulkà Bianco      87    NaN  Sicily & Sardinia   \n6                         Belsito      87   16.0  Sicily & Sardinia   \n13                          Rosso      87    NaN  Sicily & Sardinia   \n22                      Ficiligno      87   19.0  Sicily & Sardinia   \n24                          Aynat      87   35.0  Sicily & Sardinia   \n...                           ...     ...    ...                ...   \n129929                        NaN      91   38.0             Veneto   \n129943                    Adènzia      90   29.0  Sicily & Sardinia   \n129947                   Symposio      90   20.0  Sicily & Sardinia   \n129961                        NaN      90   30.0  Sicily & Sardinia   \n129962  Sàgana Tenuta San Giacomo      90   40.0  Sicily & Sardinia   \n\n                              region_1 region_2    taster_name  \\\n0                                 Etna      NaN  Kerin O’Keefe   \n6                             Vittoria      NaN  Kerin O’Keefe   \n13                                Etna      NaN  Kerin O’Keefe   \n22                             Sicilia      NaN  Kerin O’Keefe   \n24                             Sicilia      NaN  Kerin O’Keefe   \n...                                ...      ...            ...   \n129929  Prosecco Superiore di Cartizze      NaN            NaN   \n129943                         Sicilia      NaN  Kerin O’Keefe   \n129947                 Terre Siciliane      NaN  Kerin O’Keefe   \n129961                         Sicilia      NaN  Kerin O’Keefe   \n129962                         Sicilia      NaN  Kerin O’Keefe   \n\n       taster_twitter_handle  \\\n0               @kerinokeefe   \n6               @kerinokeefe   \n13              @kerinokeefe   \n22              @kerinokeefe   \n24              @kerinokeefe   \n...                      ...   \n129929                   NaN   \n129943          @kerinokeefe   \n129947          @kerinokeefe   \n129961          @kerinokeefe   \n129962          @kerinokeefe   \n\n                                                    title            variety  \\\n0                       Nicosia 2013 Vulkà Bianco  (Etna)        White Blend   \n6        Terre di Giurfo 2013 Belsito Frappato (Vittoria)           Frappato   \n13                 Masseria Setteporte 2012 Rosso  (Etna)  Nerello Mascalese   \n22      Baglio di Pianetto 2007 Ficiligno White (Sicilia)        White Blend   \n24            Canicattì 2009 Aynat Nero d'Avola (Sicilia)       Nero d'Avola   \n...                                                   ...                ...   \n129929  Col Vetoraz Spumanti NV  Prosecco Superiore di...           Prosecco   \n129943  Baglio del Cristo di Campobello 2012 Adènzia R...          Red Blend   \n129947  Feudo Principi di Butera 2012 Symposio Red (Te...          Red Blend   \n129961                        COS 2013 Frappato (Sicilia)           Frappato   \n129962  Cusumano 2012 Sàgana Tenuta San Giacomo Nero d...       Nero d'Avola   \n\n                                 winery  \n0                               Nicosia  \n6                       Terre di Giurfo  \n13                  Masseria Setteporte  \n22                   Baglio di Pianetto  \n24                            Canicattì  \n...                                 ...  \n129929             Col Vetoraz Spumanti  \n129943  Baglio del Cristo di Campobello  \n129947         Feudo Principi di Butera  \n129961                              COS  \n129962                         Cusumano  \n\n[19540 rows x 13 columns]"
     },
     "execution_count": 24,
     "metadata": {},
     "output_type": "execute_result"
    }
   ],
   "source": [
    "# select rows where country = Italy using loc + Series\r\n",
    "wine_reviews.loc[wine_reviews['country'] == 'Italy'] "
   ]
  },
  {
   "cell_type": "code",
   "execution_count": 25,
   "metadata": {},
   "outputs": [
    {
     "data": {
      "text/html": "<div>\n<style scoped>\n    .dataframe tbody tr th:only-of-type {\n        vertical-align: middle;\n    }\n\n    .dataframe tbody tr th {\n        vertical-align: top;\n    }\n\n    .dataframe thead th {\n        text-align: right;\n    }\n</style>\n<table border=\"1\" class=\"dataframe\">\n  <thead>\n    <tr style=\"text-align: right;\">\n      <th></th>\n      <th>country</th>\n      <th>description</th>\n      <th>designation</th>\n      <th>points</th>\n      <th>price</th>\n      <th>province</th>\n      <th>region_1</th>\n      <th>region_2</th>\n      <th>taster_name</th>\n      <th>taster_twitter_handle</th>\n      <th>title</th>\n      <th>variety</th>\n      <th>winery</th>\n    </tr>\n  </thead>\n  <tbody>\n    <tr>\n      <th>120</th>\n      <td>Italy</td>\n      <td>Slightly backward, particularly given the vint...</td>\n      <td>Bricco Rocche Prapó</td>\n      <td>92</td>\n      <td>70.0</td>\n      <td>Piedmont</td>\n      <td>Barolo</td>\n      <td>NaN</td>\n      <td>NaN</td>\n      <td>NaN</td>\n      <td>Ceretto 2003 Bricco Rocche Prapó  (Barolo)</td>\n      <td>Nebbiolo</td>\n      <td>Ceretto</td>\n    </tr>\n    <tr>\n      <th>130</th>\n      <td>Italy</td>\n      <td>At the first it was quite muted and subdued, b...</td>\n      <td>Bricco Rocche Brunate</td>\n      <td>91</td>\n      <td>70.0</td>\n      <td>Piedmont</td>\n      <td>Barolo</td>\n      <td>NaN</td>\n      <td>NaN</td>\n      <td>NaN</td>\n      <td>Ceretto 2003 Bricco Rocche Brunate  (Barolo)</td>\n      <td>Nebbiolo</td>\n      <td>Ceretto</td>\n    </tr>\n    <tr>\n      <th>133</th>\n      <td>Italy</td>\n      <td>Einaudi's wines have been improving lately, an...</td>\n      <td>NaN</td>\n      <td>91</td>\n      <td>68.0</td>\n      <td>Piedmont</td>\n      <td>Barolo</td>\n      <td>NaN</td>\n      <td>NaN</td>\n      <td>NaN</td>\n      <td>Poderi Luigi Einaudi 2003  Barolo</td>\n      <td>Nebbiolo</td>\n      <td>Poderi Luigi Einaudi</td>\n    </tr>\n    <tr>\n      <th>135</th>\n      <td>Italy</td>\n      <td>The color is just beginning to show signs of b...</td>\n      <td>Sorano</td>\n      <td>91</td>\n      <td>60.0</td>\n      <td>Piedmont</td>\n      <td>Barolo</td>\n      <td>NaN</td>\n      <td>NaN</td>\n      <td>NaN</td>\n      <td>Giacomo Ascheri 2001 Sorano  (Barolo)</td>\n      <td>Nebbiolo</td>\n      <td>Giacomo Ascheri</td>\n    </tr>\n    <tr>\n      <th>140</th>\n      <td>Italy</td>\n      <td>A big, fat, luscious wine with plenty of toast...</td>\n      <td>Costa Bruna</td>\n      <td>90</td>\n      <td>26.0</td>\n      <td>Piedmont</td>\n      <td>Barbera d'Alba</td>\n      <td>NaN</td>\n      <td>NaN</td>\n      <td>NaN</td>\n      <td>Poderi Colla 2005 Costa Bruna  (Barbera d'Alba)</td>\n      <td>Barbera</td>\n      <td>Poderi Colla</td>\n    </tr>\n    <tr>\n      <th>...</th>\n      <td>...</td>\n      <td>...</td>\n      <td>...</td>\n      <td>...</td>\n      <td>...</td>\n      <td>...</td>\n      <td>...</td>\n      <td>...</td>\n      <td>...</td>\n      <td>...</td>\n      <td>...</td>\n      <td>...</td>\n      <td>...</td>\n    </tr>\n    <tr>\n      <th>129929</th>\n      <td>Italy</td>\n      <td>This luminous sparkler has a sweet, fruit-forw...</td>\n      <td>NaN</td>\n      <td>91</td>\n      <td>38.0</td>\n      <td>Veneto</td>\n      <td>Prosecco Superiore di Cartizze</td>\n      <td>NaN</td>\n      <td>NaN</td>\n      <td>NaN</td>\n      <td>Col Vetoraz Spumanti NV  Prosecco Superiore di...</td>\n      <td>Prosecco</td>\n      <td>Col Vetoraz Spumanti</td>\n    </tr>\n    <tr>\n      <th>129943</th>\n      <td>Italy</td>\n      <td>A blend of Nero d'Avola and Syrah, this convey...</td>\n      <td>Adènzia</td>\n      <td>90</td>\n      <td>29.0</td>\n      <td>Sicily &amp; Sardinia</td>\n      <td>Sicilia</td>\n      <td>NaN</td>\n      <td>Kerin O’Keefe</td>\n      <td>@kerinokeefe</td>\n      <td>Baglio del Cristo di Campobello 2012 Adènzia R...</td>\n      <td>Red Blend</td>\n      <td>Baglio del Cristo di Campobello</td>\n    </tr>\n    <tr>\n      <th>129947</th>\n      <td>Italy</td>\n      <td>A blend of 65% Cabernet Sauvignon, 30% Merlot ...</td>\n      <td>Symposio</td>\n      <td>90</td>\n      <td>20.0</td>\n      <td>Sicily &amp; Sardinia</td>\n      <td>Terre Siciliane</td>\n      <td>NaN</td>\n      <td>Kerin O’Keefe</td>\n      <td>@kerinokeefe</td>\n      <td>Feudo Principi di Butera 2012 Symposio Red (Te...</td>\n      <td>Red Blend</td>\n      <td>Feudo Principi di Butera</td>\n    </tr>\n    <tr>\n      <th>129961</th>\n      <td>Italy</td>\n      <td>Intense aromas of wild cherry, baking spice, t...</td>\n      <td>NaN</td>\n      <td>90</td>\n      <td>30.0</td>\n      <td>Sicily &amp; Sardinia</td>\n      <td>Sicilia</td>\n      <td>NaN</td>\n      <td>Kerin O’Keefe</td>\n      <td>@kerinokeefe</td>\n      <td>COS 2013 Frappato (Sicilia)</td>\n      <td>Frappato</td>\n      <td>COS</td>\n    </tr>\n    <tr>\n      <th>129962</th>\n      <td>Italy</td>\n      <td>Blackberry, cassis, grilled herb and toasted a...</td>\n      <td>Sàgana Tenuta San Giacomo</td>\n      <td>90</td>\n      <td>40.0</td>\n      <td>Sicily &amp; Sardinia</td>\n      <td>Sicilia</td>\n      <td>NaN</td>\n      <td>Kerin O’Keefe</td>\n      <td>@kerinokeefe</td>\n      <td>Cusumano 2012 Sàgana Tenuta San Giacomo Nero d...</td>\n      <td>Nero d'Avola</td>\n      <td>Cusumano</td>\n    </tr>\n  </tbody>\n</table>\n<p>6648 rows × 13 columns</p>\n</div>",
      "text/plain": "       country                                        description  \\\n120      Italy  Slightly backward, particularly given the vint...   \n130      Italy  At the first it was quite muted and subdued, b...   \n133      Italy  Einaudi's wines have been improving lately, an...   \n135      Italy  The color is just beginning to show signs of b...   \n140      Italy  A big, fat, luscious wine with plenty of toast...   \n...        ...                                                ...   \n129929   Italy  This luminous sparkler has a sweet, fruit-forw...   \n129943   Italy  A blend of Nero d'Avola and Syrah, this convey...   \n129947   Italy  A blend of 65% Cabernet Sauvignon, 30% Merlot ...   \n129961   Italy  Intense aromas of wild cherry, baking spice, t...   \n129962   Italy  Blackberry, cassis, grilled herb and toasted a...   \n\n                      designation  points  price           province  \\\n120           Bricco Rocche Prapó      92   70.0           Piedmont   \n130         Bricco Rocche Brunate      91   70.0           Piedmont   \n133                           NaN      91   68.0           Piedmont   \n135                        Sorano      91   60.0           Piedmont   \n140                   Costa Bruna      90   26.0           Piedmont   \n...                           ...     ...    ...                ...   \n129929                        NaN      91   38.0             Veneto   \n129943                    Adènzia      90   29.0  Sicily & Sardinia   \n129947                   Symposio      90   20.0  Sicily & Sardinia   \n129961                        NaN      90   30.0  Sicily & Sardinia   \n129962  Sàgana Tenuta San Giacomo      90   40.0  Sicily & Sardinia   \n\n                              region_1 region_2    taster_name  \\\n120                             Barolo      NaN            NaN   \n130                             Barolo      NaN            NaN   \n133                             Barolo      NaN            NaN   \n135                             Barolo      NaN            NaN   \n140                     Barbera d'Alba      NaN            NaN   \n...                                ...      ...            ...   \n129929  Prosecco Superiore di Cartizze      NaN            NaN   \n129943                         Sicilia      NaN  Kerin O’Keefe   \n129947                 Terre Siciliane      NaN  Kerin O’Keefe   \n129961                         Sicilia      NaN  Kerin O’Keefe   \n129962                         Sicilia      NaN  Kerin O’Keefe   \n\n       taster_twitter_handle  \\\n120                      NaN   \n130                      NaN   \n133                      NaN   \n135                      NaN   \n140                      NaN   \n...                      ...   \n129929                   NaN   \n129943          @kerinokeefe   \n129947          @kerinokeefe   \n129961          @kerinokeefe   \n129962          @kerinokeefe   \n\n                                                    title       variety  \\\n120            Ceretto 2003 Bricco Rocche Prapó  (Barolo)      Nebbiolo   \n130          Ceretto 2003 Bricco Rocche Brunate  (Barolo)      Nebbiolo   \n133                     Poderi Luigi Einaudi 2003  Barolo      Nebbiolo   \n135                 Giacomo Ascheri 2001 Sorano  (Barolo)      Nebbiolo   \n140       Poderi Colla 2005 Costa Bruna  (Barbera d'Alba)       Barbera   \n...                                                   ...           ...   \n129929  Col Vetoraz Spumanti NV  Prosecco Superiore di...      Prosecco   \n129943  Baglio del Cristo di Campobello 2012 Adènzia R...     Red Blend   \n129947  Feudo Principi di Butera 2012 Symposio Red (Te...     Red Blend   \n129961                        COS 2013 Frappato (Sicilia)      Frappato   \n129962  Cusumano 2012 Sàgana Tenuta San Giacomo Nero d...  Nero d'Avola   \n\n                                 winery  \n120                             Ceretto  \n130                             Ceretto  \n133                Poderi Luigi Einaudi  \n135                     Giacomo Ascheri  \n140                        Poderi Colla  \n...                                 ...  \n129929             Col Vetoraz Spumanti  \n129943  Baglio del Cristo di Campobello  \n129947         Feudo Principi di Butera  \n129961                              COS  \n129962                         Cusumano  \n\n[6648 rows x 13 columns]"
     },
     "execution_count": 25,
     "metadata": {},
     "output_type": "execute_result"
    }
   ],
   "source": [
    "# `&`: and\r\n",
    "# select rows where country = Italy and points >= 90 \r\n",
    "wine_reviews.loc[(wine_reviews['country'] == 'Italy') & (wine_reviews['points'] >= 90)] "
   ]
  },
  {
   "cell_type": "code",
   "execution_count": 26,
   "metadata": {},
   "outputs": [
    {
     "data": {
      "text/html": "<div>\n<style scoped>\n    .dataframe tbody tr th:only-of-type {\n        vertical-align: middle;\n    }\n\n    .dataframe tbody tr th {\n        vertical-align: top;\n    }\n\n    .dataframe thead th {\n        text-align: right;\n    }\n</style>\n<table border=\"1\" class=\"dataframe\">\n  <thead>\n    <tr style=\"text-align: right;\">\n      <th></th>\n      <th>country</th>\n      <th>description</th>\n      <th>designation</th>\n      <th>points</th>\n      <th>price</th>\n      <th>province</th>\n      <th>region_1</th>\n      <th>region_2</th>\n      <th>taster_name</th>\n      <th>taster_twitter_handle</th>\n      <th>title</th>\n      <th>variety</th>\n      <th>winery</th>\n    </tr>\n  </thead>\n  <tbody>\n    <tr>\n      <th>0</th>\n      <td>Italy</td>\n      <td>Aromas include tropical fruit, broom, brimston...</td>\n      <td>Vulkà Bianco</td>\n      <td>87</td>\n      <td>NaN</td>\n      <td>Sicily &amp; Sardinia</td>\n      <td>Etna</td>\n      <td>NaN</td>\n      <td>Kerin O’Keefe</td>\n      <td>@kerinokeefe</td>\n      <td>Nicosia 2013 Vulkà Bianco  (Etna)</td>\n      <td>White Blend</td>\n      <td>Nicosia</td>\n    </tr>\n    <tr>\n      <th>6</th>\n      <td>Italy</td>\n      <td>Here's a bright, informal red that opens with ...</td>\n      <td>Belsito</td>\n      <td>87</td>\n      <td>16.0</td>\n      <td>Sicily &amp; Sardinia</td>\n      <td>Vittoria</td>\n      <td>NaN</td>\n      <td>Kerin O’Keefe</td>\n      <td>@kerinokeefe</td>\n      <td>Terre di Giurfo 2013 Belsito Frappato (Vittoria)</td>\n      <td>Frappato</td>\n      <td>Terre di Giurfo</td>\n    </tr>\n    <tr>\n      <th>13</th>\n      <td>Italy</td>\n      <td>This is dominated by oak and oak-driven aromas...</td>\n      <td>Rosso</td>\n      <td>87</td>\n      <td>NaN</td>\n      <td>Sicily &amp; Sardinia</td>\n      <td>Etna</td>\n      <td>NaN</td>\n      <td>Kerin O’Keefe</td>\n      <td>@kerinokeefe</td>\n      <td>Masseria Setteporte 2012 Rosso  (Etna)</td>\n      <td>Nerello Mascalese</td>\n      <td>Masseria Setteporte</td>\n    </tr>\n    <tr>\n      <th>22</th>\n      <td>Italy</td>\n      <td>Delicate aromas recall white flower and citrus...</td>\n      <td>Ficiligno</td>\n      <td>87</td>\n      <td>19.0</td>\n      <td>Sicily &amp; Sardinia</td>\n      <td>Sicilia</td>\n      <td>NaN</td>\n      <td>Kerin O’Keefe</td>\n      <td>@kerinokeefe</td>\n      <td>Baglio di Pianetto 2007 Ficiligno White (Sicilia)</td>\n      <td>White Blend</td>\n      <td>Baglio di Pianetto</td>\n    </tr>\n    <tr>\n      <th>24</th>\n      <td>Italy</td>\n      <td>Aromas of prune, blackcurrant, toast and oak c...</td>\n      <td>Aynat</td>\n      <td>87</td>\n      <td>35.0</td>\n      <td>Sicily &amp; Sardinia</td>\n      <td>Sicilia</td>\n      <td>NaN</td>\n      <td>Kerin O’Keefe</td>\n      <td>@kerinokeefe</td>\n      <td>Canicattì 2009 Aynat Nero d'Avola (Sicilia)</td>\n      <td>Nero d'Avola</td>\n      <td>Canicattì</td>\n    </tr>\n    <tr>\n      <th>...</th>\n      <td>...</td>\n      <td>...</td>\n      <td>...</td>\n      <td>...</td>\n      <td>...</td>\n      <td>...</td>\n      <td>...</td>\n      <td>...</td>\n      <td>...</td>\n      <td>...</td>\n      <td>...</td>\n      <td>...</td>\n      <td>...</td>\n    </tr>\n    <tr>\n      <th>129966</th>\n      <td>Germany</td>\n      <td>Notes of honeysuckle and cantaloupe sweeten th...</td>\n      <td>Brauneberger Juffer-Sonnenuhr Spätlese</td>\n      <td>90</td>\n      <td>28.0</td>\n      <td>Mosel</td>\n      <td>NaN</td>\n      <td>NaN</td>\n      <td>Anna Lee C. Iijima</td>\n      <td>NaN</td>\n      <td>Dr. H. Thanisch (Erben Müller-Burggraef) 2013 ...</td>\n      <td>Riesling</td>\n      <td>Dr. H. Thanisch (Erben Müller-Burggraef)</td>\n    </tr>\n    <tr>\n      <th>129967</th>\n      <td>US</td>\n      <td>Citation is given as much as a decade of bottl...</td>\n      <td>NaN</td>\n      <td>90</td>\n      <td>75.0</td>\n      <td>Oregon</td>\n      <td>Oregon</td>\n      <td>Oregon Other</td>\n      <td>Paul Gregutt</td>\n      <td>@paulgwine</td>\n      <td>Citation 2004 Pinot Noir (Oregon)</td>\n      <td>Pinot Noir</td>\n      <td>Citation</td>\n    </tr>\n    <tr>\n      <th>129968</th>\n      <td>France</td>\n      <td>Well-drained gravel soil gives this wine its c...</td>\n      <td>Kritt</td>\n      <td>90</td>\n      <td>30.0</td>\n      <td>Alsace</td>\n      <td>Alsace</td>\n      <td>NaN</td>\n      <td>Roger Voss</td>\n      <td>@vossroger</td>\n      <td>Domaine Gresser 2013 Kritt Gewurztraminer (Als...</td>\n      <td>Gewürztraminer</td>\n      <td>Domaine Gresser</td>\n    </tr>\n    <tr>\n      <th>129969</th>\n      <td>France</td>\n      <td>A dry style of Pinot Gris, this is crisp with ...</td>\n      <td>NaN</td>\n      <td>90</td>\n      <td>32.0</td>\n      <td>Alsace</td>\n      <td>Alsace</td>\n      <td>NaN</td>\n      <td>Roger Voss</td>\n      <td>@vossroger</td>\n      <td>Domaine Marcel Deiss 2012 Pinot Gris (Alsace)</td>\n      <td>Pinot Gris</td>\n      <td>Domaine Marcel Deiss</td>\n    </tr>\n    <tr>\n      <th>129970</th>\n      <td>France</td>\n      <td>Big, rich and off-dry, this is powered by inte...</td>\n      <td>Lieu-dit Harth Cuvée Caroline</td>\n      <td>90</td>\n      <td>21.0</td>\n      <td>Alsace</td>\n      <td>Alsace</td>\n      <td>NaN</td>\n      <td>Roger Voss</td>\n      <td>@vossroger</td>\n      <td>Domaine Schoffit 2012 Lieu-dit Harth Cuvée Car...</td>\n      <td>Gewürztraminer</td>\n      <td>Domaine Schoffit</td>\n    </tr>\n  </tbody>\n</table>\n<p>61937 rows × 13 columns</p>\n</div>",
      "text/plain": "        country                                        description  \\\n0         Italy  Aromas include tropical fruit, broom, brimston...   \n6         Italy  Here's a bright, informal red that opens with ...   \n13        Italy  This is dominated by oak and oak-driven aromas...   \n22        Italy  Delicate aromas recall white flower and citrus...   \n24        Italy  Aromas of prune, blackcurrant, toast and oak c...   \n...         ...                                                ...   \n129966  Germany  Notes of honeysuckle and cantaloupe sweeten th...   \n129967       US  Citation is given as much as a decade of bottl...   \n129968   France  Well-drained gravel soil gives this wine its c...   \n129969   France  A dry style of Pinot Gris, this is crisp with ...   \n129970   France  Big, rich and off-dry, this is powered by inte...   \n\n                                   designation  points  price  \\\n0                                 Vulkà Bianco      87    NaN   \n6                                      Belsito      87   16.0   \n13                                       Rosso      87    NaN   \n22                                   Ficiligno      87   19.0   \n24                                       Aynat      87   35.0   \n...                                        ...     ...    ...   \n129966  Brauneberger Juffer-Sonnenuhr Spätlese      90   28.0   \n129967                                     NaN      90   75.0   \n129968                                   Kritt      90   30.0   \n129969                                     NaN      90   32.0   \n129970           Lieu-dit Harth Cuvée Caroline      90   21.0   \n\n                 province  region_1      region_2         taster_name  \\\n0       Sicily & Sardinia      Etna           NaN       Kerin O’Keefe   \n6       Sicily & Sardinia  Vittoria           NaN       Kerin O’Keefe   \n13      Sicily & Sardinia      Etna           NaN       Kerin O’Keefe   \n22      Sicily & Sardinia   Sicilia           NaN       Kerin O’Keefe   \n24      Sicily & Sardinia   Sicilia           NaN       Kerin O’Keefe   \n...                   ...       ...           ...                 ...   \n129966              Mosel       NaN           NaN  Anna Lee C. Iijima   \n129967             Oregon    Oregon  Oregon Other        Paul Gregutt   \n129968             Alsace    Alsace           NaN          Roger Voss   \n129969             Alsace    Alsace           NaN          Roger Voss   \n129970             Alsace    Alsace           NaN          Roger Voss   \n\n       taster_twitter_handle  \\\n0               @kerinokeefe   \n6               @kerinokeefe   \n13              @kerinokeefe   \n22              @kerinokeefe   \n24              @kerinokeefe   \n...                      ...   \n129966                   NaN   \n129967           @paulgwine    \n129968            @vossroger   \n129969            @vossroger   \n129970            @vossroger   \n\n                                                    title            variety  \\\n0                       Nicosia 2013 Vulkà Bianco  (Etna)        White Blend   \n6        Terre di Giurfo 2013 Belsito Frappato (Vittoria)           Frappato   \n13                 Masseria Setteporte 2012 Rosso  (Etna)  Nerello Mascalese   \n22      Baglio di Pianetto 2007 Ficiligno White (Sicilia)        White Blend   \n24            Canicattì 2009 Aynat Nero d'Avola (Sicilia)       Nero d'Avola   \n...                                                   ...                ...   \n129966  Dr. H. Thanisch (Erben Müller-Burggraef) 2013 ...           Riesling   \n129967                  Citation 2004 Pinot Noir (Oregon)         Pinot Noir   \n129968  Domaine Gresser 2013 Kritt Gewurztraminer (Als...     Gewürztraminer   \n129969      Domaine Marcel Deiss 2012 Pinot Gris (Alsace)         Pinot Gris   \n129970  Domaine Schoffit 2012 Lieu-dit Harth Cuvée Car...     Gewürztraminer   \n\n                                          winery  \n0                                        Nicosia  \n6                                Terre di Giurfo  \n13                           Masseria Setteporte  \n22                            Baglio di Pianetto  \n24                                     Canicattì  \n...                                          ...  \n129966  Dr. H. Thanisch (Erben Müller-Burggraef)  \n129967                                  Citation  \n129968                           Domaine Gresser  \n129969                      Domaine Marcel Deiss  \n129970                          Domaine Schoffit  \n\n[61937 rows x 13 columns]"
     },
     "execution_count": 26,
     "metadata": {},
     "output_type": "execute_result"
    }
   ],
   "source": [
    "# `|`: or\r\n",
    "# select rows where country = Italy or points >=90\r\n",
    "wine_reviews.loc[(wine_reviews['country'] == 'Italy') | (wine_reviews['points'] >= 90)] "
   ]
  },
  {
   "cell_type": "code",
   "execution_count": 27,
   "metadata": {},
   "outputs": [
    {
     "data": {
      "text/html": "<div>\n<style scoped>\n    .dataframe tbody tr th:only-of-type {\n        vertical-align: middle;\n    }\n\n    .dataframe tbody tr th {\n        vertical-align: top;\n    }\n\n    .dataframe thead th {\n        text-align: right;\n    }\n</style>\n<table border=\"1\" class=\"dataframe\">\n  <thead>\n    <tr style=\"text-align: right;\">\n      <th></th>\n      <th>country</th>\n      <th>description</th>\n      <th>designation</th>\n      <th>points</th>\n      <th>price</th>\n      <th>province</th>\n      <th>region_1</th>\n      <th>region_2</th>\n      <th>taster_name</th>\n      <th>taster_twitter_handle</th>\n      <th>title</th>\n      <th>variety</th>\n      <th>winery</th>\n    </tr>\n  </thead>\n  <tbody>\n    <tr>\n      <th>0</th>\n      <td>Italy</td>\n      <td>Aromas include tropical fruit, broom, brimston...</td>\n      <td>Vulkà Bianco</td>\n      <td>87</td>\n      <td>NaN</td>\n      <td>Sicily &amp; Sardinia</td>\n      <td>Etna</td>\n      <td>NaN</td>\n      <td>Kerin O’Keefe</td>\n      <td>@kerinokeefe</td>\n      <td>Nicosia 2013 Vulkà Bianco  (Etna)</td>\n      <td>White Blend</td>\n      <td>Nicosia</td>\n    </tr>\n    <tr>\n      <th>6</th>\n      <td>Italy</td>\n      <td>Here's a bright, informal red that opens with ...</td>\n      <td>Belsito</td>\n      <td>87</td>\n      <td>16.0</td>\n      <td>Sicily &amp; Sardinia</td>\n      <td>Vittoria</td>\n      <td>NaN</td>\n      <td>Kerin O’Keefe</td>\n      <td>@kerinokeefe</td>\n      <td>Terre di Giurfo 2013 Belsito Frappato (Vittoria)</td>\n      <td>Frappato</td>\n      <td>Terre di Giurfo</td>\n    </tr>\n    <tr>\n      <th>7</th>\n      <td>France</td>\n      <td>This dry and restrained wine offers spice in p...</td>\n      <td>NaN</td>\n      <td>87</td>\n      <td>24.0</td>\n      <td>Alsace</td>\n      <td>Alsace</td>\n      <td>NaN</td>\n      <td>Roger Voss</td>\n      <td>@vossroger</td>\n      <td>Trimbach 2012 Gewurztraminer (Alsace)</td>\n      <td>Gewürztraminer</td>\n      <td>Trimbach</td>\n    </tr>\n    <tr>\n      <th>9</th>\n      <td>France</td>\n      <td>This has great depth of flavor with its fresh ...</td>\n      <td>Les Natures</td>\n      <td>87</td>\n      <td>27.0</td>\n      <td>Alsace</td>\n      <td>Alsace</td>\n      <td>NaN</td>\n      <td>Roger Voss</td>\n      <td>@vossroger</td>\n      <td>Jean-Baptiste Adam 2012 Les Natures Pinot Gris...</td>\n      <td>Pinot Gris</td>\n      <td>Jean-Baptiste Adam</td>\n    </tr>\n    <tr>\n      <th>11</th>\n      <td>France</td>\n      <td>This is a dry wine, very spicy, with a tight, ...</td>\n      <td>NaN</td>\n      <td>87</td>\n      <td>30.0</td>\n      <td>Alsace</td>\n      <td>Alsace</td>\n      <td>NaN</td>\n      <td>Roger Voss</td>\n      <td>@vossroger</td>\n      <td>Leon Beyer 2012 Gewurztraminer (Alsace)</td>\n      <td>Gewürztraminer</td>\n      <td>Leon Beyer</td>\n    </tr>\n    <tr>\n      <th>...</th>\n      <td>...</td>\n      <td>...</td>\n      <td>...</td>\n      <td>...</td>\n      <td>...</td>\n      <td>...</td>\n      <td>...</td>\n      <td>...</td>\n      <td>...</td>\n      <td>...</td>\n      <td>...</td>\n      <td>...</td>\n      <td>...</td>\n    </tr>\n    <tr>\n      <th>129964</th>\n      <td>France</td>\n      <td>Initially quite muted, this wine slowly develo...</td>\n      <td>Domaine Saint-Rémy Herrenweg</td>\n      <td>90</td>\n      <td>NaN</td>\n      <td>Alsace</td>\n      <td>Alsace</td>\n      <td>NaN</td>\n      <td>Roger Voss</td>\n      <td>@vossroger</td>\n      <td>Domaine Ehrhart 2013 Domaine Saint-Rémy Herren...</td>\n      <td>Gewürztraminer</td>\n      <td>Domaine Ehrhart</td>\n    </tr>\n    <tr>\n      <th>129965</th>\n      <td>France</td>\n      <td>While it's rich, this beautiful dry wine also ...</td>\n      <td>Seppi Landmann Vallée Noble</td>\n      <td>90</td>\n      <td>28.0</td>\n      <td>Alsace</td>\n      <td>Alsace</td>\n      <td>NaN</td>\n      <td>Roger Voss</td>\n      <td>@vossroger</td>\n      <td>Domaine Rieflé-Landmann 2013 Seppi Landmann Va...</td>\n      <td>Pinot Gris</td>\n      <td>Domaine Rieflé-Landmann</td>\n    </tr>\n    <tr>\n      <th>129968</th>\n      <td>France</td>\n      <td>Well-drained gravel soil gives this wine its c...</td>\n      <td>Kritt</td>\n      <td>90</td>\n      <td>30.0</td>\n      <td>Alsace</td>\n      <td>Alsace</td>\n      <td>NaN</td>\n      <td>Roger Voss</td>\n      <td>@vossroger</td>\n      <td>Domaine Gresser 2013 Kritt Gewurztraminer (Als...</td>\n      <td>Gewürztraminer</td>\n      <td>Domaine Gresser</td>\n    </tr>\n    <tr>\n      <th>129969</th>\n      <td>France</td>\n      <td>A dry style of Pinot Gris, this is crisp with ...</td>\n      <td>NaN</td>\n      <td>90</td>\n      <td>32.0</td>\n      <td>Alsace</td>\n      <td>Alsace</td>\n      <td>NaN</td>\n      <td>Roger Voss</td>\n      <td>@vossroger</td>\n      <td>Domaine Marcel Deiss 2012 Pinot Gris (Alsace)</td>\n      <td>Pinot Gris</td>\n      <td>Domaine Marcel Deiss</td>\n    </tr>\n    <tr>\n      <th>129970</th>\n      <td>France</td>\n      <td>Big, rich and off-dry, this is powered by inte...</td>\n      <td>Lieu-dit Harth Cuvée Caroline</td>\n      <td>90</td>\n      <td>21.0</td>\n      <td>Alsace</td>\n      <td>Alsace</td>\n      <td>NaN</td>\n      <td>Roger Voss</td>\n      <td>@vossroger</td>\n      <td>Domaine Schoffit 2012 Lieu-dit Harth Cuvée Car...</td>\n      <td>Gewürztraminer</td>\n      <td>Domaine Schoffit</td>\n    </tr>\n  </tbody>\n</table>\n<p>41633 rows × 13 columns</p>\n</div>",
      "text/plain": "       country                                        description  \\\n0        Italy  Aromas include tropical fruit, broom, brimston...   \n6        Italy  Here's a bright, informal red that opens with ...   \n7       France  This dry and restrained wine offers spice in p...   \n9       France  This has great depth of flavor with its fresh ...   \n11      France  This is a dry wine, very spicy, with a tight, ...   \n...        ...                                                ...   \n129964  France  Initially quite muted, this wine slowly develo...   \n129965  France  While it's rich, this beautiful dry wine also ...   \n129968  France  Well-drained gravel soil gives this wine its c...   \n129969  France  A dry style of Pinot Gris, this is crisp with ...   \n129970  France  Big, rich and off-dry, this is powered by inte...   \n\n                          designation  points  price           province  \\\n0                        Vulkà Bianco      87    NaN  Sicily & Sardinia   \n6                             Belsito      87   16.0  Sicily & Sardinia   \n7                                 NaN      87   24.0             Alsace   \n9                         Les Natures      87   27.0             Alsace   \n11                                NaN      87   30.0             Alsace   \n...                               ...     ...    ...                ...   \n129964   Domaine Saint-Rémy Herrenweg      90    NaN             Alsace   \n129965    Seppi Landmann Vallée Noble      90   28.0             Alsace   \n129968                          Kritt      90   30.0             Alsace   \n129969                            NaN      90   32.0             Alsace   \n129970  Lieu-dit Harth Cuvée Caroline      90   21.0             Alsace   \n\n        region_1 region_2    taster_name taster_twitter_handle  \\\n0           Etna      NaN  Kerin O’Keefe          @kerinokeefe   \n6       Vittoria      NaN  Kerin O’Keefe          @kerinokeefe   \n7         Alsace      NaN     Roger Voss            @vossroger   \n9         Alsace      NaN     Roger Voss            @vossroger   \n11        Alsace      NaN     Roger Voss            @vossroger   \n...          ...      ...            ...                   ...   \n129964    Alsace      NaN     Roger Voss            @vossroger   \n129965    Alsace      NaN     Roger Voss            @vossroger   \n129968    Alsace      NaN     Roger Voss            @vossroger   \n129969    Alsace      NaN     Roger Voss            @vossroger   \n129970    Alsace      NaN     Roger Voss            @vossroger   \n\n                                                    title         variety  \\\n0                       Nicosia 2013 Vulkà Bianco  (Etna)     White Blend   \n6        Terre di Giurfo 2013 Belsito Frappato (Vittoria)        Frappato   \n7                   Trimbach 2012 Gewurztraminer (Alsace)  Gewürztraminer   \n9       Jean-Baptiste Adam 2012 Les Natures Pinot Gris...      Pinot Gris   \n11                Leon Beyer 2012 Gewurztraminer (Alsace)  Gewürztraminer   \n...                                                   ...             ...   \n129964  Domaine Ehrhart 2013 Domaine Saint-Rémy Herren...  Gewürztraminer   \n129965  Domaine Rieflé-Landmann 2013 Seppi Landmann Va...      Pinot Gris   \n129968  Domaine Gresser 2013 Kritt Gewurztraminer (Als...  Gewürztraminer   \n129969      Domaine Marcel Deiss 2012 Pinot Gris (Alsace)      Pinot Gris   \n129970  Domaine Schoffit 2012 Lieu-dit Harth Cuvée Car...  Gewürztraminer   \n\n                         winery  \n0                       Nicosia  \n6               Terre di Giurfo  \n7                      Trimbach  \n9            Jean-Baptiste Adam  \n11                   Leon Beyer  \n...                         ...  \n129964          Domaine Ehrhart  \n129965  Domaine Rieflé-Landmann  \n129968          Domaine Gresser  \n129969     Domaine Marcel Deiss  \n129970         Domaine Schoffit  \n\n[41633 rows x 13 columns]"
     },
     "execution_count": 27,
     "metadata": {},
     "output_type": "execute_result"
    }
   ],
   "source": [
    "# `isin`: in\r\n",
    "# select rows where country is Italy or France\r\n",
    "wine_reviews.loc[wine_reviews['country'].isin(['Italy','France'])]"
   ]
  },
  {
   "cell_type": "code",
   "execution_count": 28,
   "metadata": {},
   "outputs": [
    {
     "data": {
      "text/html": "<div>\n<style scoped>\n    .dataframe tbody tr th:only-of-type {\n        vertical-align: middle;\n    }\n\n    .dataframe tbody tr th {\n        vertical-align: top;\n    }\n\n    .dataframe thead th {\n        text-align: right;\n    }\n</style>\n<table border=\"1\" class=\"dataframe\">\n  <thead>\n    <tr style=\"text-align: right;\">\n      <th></th>\n      <th>country</th>\n      <th>description</th>\n      <th>designation</th>\n      <th>points</th>\n      <th>price</th>\n      <th>province</th>\n      <th>region_1</th>\n      <th>region_2</th>\n      <th>taster_name</th>\n      <th>taster_twitter_handle</th>\n      <th>title</th>\n      <th>variety</th>\n      <th>winery</th>\n    </tr>\n  </thead>\n  <tbody>\n    <tr>\n      <th>1</th>\n      <td>Portugal</td>\n      <td>This is ripe and fruity, a wine that is smooth...</td>\n      <td>Avidagos</td>\n      <td>87</td>\n      <td>15.0</td>\n      <td>Douro</td>\n      <td>NaN</td>\n      <td>NaN</td>\n      <td>Roger Voss</td>\n      <td>@vossroger</td>\n      <td>Quinta dos Avidagos 2011 Avidagos Red (Douro)</td>\n      <td>Portuguese Red</td>\n      <td>Quinta dos Avidagos</td>\n    </tr>\n    <tr>\n      <th>2</th>\n      <td>US</td>\n      <td>Tart and snappy, the flavors of lime flesh and...</td>\n      <td>NaN</td>\n      <td>87</td>\n      <td>14.0</td>\n      <td>Oregon</td>\n      <td>Willamette Valley</td>\n      <td>Willamette Valley</td>\n      <td>Paul Gregutt</td>\n      <td>@paulgwine</td>\n      <td>Rainstorm 2013 Pinot Gris (Willamette Valley)</td>\n      <td>Pinot Gris</td>\n      <td>Rainstorm</td>\n    </tr>\n    <tr>\n      <th>3</th>\n      <td>US</td>\n      <td>Pineapple rind, lemon pith and orange blossom ...</td>\n      <td>Reserve Late Harvest</td>\n      <td>87</td>\n      <td>13.0</td>\n      <td>Michigan</td>\n      <td>Lake Michigan Shore</td>\n      <td>NaN</td>\n      <td>Alexander Peartree</td>\n      <td>NaN</td>\n      <td>St. Julian 2013 Reserve Late Harvest Riesling ...</td>\n      <td>Riesling</td>\n      <td>St. Julian</td>\n    </tr>\n    <tr>\n      <th>4</th>\n      <td>US</td>\n      <td>Much like the regular bottling from 2012, this...</td>\n      <td>Vintner's Reserve Wild Child Block</td>\n      <td>87</td>\n      <td>65.0</td>\n      <td>Oregon</td>\n      <td>Willamette Valley</td>\n      <td>Willamette Valley</td>\n      <td>Paul Gregutt</td>\n      <td>@paulgwine</td>\n      <td>Sweet Cheeks 2012 Vintner's Reserve Wild Child...</td>\n      <td>Pinot Noir</td>\n      <td>Sweet Cheeks</td>\n    </tr>\n    <tr>\n      <th>5</th>\n      <td>Spain</td>\n      <td>Blackberry and raspberry aromas show a typical...</td>\n      <td>Ars In Vitro</td>\n      <td>87</td>\n      <td>15.0</td>\n      <td>Northern Spain</td>\n      <td>Navarra</td>\n      <td>NaN</td>\n      <td>Michael Schachner</td>\n      <td>@wineschach</td>\n      <td>Tandem 2011 Ars In Vitro Tempranillo-Merlot (N...</td>\n      <td>Tempranillo-Merlot</td>\n      <td>Tandem</td>\n    </tr>\n    <tr>\n      <th>...</th>\n      <td>...</td>\n      <td>...</td>\n      <td>...</td>\n      <td>...</td>\n      <td>...</td>\n      <td>...</td>\n      <td>...</td>\n      <td>...</td>\n      <td>...</td>\n      <td>...</td>\n      <td>...</td>\n      <td>...</td>\n      <td>...</td>\n    </tr>\n    <tr>\n      <th>129966</th>\n      <td>Germany</td>\n      <td>Notes of honeysuckle and cantaloupe sweeten th...</td>\n      <td>Brauneberger Juffer-Sonnenuhr Spätlese</td>\n      <td>90</td>\n      <td>28.0</td>\n      <td>Mosel</td>\n      <td>NaN</td>\n      <td>NaN</td>\n      <td>Anna Lee C. Iijima</td>\n      <td>NaN</td>\n      <td>Dr. H. Thanisch (Erben Müller-Burggraef) 2013 ...</td>\n      <td>Riesling</td>\n      <td>Dr. H. Thanisch (Erben Müller-Burggraef)</td>\n    </tr>\n    <tr>\n      <th>129967</th>\n      <td>US</td>\n      <td>Citation is given as much as a decade of bottl...</td>\n      <td>NaN</td>\n      <td>90</td>\n      <td>75.0</td>\n      <td>Oregon</td>\n      <td>Oregon</td>\n      <td>Oregon Other</td>\n      <td>Paul Gregutt</td>\n      <td>@paulgwine</td>\n      <td>Citation 2004 Pinot Noir (Oregon)</td>\n      <td>Pinot Noir</td>\n      <td>Citation</td>\n    </tr>\n    <tr>\n      <th>129968</th>\n      <td>France</td>\n      <td>Well-drained gravel soil gives this wine its c...</td>\n      <td>Kritt</td>\n      <td>90</td>\n      <td>30.0</td>\n      <td>Alsace</td>\n      <td>Alsace</td>\n      <td>NaN</td>\n      <td>Roger Voss</td>\n      <td>@vossroger</td>\n      <td>Domaine Gresser 2013 Kritt Gewurztraminer (Als...</td>\n      <td>Gewürztraminer</td>\n      <td>Domaine Gresser</td>\n    </tr>\n    <tr>\n      <th>129969</th>\n      <td>France</td>\n      <td>A dry style of Pinot Gris, this is crisp with ...</td>\n      <td>NaN</td>\n      <td>90</td>\n      <td>32.0</td>\n      <td>Alsace</td>\n      <td>Alsace</td>\n      <td>NaN</td>\n      <td>Roger Voss</td>\n      <td>@vossroger</td>\n      <td>Domaine Marcel Deiss 2012 Pinot Gris (Alsace)</td>\n      <td>Pinot Gris</td>\n      <td>Domaine Marcel Deiss</td>\n    </tr>\n    <tr>\n      <th>129970</th>\n      <td>France</td>\n      <td>Big, rich and off-dry, this is powered by inte...</td>\n      <td>Lieu-dit Harth Cuvée Caroline</td>\n      <td>90</td>\n      <td>21.0</td>\n      <td>Alsace</td>\n      <td>Alsace</td>\n      <td>NaN</td>\n      <td>Roger Voss</td>\n      <td>@vossroger</td>\n      <td>Domaine Schoffit 2012 Lieu-dit Harth Cuvée Car...</td>\n      <td>Gewürztraminer</td>\n      <td>Domaine Schoffit</td>\n    </tr>\n  </tbody>\n</table>\n<p>120975 rows × 13 columns</p>\n</div>",
      "text/plain": "         country                                        description  \\\n1       Portugal  This is ripe and fruity, a wine that is smooth...   \n2             US  Tart and snappy, the flavors of lime flesh and...   \n3             US  Pineapple rind, lemon pith and orange blossom ...   \n4             US  Much like the regular bottling from 2012, this...   \n5          Spain  Blackberry and raspberry aromas show a typical...   \n...          ...                                                ...   \n129966   Germany  Notes of honeysuckle and cantaloupe sweeten th...   \n129967        US  Citation is given as much as a decade of bottl...   \n129968    France  Well-drained gravel soil gives this wine its c...   \n129969    France  A dry style of Pinot Gris, this is crisp with ...   \n129970    France  Big, rich and off-dry, this is powered by inte...   \n\n                                   designation  points  price        province  \\\n1                                     Avidagos      87   15.0           Douro   \n2                                          NaN      87   14.0          Oregon   \n3                         Reserve Late Harvest      87   13.0        Michigan   \n4           Vintner's Reserve Wild Child Block      87   65.0          Oregon   \n5                                 Ars In Vitro      87   15.0  Northern Spain   \n...                                        ...     ...    ...             ...   \n129966  Brauneberger Juffer-Sonnenuhr Spätlese      90   28.0           Mosel   \n129967                                     NaN      90   75.0          Oregon   \n129968                                   Kritt      90   30.0          Alsace   \n129969                                     NaN      90   32.0          Alsace   \n129970           Lieu-dit Harth Cuvée Caroline      90   21.0          Alsace   \n\n                   region_1           region_2         taster_name  \\\n1                       NaN                NaN          Roger Voss   \n2         Willamette Valley  Willamette Valley        Paul Gregutt   \n3       Lake Michigan Shore                NaN  Alexander Peartree   \n4         Willamette Valley  Willamette Valley        Paul Gregutt   \n5                   Navarra                NaN   Michael Schachner   \n...                     ...                ...                 ...   \n129966                  NaN                NaN  Anna Lee C. Iijima   \n129967               Oregon       Oregon Other        Paul Gregutt   \n129968               Alsace                NaN          Roger Voss   \n129969               Alsace                NaN          Roger Voss   \n129970               Alsace                NaN          Roger Voss   \n\n       taster_twitter_handle  \\\n1                 @vossroger   \n2                @paulgwine    \n3                        NaN   \n4                @paulgwine    \n5                @wineschach   \n...                      ...   \n129966                   NaN   \n129967           @paulgwine    \n129968            @vossroger   \n129969            @vossroger   \n129970            @vossroger   \n\n                                                    title             variety  \\\n1           Quinta dos Avidagos 2011 Avidagos Red (Douro)      Portuguese Red   \n2           Rainstorm 2013 Pinot Gris (Willamette Valley)          Pinot Gris   \n3       St. Julian 2013 Reserve Late Harvest Riesling ...            Riesling   \n4       Sweet Cheeks 2012 Vintner's Reserve Wild Child...          Pinot Noir   \n5       Tandem 2011 Ars In Vitro Tempranillo-Merlot (N...  Tempranillo-Merlot   \n...                                                   ...                 ...   \n129966  Dr. H. Thanisch (Erben Müller-Burggraef) 2013 ...            Riesling   \n129967                  Citation 2004 Pinot Noir (Oregon)          Pinot Noir   \n129968  Domaine Gresser 2013 Kritt Gewurztraminer (Als...      Gewürztraminer   \n129969      Domaine Marcel Deiss 2012 Pinot Gris (Alsace)          Pinot Gris   \n129970  Domaine Schoffit 2012 Lieu-dit Harth Cuvée Car...      Gewürztraminer   \n\n                                          winery  \n1                            Quinta dos Avidagos  \n2                                      Rainstorm  \n3                                     St. Julian  \n4                                   Sweet Cheeks  \n5                                         Tandem  \n...                                          ...  \n129966  Dr. H. Thanisch (Erben Müller-Burggraef)  \n129967                                  Citation  \n129968                           Domaine Gresser  \n129969                      Domaine Marcel Deiss  \n129970                          Domaine Schoffit  \n\n[120975 rows x 13 columns]"
     },
     "execution_count": 28,
     "metadata": {},
     "output_type": "execute_result"
    }
   ],
   "source": [
    "# `isnull` and `notnull`: is null and is not null\r\n",
    "# select rows where price is not null\r\n",
    "wine_reviews.loc[wine_reviews['price'].notnull()]"
   ]
  },
  {
   "cell_type": "markdown",
   "metadata": {},
   "source": [
    "### Assigning data"
   ]
  },
  {
   "cell_type": "code",
   "execution_count": 29,
   "metadata": {},
   "outputs": [
    {
     "data": {
      "text/plain": "0         everyone\n1         everyone\n2         everyone\n3         everyone\n4         everyone\n            ...   \n129966    everyone\n129967    everyone\n129968    everyone\n129969    everyone\n129970    everyone\nName: critic, Length: 129971, dtype: object"
     },
     "execution_count": 29,
     "metadata": {},
     "output_type": "execute_result"
    }
   ],
   "source": [
    "# Assign constant value to a column\r\n",
    "# note if the column('critic') doesn't exists, a new column will be created.\r\n",
    "wine_reviews['critic'] = 'everyone'\r\n",
    "wine_reviews['critic']"
   ]
  },
  {
   "cell_type": "code",
   "execution_count": 30,
   "metadata": {},
   "outputs": [
    {
     "data": {
      "text/plain": "0         129971\n1         129970\n2         129969\n3         129968\n4         129967\n           ...  \n129966         5\n129967         4\n129968         3\n129969         2\n129970         1\nName: index_backwards, Length: 129971, dtype: int32"
     },
     "execution_count": 30,
     "metadata": {},
     "output_type": "execute_result"
    }
   ],
   "source": [
    "# Assign a iterable value to a column\r\n",
    "wine_reviews['index_backwards'] = range(len(wine_reviews), 0,-1)\r\n",
    "wine_reviews['index_backwards']"
   ]
  },
  {
   "cell_type": "markdown",
   "metadata": {},
   "source": [
    "Notes: \r\n",
    "- Be careful to distinguish `[]` and `()` when selecting data; also be aware the input data types inside a method's `()`."
   ]
  },
  {
   "cell_type": "markdown",
   "metadata": {},
   "source": [
    "## Summary Functions and Maps"
   ]
  },
  {
   "cell_type": "markdown",
   "metadata": {},
   "source": [
    "### Summary Functions"
   ]
  },
  {
   "cell_type": "code",
   "execution_count": 31,
   "metadata": {},
   "outputs": [
    {
     "data": {
      "text/plain": "count    129971.000000\nmean         88.447138\nstd           3.039730\nmin          80.000000\n25%          86.000000\n50%          88.000000\n75%          91.000000\nmax         100.000000\nName: points, dtype: float64"
     },
     "execution_count": 31,
     "metadata": {},
     "output_type": "execute_result"
    }
   ],
   "source": [
    "# describe() of a Series of numeric values\r\n",
    "wine_reviews.points.describe()"
   ]
  },
  {
   "cell_type": "code",
   "execution_count": 32,
   "metadata": {},
   "outputs": [
    {
     "data": {
      "text/plain": "count         103727\nunique            19\ntop       Roger Voss\nfreq           25514\nName: taster_name, dtype: object"
     },
     "execution_count": 32,
     "metadata": {},
     "output_type": "execute_result"
    }
   ],
   "source": [
    "# desribe() of a categorical Series\r\n",
    "wine_reviews.taster_name.describe()"
   ]
  },
  {
   "cell_type": "code",
   "execution_count": 33,
   "metadata": {},
   "outputs": [
    {
     "data": {
      "text/plain": "88.44713820775404"
     },
     "execution_count": 33,
     "metadata": {},
     "output_type": "execute_result"
    }
   ],
   "source": [
    "wine_reviews.points.mean()"
   ]
  },
  {
   "cell_type": "code",
   "execution_count": 34,
   "metadata": {},
   "outputs": [
    {
     "data": {
      "text/plain": "array(['Kerin O’Keefe', 'Roger Voss', 'Paul Gregutt',\n       'Alexander Peartree', 'Michael Schachner', 'Anna Lee C. Iijima',\n       'Virginie Boone', 'Matt Kettmann', nan, 'Sean P. Sullivan',\n       'Jim Gordon', 'Joe Czerwinski', 'Anne Krebiehl\\xa0MW',\n       'Lauren Buzzeo', 'Mike DeSimone', 'Jeff Jenssen',\n       'Susan Kostrzewa', 'Carrie Dykes', 'Fiona Adams',\n       'Christina Pickard'], dtype=object)"
     },
     "execution_count": 34,
     "metadata": {},
     "output_type": "execute_result"
    }
   ],
   "source": [
    "# retrieve list of unqiue values\r\n",
    "wine_reviews.taster_name.unique()"
   ]
  },
  {
   "cell_type": "code",
   "execution_count": 35,
   "metadata": {},
   "outputs": [
    {
     "data": {
      "text/plain": "Roger Voss            25514\nMichael Schachner     15134\nKerin O’Keefe         10776\nVirginie Boone         9537\nPaul Gregutt           9532\nMatt Kettmann          6332\nJoe Czerwinski         5147\nSean P. Sullivan       4966\nAnna Lee C. Iijima     4415\nJim Gordon             4177\nAnne Krebiehl MW       3685\nLauren Buzzeo          1835\nSusan Kostrzewa        1085\nMike DeSimone           514\nJeff Jenssen            491\nAlexander Peartree      415\nCarrie Dykes            139\nFiona Adams              27\nChristina Pickard         6\nName: taster_name, dtype: int64"
     },
     "execution_count": 35,
     "metadata": {},
     "output_type": "execute_result"
    }
   ],
   "source": [
    "# retrieve values and counts. In SQL: select value, count(1) cnt from table group by value\r\n",
    "wine_reviews.taster_name.value_counts()"
   ]
  },
  {
   "cell_type": "markdown",
   "metadata": {},
   "source": [
    "### Maps"
   ]
  },
  {
   "cell_type": "markdown",
   "metadata": {},
   "source": [
    "A map is a term for a function that takes one set of values and maps them to another set of values.\r\n",
    "\r\n",
    "There are two mapping methods that you will use often:\r\n",
    "- `map()`: map(function, list_inputs), or list_inputs.map(function)\r\n",
    "- `apply()`: DataFrame.apply(function, axis= 'columns') -- means apply function to each row of the DataFrame\r\n",
    "- Note that `map()` and `apply()` return new, transformed Series and DataFrames, respectively. They don't modify the original data they're called on."
   ]
  },
  {
   "cell_type": "code",
   "execution_count": 36,
   "metadata": {},
   "outputs": [
    {
     "data": {
      "text/plain": "0        -1.447138\n1        -1.447138\n2        -1.447138\n3        -1.447138\n4        -1.447138\n            ...   \n129966    1.552862\n129967    1.552862\n129968    1.552862\n129969    1.552862\n129970    1.552862\nName: points, Length: 129971, dtype: float64"
     },
     "execution_count": 36,
     "metadata": {},
     "output_type": "execute_result"
    }
   ],
   "source": [
    "# map() example: remean the scores the wines received to 0.\r\n",
    "review_points_mean = wine_reviews.points.mean()\r\n",
    "wine_reviews.points.map(lambda p: p - review_points_mean)"
   ]
  },
  {
   "cell_type": "code",
   "execution_count": 37,
   "metadata": {},
   "outputs": [
    {
     "data": {
      "text/html": "<div>\n<style scoped>\n    .dataframe tbody tr th:only-of-type {\n        vertical-align: middle;\n    }\n\n    .dataframe tbody tr th {\n        vertical-align: top;\n    }\n\n    .dataframe thead th {\n        text-align: right;\n    }\n</style>\n<table border=\"1\" class=\"dataframe\">\n  <thead>\n    <tr style=\"text-align: right;\">\n      <th></th>\n      <th>country</th>\n      <th>description</th>\n      <th>designation</th>\n      <th>points</th>\n      <th>price</th>\n      <th>province</th>\n      <th>region_1</th>\n      <th>region_2</th>\n      <th>taster_name</th>\n      <th>taster_twitter_handle</th>\n      <th>title</th>\n      <th>variety</th>\n      <th>winery</th>\n      <th>critic</th>\n      <th>index_backwards</th>\n    </tr>\n  </thead>\n  <tbody>\n    <tr>\n      <th>0</th>\n      <td>Italy</td>\n      <td>Aromas include tropical fruit, broom, brimston...</td>\n      <td>Vulkà Bianco</td>\n      <td>-1.447138</td>\n      <td>NaN</td>\n      <td>Sicily &amp; Sardinia</td>\n      <td>Etna</td>\n      <td>NaN</td>\n      <td>Kerin O’Keefe</td>\n      <td>@kerinokeefe</td>\n      <td>Nicosia 2013 Vulkà Bianco  (Etna)</td>\n      <td>White Blend</td>\n      <td>Nicosia</td>\n      <td>everyone</td>\n      <td>129971</td>\n    </tr>\n    <tr>\n      <th>1</th>\n      <td>Portugal</td>\n      <td>This is ripe and fruity, a wine that is smooth...</td>\n      <td>Avidagos</td>\n      <td>-1.447138</td>\n      <td>15.0</td>\n      <td>Douro</td>\n      <td>NaN</td>\n      <td>NaN</td>\n      <td>Roger Voss</td>\n      <td>@vossroger</td>\n      <td>Quinta dos Avidagos 2011 Avidagos Red (Douro)</td>\n      <td>Portuguese Red</td>\n      <td>Quinta dos Avidagos</td>\n      <td>everyone</td>\n      <td>129970</td>\n    </tr>\n    <tr>\n      <th>2</th>\n      <td>US</td>\n      <td>Tart and snappy, the flavors of lime flesh and...</td>\n      <td>NaN</td>\n      <td>-1.447138</td>\n      <td>14.0</td>\n      <td>Oregon</td>\n      <td>Willamette Valley</td>\n      <td>Willamette Valley</td>\n      <td>Paul Gregutt</td>\n      <td>@paulgwine</td>\n      <td>Rainstorm 2013 Pinot Gris (Willamette Valley)</td>\n      <td>Pinot Gris</td>\n      <td>Rainstorm</td>\n      <td>everyone</td>\n      <td>129969</td>\n    </tr>\n    <tr>\n      <th>3</th>\n      <td>US</td>\n      <td>Pineapple rind, lemon pith and orange blossom ...</td>\n      <td>Reserve Late Harvest</td>\n      <td>-1.447138</td>\n      <td>13.0</td>\n      <td>Michigan</td>\n      <td>Lake Michigan Shore</td>\n      <td>NaN</td>\n      <td>Alexander Peartree</td>\n      <td>NaN</td>\n      <td>St. Julian 2013 Reserve Late Harvest Riesling ...</td>\n      <td>Riesling</td>\n      <td>St. Julian</td>\n      <td>everyone</td>\n      <td>129968</td>\n    </tr>\n    <tr>\n      <th>4</th>\n      <td>US</td>\n      <td>Much like the regular bottling from 2012, this...</td>\n      <td>Vintner's Reserve Wild Child Block</td>\n      <td>-1.447138</td>\n      <td>65.0</td>\n      <td>Oregon</td>\n      <td>Willamette Valley</td>\n      <td>Willamette Valley</td>\n      <td>Paul Gregutt</td>\n      <td>@paulgwine</td>\n      <td>Sweet Cheeks 2012 Vintner's Reserve Wild Child...</td>\n      <td>Pinot Noir</td>\n      <td>Sweet Cheeks</td>\n      <td>everyone</td>\n      <td>129967</td>\n    </tr>\n    <tr>\n      <th>...</th>\n      <td>...</td>\n      <td>...</td>\n      <td>...</td>\n      <td>...</td>\n      <td>...</td>\n      <td>...</td>\n      <td>...</td>\n      <td>...</td>\n      <td>...</td>\n      <td>...</td>\n      <td>...</td>\n      <td>...</td>\n      <td>...</td>\n      <td>...</td>\n      <td>...</td>\n    </tr>\n    <tr>\n      <th>129966</th>\n      <td>Germany</td>\n      <td>Notes of honeysuckle and cantaloupe sweeten th...</td>\n      <td>Brauneberger Juffer-Sonnenuhr Spätlese</td>\n      <td>1.552862</td>\n      <td>28.0</td>\n      <td>Mosel</td>\n      <td>NaN</td>\n      <td>NaN</td>\n      <td>Anna Lee C. Iijima</td>\n      <td>NaN</td>\n      <td>Dr. H. Thanisch (Erben Müller-Burggraef) 2013 ...</td>\n      <td>Riesling</td>\n      <td>Dr. H. Thanisch (Erben Müller-Burggraef)</td>\n      <td>everyone</td>\n      <td>5</td>\n    </tr>\n    <tr>\n      <th>129967</th>\n      <td>US</td>\n      <td>Citation is given as much as a decade of bottl...</td>\n      <td>NaN</td>\n      <td>1.552862</td>\n      <td>75.0</td>\n      <td>Oregon</td>\n      <td>Oregon</td>\n      <td>Oregon Other</td>\n      <td>Paul Gregutt</td>\n      <td>@paulgwine</td>\n      <td>Citation 2004 Pinot Noir (Oregon)</td>\n      <td>Pinot Noir</td>\n      <td>Citation</td>\n      <td>everyone</td>\n      <td>4</td>\n    </tr>\n    <tr>\n      <th>129968</th>\n      <td>France</td>\n      <td>Well-drained gravel soil gives this wine its c...</td>\n      <td>Kritt</td>\n      <td>1.552862</td>\n      <td>30.0</td>\n      <td>Alsace</td>\n      <td>Alsace</td>\n      <td>NaN</td>\n      <td>Roger Voss</td>\n      <td>@vossroger</td>\n      <td>Domaine Gresser 2013 Kritt Gewurztraminer (Als...</td>\n      <td>Gewürztraminer</td>\n      <td>Domaine Gresser</td>\n      <td>everyone</td>\n      <td>3</td>\n    </tr>\n    <tr>\n      <th>129969</th>\n      <td>France</td>\n      <td>A dry style of Pinot Gris, this is crisp with ...</td>\n      <td>NaN</td>\n      <td>1.552862</td>\n      <td>32.0</td>\n      <td>Alsace</td>\n      <td>Alsace</td>\n      <td>NaN</td>\n      <td>Roger Voss</td>\n      <td>@vossroger</td>\n      <td>Domaine Marcel Deiss 2012 Pinot Gris (Alsace)</td>\n      <td>Pinot Gris</td>\n      <td>Domaine Marcel Deiss</td>\n      <td>everyone</td>\n      <td>2</td>\n    </tr>\n    <tr>\n      <th>129970</th>\n      <td>France</td>\n      <td>Big, rich and off-dry, this is powered by inte...</td>\n      <td>Lieu-dit Harth Cuvée Caroline</td>\n      <td>1.552862</td>\n      <td>21.0</td>\n      <td>Alsace</td>\n      <td>Alsace</td>\n      <td>NaN</td>\n      <td>Roger Voss</td>\n      <td>@vossroger</td>\n      <td>Domaine Schoffit 2012 Lieu-dit Harth Cuvée Car...</td>\n      <td>Gewürztraminer</td>\n      <td>Domaine Schoffit</td>\n      <td>everyone</td>\n      <td>1</td>\n    </tr>\n  </tbody>\n</table>\n<p>129971 rows × 15 columns</p>\n</div>",
      "text/plain": "         country                                        description  \\\n0          Italy  Aromas include tropical fruit, broom, brimston...   \n1       Portugal  This is ripe and fruity, a wine that is smooth...   \n2             US  Tart and snappy, the flavors of lime flesh and...   \n3             US  Pineapple rind, lemon pith and orange blossom ...   \n4             US  Much like the regular bottling from 2012, this...   \n...          ...                                                ...   \n129966   Germany  Notes of honeysuckle and cantaloupe sweeten th...   \n129967        US  Citation is given as much as a decade of bottl...   \n129968    France  Well-drained gravel soil gives this wine its c...   \n129969    France  A dry style of Pinot Gris, this is crisp with ...   \n129970    France  Big, rich and off-dry, this is powered by inte...   \n\n                                   designation    points  price  \\\n0                                 Vulkà Bianco -1.447138    NaN   \n1                                     Avidagos -1.447138   15.0   \n2                                          NaN -1.447138   14.0   \n3                         Reserve Late Harvest -1.447138   13.0   \n4           Vintner's Reserve Wild Child Block -1.447138   65.0   \n...                                        ...       ...    ...   \n129966  Brauneberger Juffer-Sonnenuhr Spätlese  1.552862   28.0   \n129967                                     NaN  1.552862   75.0   \n129968                                   Kritt  1.552862   30.0   \n129969                                     NaN  1.552862   32.0   \n129970           Lieu-dit Harth Cuvée Caroline  1.552862   21.0   \n\n                 province             region_1           region_2  \\\n0       Sicily & Sardinia                 Etna                NaN   \n1                   Douro                  NaN                NaN   \n2                  Oregon    Willamette Valley  Willamette Valley   \n3                Michigan  Lake Michigan Shore                NaN   \n4                  Oregon    Willamette Valley  Willamette Valley   \n...                   ...                  ...                ...   \n129966              Mosel                  NaN                NaN   \n129967             Oregon               Oregon       Oregon Other   \n129968             Alsace               Alsace                NaN   \n129969             Alsace               Alsace                NaN   \n129970             Alsace               Alsace                NaN   \n\n               taster_name taster_twitter_handle  \\\n0            Kerin O’Keefe          @kerinokeefe   \n1               Roger Voss            @vossroger   \n2             Paul Gregutt           @paulgwine    \n3       Alexander Peartree                   NaN   \n4             Paul Gregutt           @paulgwine    \n...                    ...                   ...   \n129966  Anna Lee C. Iijima                   NaN   \n129967        Paul Gregutt           @paulgwine    \n129968          Roger Voss            @vossroger   \n129969          Roger Voss            @vossroger   \n129970          Roger Voss            @vossroger   \n\n                                                    title         variety  \\\n0                       Nicosia 2013 Vulkà Bianco  (Etna)     White Blend   \n1           Quinta dos Avidagos 2011 Avidagos Red (Douro)  Portuguese Red   \n2           Rainstorm 2013 Pinot Gris (Willamette Valley)      Pinot Gris   \n3       St. Julian 2013 Reserve Late Harvest Riesling ...        Riesling   \n4       Sweet Cheeks 2012 Vintner's Reserve Wild Child...      Pinot Noir   \n...                                                   ...             ...   \n129966  Dr. H. Thanisch (Erben Müller-Burggraef) 2013 ...        Riesling   \n129967                  Citation 2004 Pinot Noir (Oregon)      Pinot Noir   \n129968  Domaine Gresser 2013 Kritt Gewurztraminer (Als...  Gewürztraminer   \n129969      Domaine Marcel Deiss 2012 Pinot Gris (Alsace)      Pinot Gris   \n129970  Domaine Schoffit 2012 Lieu-dit Harth Cuvée Car...  Gewürztraminer   \n\n                                          winery    critic  index_backwards  \n0                                        Nicosia  everyone           129971  \n1                            Quinta dos Avidagos  everyone           129970  \n2                                      Rainstorm  everyone           129969  \n3                                     St. Julian  everyone           129968  \n4                                   Sweet Cheeks  everyone           129967  \n...                                          ...       ...              ...  \n129966  Dr. H. Thanisch (Erben Müller-Burggraef)  everyone                5  \n129967                                  Citation  everyone                4  \n129968                           Domaine Gresser  everyone                3  \n129969                      Domaine Marcel Deiss  everyone                2  \n129970                          Domaine Schoffit  everyone                1  \n\n[129971 rows x 15 columns]"
     },
     "execution_count": 37,
     "metadata": {},
     "output_type": "execute_result"
    }
   ],
   "source": [
    "# apply() same example\r\n",
    "def remean_points(row):\r\n",
    "    row.points = row.points - review_points_mean\r\n",
    "    return row\r\n",
    "\r\n",
    "wine_reviews.apply(remean_points, axis = 'columns')"
   ]
  },
  {
   "cell_type": "markdown",
   "metadata": {},
   "source": [
    "Pandas provides many common mapping operations as built-ins.\r\n",
    "- Series type + singe value type operation => map automatically\r\n",
    "- Series type + Series type operation=> combine automatically"
   ]
  },
  {
   "cell_type": "code",
   "execution_count": 38,
   "metadata": {},
   "outputs": [
    {
     "data": {
      "text/plain": "0        -1.447138\n1        -1.447138\n2        -1.447138\n3        -1.447138\n4        -1.447138\n            ...   \n129966    1.552862\n129967    1.552862\n129968    1.552862\n129969    1.552862\n129970    1.552862\nName: points, Length: 129971, dtype: float64"
     },
     "execution_count": 38,
     "metadata": {},
     "output_type": "execute_result"
    }
   ],
   "source": [
    "# Series type + single values type\r\n",
    "review_points_mean = wine_reviews.points.mean()\r\n",
    "wine_reviews.points - review_points_mean"
   ]
  },
  {
   "cell_type": "code",
   "execution_count": 39,
   "metadata": {},
   "outputs": [
    {
     "data": {
      "text/plain": "0                     Italy-Etna\n1                            NaN\n2           US-Willamette Valley\n3         US-Lake Michigan Shore\n4           US-Willamette Valley\n                   ...          \n129966                       NaN\n129967                 US-Oregon\n129968             France-Alsace\n129969             France-Alsace\n129970             France-Alsace\nLength: 129971, dtype: object"
     },
     "execution_count": 39,
     "metadata": {},
     "output_type": "execute_result"
    }
   ],
   "source": [
    "# Series type + Series type \r\n",
    "wine_reviews.country + '-' + wine_reviews.region_1"
   ]
  },
  {
   "cell_type": "code",
   "execution_count": 40,
   "metadata": {},
   "outputs": [
    {
     "name": "stdout",
     "output_type": "stream",
     "text": [
      "Bandit NV Merlot (California)\n"
     ]
    }
   ],
   "source": [
    "# Solution:idxmax() of Series + loc \r\n",
    "bargain_idx = (wine_reviews.points/wine_reviews.price).idxmax()\r\n",
    "bargain_wine = wine_reviews.loc[bargain_idx, 'title']\r\n",
    "print(bargain_wine)"
   ]
  },
  {
   "cell_type": "code",
   "execution_count": 41,
   "metadata": {},
   "outputs": [
    {
     "name": "stdout",
     "output_type": "stream",
     "text": [
      "64590                         Bandit NV Merlot (California)\n",
      "126096    Cramele Recas 2011 UnWineD Pinot Grigio (Viile...\n",
      "Name: title, dtype: object\n"
     ]
    }
   ],
   "source": [
    "# My Solution: new column + select -- more verbose, but return the right result: \r\n",
    "#   there are 2 wine with the highest points/price ratios\r\n",
    "wine_reviews['pp_ratios'] = wine_reviews.points/wine_reviews.price\r\n",
    "bargain_wine = wine_reviews.title.loc[wine_reviews.pp_ratios == wine_reviews.pp_ratios.max()]\r\n",
    "print(bargain_wine)"
   ]
  },
  {
   "cell_type": "markdown",
   "metadata": {},
   "source": [
    "**Exercises**"
   ]
  },
  {
   "cell_type": "markdown",
   "metadata": {},
   "source": [
    "1. There are only so many words you can use when describing a bottle of wine. Is a wine more likely to be \"tropical\" or \"fruity\"? Create a Series descriptor_counts counting how many times each of these two words appears in the description column in the dataset."
   ]
  },
  {
   "cell_type": "code",
   "execution_count": 42,
   "metadata": {},
   "outputs": [
    {
     "name": "stdout",
     "output_type": "stream",
     "text": [
      "tropical    3607\n",
      "fruity      9090\n",
      "dtype: int64\n"
     ]
    }
   ],
   "source": [
    "n_trop = wine_reviews.description.map(lambda desc: \"tropical\" in desc).sum()\r\n",
    "n_fruity = wine_reviews.description.map(lambda desc: \"fruity\" in desc).sum()\r\n",
    "descriptor_counts = pd.Series([n_trop,n_fruity], index=['tropical','fruity'])\r\n",
    "print(descriptor_counts)\r\n",
    "# Quick takeaway: \r\n",
    "# - when deals with string without using regex, it's simple to deal one condition one at a time\r\n",
    "# - always remember `in` in string is the `instr` in sql: check for existence. There is no method simply achieve it after string\r\n",
    "# - index in DataFrame is useful when you want to label the row data\r\n"
   ]
  },
  {
   "cell_type": "markdown",
   "metadata": {},
   "source": [
    "2. We'd like to host these wine reviews on our website, but a rating system ranging from 80 to 100 points is too hard to understand - we'd like to translate them into simple star ratings. A score of 95 or higher counts as 3 stars, a score of at least 85 but less than 95 is 2 stars. Any other score is 1 star.\r\n",
    "\r\n",
    "    Also, the Canadian Vintners Association bought a lot of ads on the site, so any wines from Canada should automatically get 3 stars, regardless of points.\r\n",
    "\r\n",
    "    Create a series star_ratings with the number of stars corresponding to each review in the dataset."
   ]
  },
  {
   "cell_type": "code",
   "execution_count": 43,
   "metadata": {},
   "outputs": [
    {
     "name": "stdout",
     "output_type": "stream",
     "text": [
      "0         2\n",
      "1         2\n",
      "2         2\n",
      "3         2\n",
      "4         2\n",
      "         ..\n",
      "129966    2\n",
      "129967    2\n",
      "129968    2\n",
      "129969    2\n",
      "129970    2\n",
      "Length: 129971, dtype: int64\n"
     ]
    }
   ],
   "source": [
    "def rate_star(row):\r\n",
    "    star = 0 \r\n",
    "    if (row.points>=95 or row.country == 'Cananda'):\r\n",
    "        star = 3\r\n",
    "    elif (row.points<95 and row.points>=85):\r\n",
    "        star = 2\r\n",
    "    else:\r\n",
    "        star = 1\r\n",
    "    return star\r\n",
    "        \r\n",
    "star_ratings = wine_reviews.apply(rate_star, axis=\"columns\")\r\n",
    "print(star_ratings)"
   ]
  },
  {
   "cell_type": "markdown",
   "metadata": {},
   "source": [
    "## Grouping and Sorting"
   ]
  },
  {
   "cell_type": "markdown",
   "metadata": {},
   "source": [
    "### Groupwise analysis"
   ]
  },
  {
   "cell_type": "code",
   "execution_count": 44,
   "metadata": {},
   "outputs": [],
   "source": [
    "pd.set_option(\"display.max_rows\", 5)\r\n"
   ]
  },
  {
   "cell_type": "code",
   "execution_count": 45,
   "metadata": {},
   "outputs": [
    {
     "data": {
      "text/plain": "points\n80     397\n81     692\n      ... \n99      33\n100     19\nName: points, Length: 21, dtype: int64"
     },
     "execution_count": 45,
     "metadata": {},
     "output_type": "execute_result"
    }
   ],
   "source": [
    "# realize value_counts() using groupby()\r\n",
    "df = wine_reviews.groupby('points')  # this creates a special groupby object\r\n",
    "df.points.count() # count different points"
   ]
  },
  {
   "cell_type": "code",
   "execution_count": 46,
   "metadata": {},
   "outputs": [
    {
     "data": {
      "text/plain": "points\n80      5.0\n81      5.0\n       ... \n99     44.0\n100    80.0\nName: price, Length: 21, dtype: float64"
     },
     "execution_count": 46,
     "metadata": {},
     "output_type": "execute_result"
    }
   ],
   "source": [
    "df.price.min() # get the min price of each point group"
   ]
  },
  {
   "cell_type": "markdown",
   "metadata": {},
   "source": [
    "You can think of each group we generate as being a slice of our DataFrame containing only data with values that match. This DataFrame is accessable to us directly using the `apply()` method"
   ]
  },
  {
   "cell_type": "code",
   "execution_count": 47,
   "metadata": {},
   "outputs": [
    {
     "data": {
      "text/plain": "winery\n1+1=3                          1+1=3 NV Rosé Sparkling (Cava)\n10 Knots                 10 Knots 2010 Viognier (Paso Robles)\n                                  ...                        \nàMaurice    àMaurice 2013 Fred Estate Syrah (Walla Walla V...\nŠtoka                         Štoka 2009 Izbrani Teran (Kras)\nLength: 16757, dtype: object"
     },
     "execution_count": 47,
     "metadata": {},
     "output_type": "execute_result"
    }
   ],
   "source": [
    "# select the name of the first wine reviewed from each winery \r\n",
    "wine_reviews.groupby('winery').apply(lambda df: df.title.iloc[0])"
   ]
  },
  {
   "cell_type": "code",
   "execution_count": 48,
   "metadata": {},
   "outputs": [
    {
     "data": {
      "text/html": "<div>\n<style scoped>\n    .dataframe tbody tr th:only-of-type {\n        vertical-align: middle;\n    }\n\n    .dataframe tbody tr th {\n        vertical-align: top;\n    }\n\n    .dataframe thead th {\n        text-align: right;\n    }\n</style>\n<table border=\"1\" class=\"dataframe\">\n  <thead>\n    <tr style=\"text-align: right;\">\n      <th></th>\n      <th></th>\n      <th>country</th>\n      <th>description</th>\n      <th>designation</th>\n      <th>points</th>\n      <th>price</th>\n      <th>province</th>\n      <th>region_1</th>\n      <th>region_2</th>\n      <th>taster_name</th>\n      <th>taster_twitter_handle</th>\n      <th>title</th>\n      <th>variety</th>\n      <th>winery</th>\n      <th>critic</th>\n      <th>index_backwards</th>\n      <th>pp_ratios</th>\n    </tr>\n    <tr>\n      <th>country</th>\n      <th>province</th>\n      <th></th>\n      <th></th>\n      <th></th>\n      <th></th>\n      <th></th>\n      <th></th>\n      <th></th>\n      <th></th>\n      <th></th>\n      <th></th>\n      <th></th>\n      <th></th>\n      <th></th>\n      <th></th>\n      <th></th>\n      <th></th>\n    </tr>\n  </thead>\n  <tbody>\n    <tr>\n      <th rowspan=\"2\" valign=\"top\">Argentina</th>\n      <th>Mendoza Province</th>\n      <td>Argentina</td>\n      <td>If the color doesn't tell the full story, the ...</td>\n      <td>Nicasia Vineyard</td>\n      <td>97</td>\n      <td>120.0</td>\n      <td>Mendoza Province</td>\n      <td>Mendoza</td>\n      <td>NaN</td>\n      <td>Michael Schachner</td>\n      <td>@wineschach</td>\n      <td>Bodega Catena Zapata 2006 Nicasia Vineyard Mal...</td>\n      <td>Malbec</td>\n      <td>Bodega Catena Zapata</td>\n      <td>everyone</td>\n      <td>47217</td>\n      <td>0.808333</td>\n    </tr>\n    <tr>\n      <th>Other</th>\n      <td>Argentina</td>\n      <td>Take note, this could be the best wine Colomé ...</td>\n      <td>Reserva</td>\n      <td>95</td>\n      <td>90.0</td>\n      <td>Other</td>\n      <td>Salta</td>\n      <td>NaN</td>\n      <td>Michael Schachner</td>\n      <td>@wineschach</td>\n      <td>Colomé 2010 Reserva Malbec (Salta)</td>\n      <td>Malbec</td>\n      <td>Colomé</td>\n      <td>everyone</td>\n      <td>51668</td>\n      <td>1.055556</td>\n    </tr>\n    <tr>\n      <th>...</th>\n      <th>...</th>\n      <td>...</td>\n      <td>...</td>\n      <td>...</td>\n      <td>...</td>\n      <td>...</td>\n      <td>...</td>\n      <td>...</td>\n      <td>...</td>\n      <td>...</td>\n      <td>...</td>\n      <td>...</td>\n      <td>...</td>\n      <td>...</td>\n      <td>...</td>\n      <td>...</td>\n      <td>...</td>\n    </tr>\n    <tr>\n      <th rowspan=\"2\" valign=\"top\">Uruguay</th>\n      <th>San Jose</th>\n      <td>Uruguay</td>\n      <td>Baked, sweet, heavy aromas turn earthy with ti...</td>\n      <td>El Preciado Gran Reserva</td>\n      <td>87</td>\n      <td>50.0</td>\n      <td>San Jose</td>\n      <td>NaN</td>\n      <td>NaN</td>\n      <td>Michael Schachner</td>\n      <td>@wineschach</td>\n      <td>Castillo Viejo 2005 El Preciado Gran Reserva R...</td>\n      <td>Red Blend</td>\n      <td>Castillo Viejo</td>\n      <td>everyone</td>\n      <td>90073</td>\n      <td>1.740000</td>\n    </tr>\n    <tr>\n      <th>Uruguay</th>\n      <td>Uruguay</td>\n      <td>Cherry and berry aromas are ripe, healthy and ...</td>\n      <td>Blend 002 Limited Edition</td>\n      <td>91</td>\n      <td>22.0</td>\n      <td>Uruguay</td>\n      <td>NaN</td>\n      <td>NaN</td>\n      <td>Michael Schachner</td>\n      <td>@wineschach</td>\n      <td>Narbona NV Blend 002 Limited Edition Tannat-Ca...</td>\n      <td>Tannat-Cabernet Franc</td>\n      <td>Narbona</td>\n      <td>everyone</td>\n      <td>90610</td>\n      <td>4.136364</td>\n    </tr>\n  </tbody>\n</table>\n<p>425 rows × 16 columns</p>\n</div>",
      "text/plain": "                              country  \\\ncountry   province                      \nArgentina Mendoza Province  Argentina   \n          Other             Argentina   \n...                               ...   \nUruguay   San Jose            Uruguay   \n          Uruguay             Uruguay   \n\n                                                                  description  \\\ncountry   province                                                              \nArgentina Mendoza Province  If the color doesn't tell the full story, the ...   \n          Other             Take note, this could be the best wine Colomé ...   \n...                                                                       ...   \nUruguay   San Jose          Baked, sweet, heavy aromas turn earthy with ti...   \n          Uruguay           Cherry and berry aromas are ripe, healthy and ...   \n\n                                          designation  points  price  \\\ncountry   province                                                     \nArgentina Mendoza Province           Nicasia Vineyard      97  120.0   \n          Other                               Reserva      95   90.0   \n...                                               ...     ...    ...   \nUruguay   San Jose           El Preciado Gran Reserva      87   50.0   \n          Uruguay           Blend 002 Limited Edition      91   22.0   \n\n                                    province region_1 region_2  \\\ncountry   province                                               \nArgentina Mendoza Province  Mendoza Province  Mendoza      NaN   \n          Other                        Other    Salta      NaN   \n...                                      ...      ...      ...   \nUruguay   San Jose                  San Jose      NaN      NaN   \n          Uruguay                    Uruguay      NaN      NaN   \n\n                                  taster_name taster_twitter_handle  \\\ncountry   province                                                    \nArgentina Mendoza Province  Michael Schachner           @wineschach   \n          Other             Michael Schachner           @wineschach   \n...                                       ...                   ...   \nUruguay   San Jose          Michael Schachner           @wineschach   \n          Uruguay           Michael Schachner           @wineschach   \n\n                                                                        title  \\\ncountry   province                                                              \nArgentina Mendoza Province  Bodega Catena Zapata 2006 Nicasia Vineyard Mal...   \n          Other                            Colomé 2010 Reserva Malbec (Salta)   \n...                                                                       ...   \nUruguay   San Jose          Castillo Viejo 2005 El Preciado Gran Reserva R...   \n          Uruguay           Narbona NV Blend 002 Limited Edition Tannat-Ca...   \n\n                                          variety                winery  \\\ncountry   province                                                        \nArgentina Mendoza Province                 Malbec  Bodega Catena Zapata   \n          Other                            Malbec                Colomé   \n...                                           ...                   ...   \nUruguay   San Jose                      Red Blend        Castillo Viejo   \n          Uruguay           Tannat-Cabernet Franc               Narbona   \n\n                              critic  index_backwards  pp_ratios  \ncountry   province                                                \nArgentina Mendoza Province  everyone            47217   0.808333  \n          Other             everyone            51668   1.055556  \n...                              ...              ...        ...  \nUruguay   San Jose          everyone            90073   1.740000  \n          Uruguay           everyone            90610   4.136364  \n\n[425 rows x 16 columns]"
     },
     "execution_count": 48,
     "metadata": {},
     "output_type": "execute_result"
    }
   ],
   "source": [
    "# group by two columns and select the wine with highest point\r\n",
    "wine_reviews.groupby(['country','province']).apply(lambda df: df.loc[df.points.idxmax()])"
   ]
  },
  {
   "cell_type": "code",
   "execution_count": 49,
   "metadata": {},
   "outputs": [
    {
     "data": {
      "text/html": "<div>\n<style scoped>\n    .dataframe tbody tr th:only-of-type {\n        vertical-align: middle;\n    }\n\n    .dataframe tbody tr th {\n        vertical-align: top;\n    }\n\n    .dataframe thead th {\n        text-align: right;\n    }\n</style>\n<table border=\"1\" class=\"dataframe\">\n  <thead>\n    <tr style=\"text-align: right;\">\n      <th></th>\n      <th>len</th>\n      <th>min</th>\n      <th>max</th>\n    </tr>\n    <tr>\n      <th>country</th>\n      <th></th>\n      <th></th>\n      <th></th>\n    </tr>\n  </thead>\n  <tbody>\n    <tr>\n      <th>Argentina</th>\n      <td>3800.0</td>\n      <td>4.0</td>\n      <td>230.0</td>\n    </tr>\n    <tr>\n      <th>Armenia</th>\n      <td>2.0</td>\n      <td>14.0</td>\n      <td>15.0</td>\n    </tr>\n    <tr>\n      <th>...</th>\n      <td>...</td>\n      <td>...</td>\n      <td>...</td>\n    </tr>\n    <tr>\n      <th>Ukraine</th>\n      <td>14.0</td>\n      <td>6.0</td>\n      <td>13.0</td>\n    </tr>\n    <tr>\n      <th>Uruguay</th>\n      <td>109.0</td>\n      <td>10.0</td>\n      <td>130.0</td>\n    </tr>\n  </tbody>\n</table>\n<p>43 rows × 3 columns</p>\n</div>",
      "text/plain": "              len   min    max\ncountry                       \nArgentina  3800.0   4.0  230.0\nArmenia       2.0  14.0   15.0\n...           ...   ...    ...\nUkraine      14.0   6.0   13.0\nUruguay     109.0  10.0  130.0\n\n[43 rows x 3 columns]"
     },
     "execution_count": 49,
     "metadata": {},
     "output_type": "execute_result"
    }
   ],
   "source": [
    "# use groupby() + agg() to run a bunch of different functions simultaneously\r\n",
    "wine_reviews.groupby(['country']).price.agg([len, min, max])\r\n",
    "## note len(df) returns the row count of the DataFrame"
   ]
  },
  {
   "cell_type": "markdown",
   "metadata": {},
   "source": [
    "### Multi-indexes\r\n",
    "A multi-index differs from a regular index in that it has multiple levels."
   ]
  },
  {
   "cell_type": "code",
   "execution_count": 50,
   "metadata": {},
   "outputs": [
    {
     "data": {
      "text/html": "<div>\n<style scoped>\n    .dataframe tbody tr th:only-of-type {\n        vertical-align: middle;\n    }\n\n    .dataframe tbody tr th {\n        vertical-align: top;\n    }\n\n    .dataframe thead th {\n        text-align: right;\n    }\n</style>\n<table border=\"1\" class=\"dataframe\">\n  <thead>\n    <tr style=\"text-align: right;\">\n      <th></th>\n      <th></th>\n      <th>len</th>\n    </tr>\n    <tr>\n      <th>country</th>\n      <th>province</th>\n      <th></th>\n    </tr>\n  </thead>\n  <tbody>\n    <tr>\n      <th rowspan=\"2\" valign=\"top\">Argentina</th>\n      <th>Mendoza Province</th>\n      <td>3264</td>\n    </tr>\n    <tr>\n      <th>Other</th>\n      <td>536</td>\n    </tr>\n    <tr>\n      <th>...</th>\n      <th>...</th>\n      <td>...</td>\n    </tr>\n    <tr>\n      <th rowspan=\"2\" valign=\"top\">Uruguay</th>\n      <th>San Jose</th>\n      <td>3</td>\n    </tr>\n    <tr>\n      <th>Uruguay</th>\n      <td>24</td>\n    </tr>\n  </tbody>\n</table>\n<p>425 rows × 1 columns</p>\n</div>",
      "text/plain": "                             len\ncountry   province              \nArgentina Mendoza Province  3264\n          Other              536\n...                          ...\nUruguay   San Jose             3\n          Uruguay             24\n\n[425 rows x 1 columns]"
     },
     "execution_count": 50,
     "metadata": {},
     "output_type": "execute_result"
    }
   ],
   "source": [
    "# count the number of reviews for each province\r\n",
    "countries_reviewed = wine_reviews.groupby(['country','province']).description.agg([len])\r\n",
    "countries_reviewed\r\n",
    "## note: the result df has multiple levels"
   ]
  },
  {
   "cell_type": "code",
   "execution_count": 51,
   "metadata": {},
   "outputs": [
    {
     "data": {
      "text/plain": "pandas.core.indexes.multi.MultiIndex"
     },
     "execution_count": 51,
     "metadata": {},
     "output_type": "execute_result"
    }
   ],
   "source": [
    "mi = countries_reviewed.index\r\n",
    "type(mi)"
   ]
  },
  {
   "cell_type": "markdown",
   "metadata": {},
   "source": [
    " in general the multi-index method you will use most often is the one for converting back to a regular index, the `reset_index()` method:"
   ]
  },
  {
   "cell_type": "code",
   "execution_count": 52,
   "metadata": {},
   "outputs": [
    {
     "data": {
      "text/html": "<div>\n<style scoped>\n    .dataframe tbody tr th:only-of-type {\n        vertical-align: middle;\n    }\n\n    .dataframe tbody tr th {\n        vertical-align: top;\n    }\n\n    .dataframe thead th {\n        text-align: right;\n    }\n</style>\n<table border=\"1\" class=\"dataframe\">\n  <thead>\n    <tr style=\"text-align: right;\">\n      <th></th>\n      <th>country</th>\n      <th>province</th>\n      <th>len</th>\n    </tr>\n  </thead>\n  <tbody>\n    <tr>\n      <th>0</th>\n      <td>Argentina</td>\n      <td>Mendoza Province</td>\n      <td>3264</td>\n    </tr>\n    <tr>\n      <th>1</th>\n      <td>Argentina</td>\n      <td>Other</td>\n      <td>536</td>\n    </tr>\n    <tr>\n      <th>...</th>\n      <td>...</td>\n      <td>...</td>\n      <td>...</td>\n    </tr>\n    <tr>\n      <th>423</th>\n      <td>Uruguay</td>\n      <td>San Jose</td>\n      <td>3</td>\n    </tr>\n    <tr>\n      <th>424</th>\n      <td>Uruguay</td>\n      <td>Uruguay</td>\n      <td>24</td>\n    </tr>\n  </tbody>\n</table>\n<p>425 rows × 3 columns</p>\n</div>",
      "text/plain": "       country          province   len\n0    Argentina  Mendoza Province  3264\n1    Argentina             Other   536\n..         ...               ...   ...\n423    Uruguay          San Jose     3\n424    Uruguay           Uruguay    24\n\n[425 rows x 3 columns]"
     },
     "execution_count": 52,
     "metadata": {},
     "output_type": "execute_result"
    }
   ],
   "source": [
    "countries_reviewed.reset_index() # convert multiple index to single index"
   ]
  },
  {
   "cell_type": "markdown",
   "metadata": {},
   "source": [
    "### Sorting"
   ]
  },
  {
   "cell_type": "code",
   "execution_count": 53,
   "metadata": {},
   "outputs": [
    {
     "data": {
      "text/html": "<div>\n<style scoped>\n    .dataframe tbody tr th:only-of-type {\n        vertical-align: middle;\n    }\n\n    .dataframe tbody tr th {\n        vertical-align: top;\n    }\n\n    .dataframe thead th {\n        text-align: right;\n    }\n</style>\n<table border=\"1\" class=\"dataframe\">\n  <thead>\n    <tr style=\"text-align: right;\">\n      <th></th>\n      <th>country</th>\n      <th>province</th>\n      <th>len</th>\n    </tr>\n  </thead>\n  <tbody>\n    <tr>\n      <th>179</th>\n      <td>Greece</td>\n      <td>Muscat of Kefallonian</td>\n      <td>1</td>\n    </tr>\n    <tr>\n      <th>192</th>\n      <td>Greece</td>\n      <td>Sterea Ellada</td>\n      <td>1</td>\n    </tr>\n    <tr>\n      <th>...</th>\n      <td>...</td>\n      <td>...</td>\n      <td>...</td>\n    </tr>\n    <tr>\n      <th>415</th>\n      <td>US</td>\n      <td>Washington</td>\n      <td>8639</td>\n    </tr>\n    <tr>\n      <th>392</th>\n      <td>US</td>\n      <td>California</td>\n      <td>36247</td>\n    </tr>\n  </tbody>\n</table>\n<p>425 rows × 3 columns</p>\n</div>",
      "text/plain": "    country               province    len\n179  Greece  Muscat of Kefallonian      1\n192  Greece          Sterea Ellada      1\n..      ...                    ...    ...\n415      US             Washington   8639\n392      US             California  36247\n\n[425 rows x 3 columns]"
     },
     "execution_count": 53,
     "metadata": {},
     "output_type": "execute_result"
    }
   ],
   "source": [
    "countries_reviewed = countries_reviewed.reset_index()\r\n",
    "countries_reviewed.sort_values(by = 'len') # sort df by column `len` in ascending order"
   ]
  },
  {
   "cell_type": "code",
   "execution_count": 54,
   "metadata": {},
   "outputs": [
    {
     "data": {
      "text/html": "<div>\n<style scoped>\n    .dataframe tbody tr th:only-of-type {\n        vertical-align: middle;\n    }\n\n    .dataframe tbody tr th {\n        vertical-align: top;\n    }\n\n    .dataframe thead th {\n        text-align: right;\n    }\n</style>\n<table border=\"1\" class=\"dataframe\">\n  <thead>\n    <tr style=\"text-align: right;\">\n      <th></th>\n      <th>country</th>\n      <th>province</th>\n      <th>len</th>\n    </tr>\n  </thead>\n  <tbody>\n    <tr>\n      <th>392</th>\n      <td>US</td>\n      <td>California</td>\n      <td>36247</td>\n    </tr>\n    <tr>\n      <th>415</th>\n      <td>US</td>\n      <td>Washington</td>\n      <td>8639</td>\n    </tr>\n    <tr>\n      <th>...</th>\n      <td>...</td>\n      <td>...</td>\n      <td>...</td>\n    </tr>\n    <tr>\n      <th>63</th>\n      <td>Chile</td>\n      <td>Coelemu</td>\n      <td>1</td>\n    </tr>\n    <tr>\n      <th>149</th>\n      <td>Greece</td>\n      <td>Beotia</td>\n      <td>1</td>\n    </tr>\n  </tbody>\n</table>\n<p>425 rows × 3 columns</p>\n</div>",
      "text/plain": "    country    province    len\n392      US  California  36247\n415      US  Washington   8639\n..      ...         ...    ...\n63    Chile     Coelemu      1\n149  Greece      Beotia      1\n\n[425 rows x 3 columns]"
     },
     "execution_count": 54,
     "metadata": {},
     "output_type": "execute_result"
    }
   ],
   "source": [
    "countries_reviewed.sort_values(by = 'len', ascending=False) # sort df by column `len` in descending order"
   ]
  },
  {
   "cell_type": "code",
   "execution_count": 55,
   "metadata": {},
   "outputs": [
    {
     "data": {
      "text/html": "<div>\n<style scoped>\n    .dataframe tbody tr th:only-of-type {\n        vertical-align: middle;\n    }\n\n    .dataframe tbody tr th {\n        vertical-align: top;\n    }\n\n    .dataframe thead th {\n        text-align: right;\n    }\n</style>\n<table border=\"1\" class=\"dataframe\">\n  <thead>\n    <tr style=\"text-align: right;\">\n      <th></th>\n      <th>country</th>\n      <th>province</th>\n      <th>len</th>\n    </tr>\n  </thead>\n  <tbody>\n    <tr>\n      <th>0</th>\n      <td>Argentina</td>\n      <td>Mendoza Province</td>\n      <td>3264</td>\n    </tr>\n    <tr>\n      <th>1</th>\n      <td>Argentina</td>\n      <td>Other</td>\n      <td>536</td>\n    </tr>\n    <tr>\n      <th>...</th>\n      <td>...</td>\n      <td>...</td>\n      <td>...</td>\n    </tr>\n    <tr>\n      <th>423</th>\n      <td>Uruguay</td>\n      <td>San Jose</td>\n      <td>3</td>\n    </tr>\n    <tr>\n      <th>424</th>\n      <td>Uruguay</td>\n      <td>Uruguay</td>\n      <td>24</td>\n    </tr>\n  </tbody>\n</table>\n<p>425 rows × 3 columns</p>\n</div>",
      "text/plain": "       country          province   len\n0    Argentina  Mendoza Province  3264\n1    Argentina             Other   536\n..         ...               ...   ...\n423    Uruguay          San Jose     3\n424    Uruguay           Uruguay    24\n\n[425 rows x 3 columns]"
     },
     "execution_count": 55,
     "metadata": {},
     "output_type": "execute_result"
    }
   ],
   "source": [
    "countries_reviewed.sort_index() # sort by index(default order mode)"
   ]
  },
  {
   "cell_type": "code",
   "execution_count": 56,
   "metadata": {},
   "outputs": [
    {
     "data": {
      "text/html": "<div>\n<style scoped>\n    .dataframe tbody tr th:only-of-type {\n        vertical-align: middle;\n    }\n\n    .dataframe tbody tr th {\n        vertical-align: top;\n    }\n\n    .dataframe thead th {\n        text-align: right;\n    }\n</style>\n<table border=\"1\" class=\"dataframe\">\n  <thead>\n    <tr style=\"text-align: right;\">\n      <th></th>\n      <th>country</th>\n      <th>province</th>\n      <th>len</th>\n    </tr>\n  </thead>\n  <tbody>\n    <tr>\n      <th>1</th>\n      <td>Argentina</td>\n      <td>Other</td>\n      <td>536</td>\n    </tr>\n    <tr>\n      <th>0</th>\n      <td>Argentina</td>\n      <td>Mendoza Province</td>\n      <td>3264</td>\n    </tr>\n    <tr>\n      <th>...</th>\n      <td>...</td>\n      <td>...</td>\n      <td>...</td>\n    </tr>\n    <tr>\n      <th>424</th>\n      <td>Uruguay</td>\n      <td>Uruguay</td>\n      <td>24</td>\n    </tr>\n    <tr>\n      <th>419</th>\n      <td>Uruguay</td>\n      <td>Canelones</td>\n      <td>43</td>\n    </tr>\n  </tbody>\n</table>\n<p>425 rows × 3 columns</p>\n</div>",
      "text/plain": "       country          province   len\n1    Argentina             Other   536\n0    Argentina  Mendoza Province  3264\n..         ...               ...   ...\n424    Uruguay           Uruguay    24\n419    Uruguay         Canelones    43\n\n[425 rows x 3 columns]"
     },
     "execution_count": 56,
     "metadata": {},
     "output_type": "execute_result"
    }
   ],
   "source": [
    "# sort by 2 column\r\n",
    "countries_reviewed.sort_values(by = ['country','len']) "
   ]
  },
  {
   "cell_type": "markdown",
   "metadata": {},
   "source": [
    "#### Excercises"
   ]
  },
  {
   "cell_type": "markdown",
   "metadata": {},
   "source": [
    "1. Who are the most common wine reviewers in the dataset? Create a Series whose index is the taster_twitter_handle category from the dataset, and whose values count how many reviews each person wrote."
   ]
  },
  {
   "cell_type": "code",
   "execution_count": 57,
   "metadata": {},
   "outputs": [],
   "source": [
    "reviews_written = wine_reviews.groupby('taster_twitter_handle').size()\r\n",
    "# or\r\n",
    "reviews_written = wine_reviews.groupby('taster_twitter_handle').taster_twitter_handle.count()"
   ]
  },
  {
   "cell_type": "markdown",
   "metadata": {},
   "source": [
    "2. What is the best wine I can buy for a given amount of money? Create a Series whose index is wine prices and whose values is the maximum number of points a wine costing that much was given in a review. Sort the values by price, ascending (so that 4.0 dollars is at the top and 3300.0 dollars is at the bottom)."
   ]
  },
  {
   "cell_type": "code",
   "execution_count": 58,
   "metadata": {},
   "outputs": [
    {
     "name": "stdout",
     "output_type": "stream",
     "text": [
      "price\n",
      "4.0       86\n",
      "5.0       87\n",
      "          ..\n",
      "2500.0    96\n",
      "3300.0    88\n",
      "Name: points, Length: 390, dtype: int64\n"
     ]
    }
   ],
   "source": [
    "best_rating_per_price = wine_reviews.groupby('price').points.max().sort_index()\r\n",
    "print(best_rating_per_price)"
   ]
  },
  {
   "cell_type": "markdown",
   "metadata": {},
   "source": [
    "3. What are the minimum and maximum prices for each variety of wine? Create a DataFrame whose index is the variety category from the dataset and whose values are the min and max values thereof."
   ]
  },
  {
   "cell_type": "code",
   "execution_count": 59,
   "metadata": {},
   "outputs": [
    {
     "name": "stdout",
     "output_type": "stream",
     "text": [
      "              min   max\n",
      "variety                \n",
      "Abouriou     15.0  75.0\n",
      "Agiorgitiko  10.0  66.0\n",
      "...           ...   ...\n",
      "Çalkarası    19.0  19.0\n",
      "Žilavka      15.0  15.0\n",
      "\n",
      "[707 rows x 2 columns]\n"
     ]
    }
   ],
   "source": [
    "price_extremes = wine_reviews.groupby('variety').price.agg([min, max])\r\n",
    "print(price_extremes)"
   ]
  },
  {
   "cell_type": "markdown",
   "metadata": {},
   "source": [
    "4. What are the most expensive wine varieties? Create a variable sorted_varieties containing a copy of the dataframe from the previous question where varieties are sorted in descending order based on minimum price, then on maximum price (to break ties)."
   ]
  },
  {
   "cell_type": "code",
   "execution_count": 60,
   "metadata": {},
   "outputs": [
    {
     "name": "stdout",
     "output_type": "stream",
     "text": [
      "             min    max\n",
      "variety                \n",
      "Ramisco    495.0  495.0\n",
      "Terrantez  236.0  236.0\n",
      "...          ...    ...\n",
      "Vital        NaN    NaN\n",
      "Zelen        NaN    NaN\n",
      "\n",
      "[707 rows x 2 columns]\n"
     ]
    }
   ],
   "source": [
    "sorted_varieties = price_extremes.sort_values(by=['min', 'max'], ascending=False)\r\n",
    "print(sorted_varieties)"
   ]
  },
  {
   "cell_type": "markdown",
   "metadata": {},
   "source": [
    "5. Create a Series whose index is reviewers and whose values is the average review score given out by that reviewer. Hint: you will need the taster_name and points columns."
   ]
  },
  {
   "cell_type": "code",
   "execution_count": 61,
   "metadata": {},
   "outputs": [
    {
     "name": "stdout",
     "output_type": "stream",
     "text": [
      "taster_name\n",
      "Alexander Peartree    85.855422\n",
      "Anna Lee C. Iijima    88.415629\n",
      "                        ...    \n",
      "Susan Kostrzewa       86.609217\n",
      "Virginie Boone        89.213379\n",
      "Name: points, Length: 19, dtype: float64\n"
     ]
    }
   ],
   "source": [
    "reviewer_mean_ratings = wine_reviews.groupby('taster_name').points.mean()\r\n",
    "print(reviewer_mean_ratings)"
   ]
  },
  {
   "cell_type": "markdown",
   "metadata": {},
   "source": [
    "## Data Types and Missing Values"
   ]
  },
  {
   "cell_type": "markdown",
   "metadata": {},
   "source": [
    "### Dtypes\r\n",
    " "
   ]
  },
  {
   "cell_type": "code",
   "execution_count": 62,
   "metadata": {},
   "outputs": [
    {
     "data": {
      "text/plain": "dtype('float64')"
     },
     "execution_count": 62,
     "metadata": {},
     "output_type": "execute_result"
    }
   ],
   "source": [
    "# `dtype` property on DataFrame or Series\r\n",
    "wine_reviews.price.dtype"
   ]
  },
  {
   "cell_type": "code",
   "execution_count": 63,
   "metadata": {},
   "outputs": [
    {
     "data": {
      "text/plain": "country             object\ndescription         object\n                    ...   \nindex_backwards      int32\npp_ratios          float64\nLength: 16, dtype: object"
     },
     "execution_count": 63,
     "metadata": {},
     "output_type": "execute_result"
    }
   ],
   "source": [
    "wine_reviews.dtypes"
   ]
  },
  {
   "cell_type": "markdown",
   "metadata": {},
   "source": [
    "One peculiarity to keep in mind is that columns consisting of entirely of strings do not get their own type; they are instead given the `object` type."
   ]
  },
  {
   "cell_type": "code",
   "execution_count": 64,
   "metadata": {},
   "outputs": [
    {
     "data": {
      "text/plain": "0         87.0\n1         87.0\n          ... \n129969    90.0\n129970    90.0\nName: points, Length: 129971, dtype: float64"
     },
     "execution_count": 64,
     "metadata": {},
     "output_type": "execute_result"
    }
   ],
   "source": [
    "# use `astype` to convert format\r\n",
    "wine_reviews.points.astype('float64')"
   ]
  },
  {
   "cell_type": "code",
   "execution_count": 65,
   "metadata": {},
   "outputs": [
    {
     "data": {
      "text/plain": "dtype('int64')"
     },
     "execution_count": 65,
     "metadata": {},
     "output_type": "execute_result"
    }
   ],
   "source": [
    "# A DataFrame or Series index has its own `dtype` too\r\n",
    "wine_reviews.index.dtype"
   ]
  },
  {
   "cell_type": "markdown",
   "metadata": {},
   "source": [
    "### Missing data"
   ]
  },
  {
   "cell_type": "markdown",
   "metadata": {},
   "source": [
    "Entries missing values are given the value `NaN`, short for \"Not a Number\". For technical reasons these `NaN` values are always of the `float64` dtype."
   ]
  },
  {
   "cell_type": "code",
   "execution_count": 66,
   "metadata": {},
   "outputs": [
    {
     "data": {
      "text/html": "<div>\n<style scoped>\n    .dataframe tbody tr th:only-of-type {\n        vertical-align: middle;\n    }\n\n    .dataframe tbody tr th {\n        vertical-align: top;\n    }\n\n    .dataframe thead th {\n        text-align: right;\n    }\n</style>\n<table border=\"1\" class=\"dataframe\">\n  <thead>\n    <tr style=\"text-align: right;\">\n      <th></th>\n      <th>country</th>\n      <th>description</th>\n      <th>designation</th>\n      <th>points</th>\n      <th>price</th>\n      <th>province</th>\n      <th>region_1</th>\n      <th>region_2</th>\n      <th>taster_name</th>\n      <th>taster_twitter_handle</th>\n      <th>title</th>\n      <th>variety</th>\n      <th>winery</th>\n      <th>critic</th>\n      <th>index_backwards</th>\n      <th>pp_ratios</th>\n    </tr>\n  </thead>\n  <tbody>\n    <tr>\n      <th>913</th>\n      <td>NaN</td>\n      <td>Amber in color, this wine has aromas of peach ...</td>\n      <td>Asureti Valley</td>\n      <td>87</td>\n      <td>30.0</td>\n      <td>NaN</td>\n      <td>NaN</td>\n      <td>NaN</td>\n      <td>Mike DeSimone</td>\n      <td>@worldwineguys</td>\n      <td>Gotsa Family Wines 2014 Asureti Valley Chinuri</td>\n      <td>Chinuri</td>\n      <td>Gotsa Family Wines</td>\n      <td>everyone</td>\n      <td>129058</td>\n      <td>2.90000</td>\n    </tr>\n    <tr>\n      <th>3131</th>\n      <td>NaN</td>\n      <td>Soft, fruity and juicy, this is a pleasant, si...</td>\n      <td>Partager</td>\n      <td>83</td>\n      <td>NaN</td>\n      <td>NaN</td>\n      <td>NaN</td>\n      <td>NaN</td>\n      <td>Roger Voss</td>\n      <td>@vossroger</td>\n      <td>Barton &amp; Guestier NV Partager Red</td>\n      <td>Red Blend</td>\n      <td>Barton &amp; Guestier</td>\n      <td>everyone</td>\n      <td>126840</td>\n      <td>NaN</td>\n    </tr>\n    <tr>\n      <th>...</th>\n      <td>...</td>\n      <td>...</td>\n      <td>...</td>\n      <td>...</td>\n      <td>...</td>\n      <td>...</td>\n      <td>...</td>\n      <td>...</td>\n      <td>...</td>\n      <td>...</td>\n      <td>...</td>\n      <td>...</td>\n      <td>...</td>\n      <td>...</td>\n      <td>...</td>\n      <td>...</td>\n    </tr>\n    <tr>\n      <th>129590</th>\n      <td>NaN</td>\n      <td>A blend of 60% Syrah, 30% Cabernet Sauvignon a...</td>\n      <td>Shah</td>\n      <td>90</td>\n      <td>30.0</td>\n      <td>NaN</td>\n      <td>NaN</td>\n      <td>NaN</td>\n      <td>Mike DeSimone</td>\n      <td>@worldwineguys</td>\n      <td>Büyülübağ 2012 Shah Red</td>\n      <td>Red Blend</td>\n      <td>Büyülübağ</td>\n      <td>everyone</td>\n      <td>381</td>\n      <td>3.00000</td>\n    </tr>\n    <tr>\n      <th>129900</th>\n      <td>NaN</td>\n      <td>This wine offers a delightful bouquet of black...</td>\n      <td>NaN</td>\n      <td>91</td>\n      <td>32.0</td>\n      <td>NaN</td>\n      <td>NaN</td>\n      <td>NaN</td>\n      <td>Mike DeSimone</td>\n      <td>@worldwineguys</td>\n      <td>Psagot 2014 Merlot</td>\n      <td>Merlot</td>\n      <td>Psagot</td>\n      <td>everyone</td>\n      <td>71</td>\n      <td>2.84375</td>\n    </tr>\n  </tbody>\n</table>\n<p>63 rows × 16 columns</p>\n</div>",
      "text/plain": "       country                                        description  \\\n913        NaN  Amber in color, this wine has aromas of peach ...   \n3131       NaN  Soft, fruity and juicy, this is a pleasant, si...   \n...        ...                                                ...   \n129590     NaN  A blend of 60% Syrah, 30% Cabernet Sauvignon a...   \n129900     NaN  This wine offers a delightful bouquet of black...   \n\n           designation  points  price province region_1 region_2  \\\n913     Asureti Valley      87   30.0      NaN      NaN      NaN   \n3131          Partager      83    NaN      NaN      NaN      NaN   \n...                ...     ...    ...      ...      ...      ...   \n129590            Shah      90   30.0      NaN      NaN      NaN   \n129900             NaN      91   32.0      NaN      NaN      NaN   \n\n          taster_name taster_twitter_handle  \\\n913     Mike DeSimone        @worldwineguys   \n3131       Roger Voss            @vossroger   \n...               ...                   ...   \n129590  Mike DeSimone        @worldwineguys   \n129900  Mike DeSimone        @worldwineguys   \n\n                                                 title    variety  \\\n913     Gotsa Family Wines 2014 Asureti Valley Chinuri    Chinuri   \n3131                 Barton & Guestier NV Partager Red  Red Blend   \n...                                                ...        ...   \n129590                         Büyülübağ 2012 Shah Red  Red Blend   \n129900                              Psagot 2014 Merlot     Merlot   \n\n                    winery    critic  index_backwards  pp_ratios  \n913     Gotsa Family Wines  everyone           129058    2.90000  \n3131     Barton & Guestier  everyone           126840        NaN  \n...                    ...       ...              ...        ...  \n129590           Büyülübağ  everyone              381    3.00000  \n129900              Psagot  everyone               71    2.84375  \n\n[63 rows x 16 columns]"
     },
     "execution_count": 66,
     "metadata": {},
     "output_type": "execute_result"
    }
   ],
   "source": [
    "# use pd.isnull() and pd.notnull() to work with NaN data\r\n",
    "wine_reviews[pd.isnull(wine_reviews.country)]"
   ]
  },
  {
   "cell_type": "code",
   "execution_count": 67,
   "metadata": {},
   "outputs": [
    {
     "data": {
      "text/plain": "0         Unknown\n1         Unknown\n           ...   \n129969    Unknown\n129970    Unknown\nName: region_2, Length: 129971, dtype: object"
     },
     "execution_count": 67,
     "metadata": {},
     "output_type": "execute_result"
    }
   ],
   "source": [
    "# replacing missing values using `fillna()`\r\n",
    "wine_reviews['region_2'].fillna('Unknown')"
   ]
  },
  {
   "cell_type": "code",
   "execution_count": 68,
   "metadata": {},
   "outputs": [
    {
     "data": {
      "text/plain": "0            @kerino\n1         @vossroger\n             ...    \n129969    @vossroger\n129970    @vossroger\nName: taster_twitter_handle, Length: 129971, dtype: object"
     },
     "execution_count": 68,
     "metadata": {},
     "output_type": "execute_result"
    }
   ],
   "source": [
    "# replacing non-null value using `replace()`\r\n",
    "wine_reviews.taster_twitter_handle.replace('@kerinokeefe','@kerino')"
   ]
  },
  {
   "cell_type": "markdown",
   "metadata": {},
   "source": [
    "#### Exercise"
   ]
  },
  {
   "cell_type": "markdown",
   "metadata": {},
   "source": [
    "1. Sometimes the price column is null. How many reviews in the dataset are missing a price?"
   ]
  },
  {
   "cell_type": "code",
   "execution_count": 69,
   "metadata": {},
   "outputs": [],
   "source": [
    "# solution 1:\r\n",
    "missing_price_reviews = wine_reviews[wine_reviews.price.isnull()]\r\n",
    "n_missing_prices = len(missing_price_reviews)\r\n",
    "# solution 2:\r\n",
    "n_missing_prices = wine_reviews.price.isnull().sum()\r\n",
    "# or equivalently:\r\n",
    "n_missing_prices = pd.isnull(wine_reviews.price).sum()"
   ]
  },
  {
   "cell_type": "markdown",
   "metadata": {},
   "source": [
    "## Renaming and Combining"
   ]
  },
  {
   "cell_type": "markdown",
   "metadata": {},
   "source": [
    "### Renaming\r\n",
    "\r\n",
    "`rename()` lets you rename index or column values by specifying a index or column keyword parameter, respectively."
   ]
  },
  {
   "cell_type": "code",
   "execution_count": 70,
   "metadata": {},
   "outputs": [
    {
     "data": {
      "text/html": "<div>\n<style scoped>\n    .dataframe tbody tr th:only-of-type {\n        vertical-align: middle;\n    }\n\n    .dataframe tbody tr th {\n        vertical-align: top;\n    }\n\n    .dataframe thead th {\n        text-align: right;\n    }\n</style>\n<table border=\"1\" class=\"dataframe\">\n  <thead>\n    <tr style=\"text-align: right;\">\n      <th></th>\n      <th>country</th>\n      <th>description</th>\n      <th>designation</th>\n      <th>score</th>\n      <th>price</th>\n      <th>province</th>\n      <th>region_1</th>\n      <th>region_2</th>\n      <th>taster_name</th>\n      <th>taster_twitter_handle</th>\n      <th>title</th>\n      <th>variety</th>\n      <th>winery</th>\n      <th>critic</th>\n      <th>index_backwards</th>\n      <th>pp_ratios</th>\n    </tr>\n  </thead>\n  <tbody>\n    <tr>\n      <th>0</th>\n      <td>Italy</td>\n      <td>Aromas include tropical fruit, broom, brimston...</td>\n      <td>Vulkà Bianco</td>\n      <td>87</td>\n      <td>NaN</td>\n      <td>Sicily &amp; Sardinia</td>\n      <td>Etna</td>\n      <td>NaN</td>\n      <td>Kerin O’Keefe</td>\n      <td>@kerinokeefe</td>\n      <td>Nicosia 2013 Vulkà Bianco  (Etna)</td>\n      <td>White Blend</td>\n      <td>Nicosia</td>\n      <td>everyone</td>\n      <td>129971</td>\n      <td>NaN</td>\n    </tr>\n    <tr>\n      <th>1</th>\n      <td>Portugal</td>\n      <td>This is ripe and fruity, a wine that is smooth...</td>\n      <td>Avidagos</td>\n      <td>87</td>\n      <td>15.0</td>\n      <td>Douro</td>\n      <td>NaN</td>\n      <td>NaN</td>\n      <td>Roger Voss</td>\n      <td>@vossroger</td>\n      <td>Quinta dos Avidagos 2011 Avidagos Red (Douro)</td>\n      <td>Portuguese Red</td>\n      <td>Quinta dos Avidagos</td>\n      <td>everyone</td>\n      <td>129970</td>\n      <td>5.800000</td>\n    </tr>\n    <tr>\n      <th>...</th>\n      <td>...</td>\n      <td>...</td>\n      <td>...</td>\n      <td>...</td>\n      <td>...</td>\n      <td>...</td>\n      <td>...</td>\n      <td>...</td>\n      <td>...</td>\n      <td>...</td>\n      <td>...</td>\n      <td>...</td>\n      <td>...</td>\n      <td>...</td>\n      <td>...</td>\n      <td>...</td>\n    </tr>\n    <tr>\n      <th>129969</th>\n      <td>France</td>\n      <td>A dry style of Pinot Gris, this is crisp with ...</td>\n      <td>NaN</td>\n      <td>90</td>\n      <td>32.0</td>\n      <td>Alsace</td>\n      <td>Alsace</td>\n      <td>NaN</td>\n      <td>Roger Voss</td>\n      <td>@vossroger</td>\n      <td>Domaine Marcel Deiss 2012 Pinot Gris (Alsace)</td>\n      <td>Pinot Gris</td>\n      <td>Domaine Marcel Deiss</td>\n      <td>everyone</td>\n      <td>2</td>\n      <td>2.812500</td>\n    </tr>\n    <tr>\n      <th>129970</th>\n      <td>France</td>\n      <td>Big, rich and off-dry, this is powered by inte...</td>\n      <td>Lieu-dit Harth Cuvée Caroline</td>\n      <td>90</td>\n      <td>21.0</td>\n      <td>Alsace</td>\n      <td>Alsace</td>\n      <td>NaN</td>\n      <td>Roger Voss</td>\n      <td>@vossroger</td>\n      <td>Domaine Schoffit 2012 Lieu-dit Harth Cuvée Car...</td>\n      <td>Gewürztraminer</td>\n      <td>Domaine Schoffit</td>\n      <td>everyone</td>\n      <td>1</td>\n      <td>4.285714</td>\n    </tr>\n  </tbody>\n</table>\n<p>129971 rows × 16 columns</p>\n</div>",
      "text/plain": "         country                                        description  \\\n0          Italy  Aromas include tropical fruit, broom, brimston...   \n1       Portugal  This is ripe and fruity, a wine that is smooth...   \n...          ...                                                ...   \n129969    France  A dry style of Pinot Gris, this is crisp with ...   \n129970    France  Big, rich and off-dry, this is powered by inte...   \n\n                          designation  score  price           province  \\\n0                        Vulkà Bianco     87    NaN  Sicily & Sardinia   \n1                            Avidagos     87   15.0              Douro   \n...                               ...    ...    ...                ...   \n129969                            NaN     90   32.0             Alsace   \n129970  Lieu-dit Harth Cuvée Caroline     90   21.0             Alsace   \n\n       region_1 region_2    taster_name taster_twitter_handle  \\\n0          Etna      NaN  Kerin O’Keefe          @kerinokeefe   \n1           NaN      NaN     Roger Voss            @vossroger   \n...         ...      ...            ...                   ...   \n129969   Alsace      NaN     Roger Voss            @vossroger   \n129970   Alsace      NaN     Roger Voss            @vossroger   \n\n                                                    title         variety  \\\n0                       Nicosia 2013 Vulkà Bianco  (Etna)     White Blend   \n1           Quinta dos Avidagos 2011 Avidagos Red (Douro)  Portuguese Red   \n...                                                   ...             ...   \n129969      Domaine Marcel Deiss 2012 Pinot Gris (Alsace)      Pinot Gris   \n129970  Domaine Schoffit 2012 Lieu-dit Harth Cuvée Car...  Gewürztraminer   \n\n                      winery    critic  index_backwards  pp_ratios  \n0                    Nicosia  everyone           129971        NaN  \n1        Quinta dos Avidagos  everyone           129970   5.800000  \n...                      ...       ...              ...        ...  \n129969  Domaine Marcel Deiss  everyone                2   2.812500  \n129970      Domaine Schoffit  everyone                1   4.285714  \n\n[129971 rows x 16 columns]"
     },
     "execution_count": 70,
     "metadata": {},
     "output_type": "execute_result"
    }
   ],
   "source": [
    "wine_reviews.rename(columns = {'points':'score'})"
   ]
  },
  {
   "cell_type": "code",
   "execution_count": 71,
   "metadata": {},
   "outputs": [
    {
     "data": {
      "text/html": "<div>\n<style scoped>\n    .dataframe tbody tr th:only-of-type {\n        vertical-align: middle;\n    }\n\n    .dataframe tbody tr th {\n        vertical-align: top;\n    }\n\n    .dataframe thead th {\n        text-align: right;\n    }\n</style>\n<table border=\"1\" class=\"dataframe\">\n  <thead>\n    <tr style=\"text-align: right;\">\n      <th></th>\n      <th>country</th>\n      <th>description</th>\n      <th>designation</th>\n      <th>points</th>\n      <th>price</th>\n      <th>province</th>\n      <th>region_1</th>\n      <th>region_2</th>\n      <th>taster_name</th>\n      <th>taster_twitter_handle</th>\n      <th>title</th>\n      <th>variety</th>\n      <th>winery</th>\n      <th>critic</th>\n      <th>index_backwards</th>\n      <th>pp_ratios</th>\n    </tr>\n  </thead>\n  <tbody>\n    <tr>\n      <th>firstEntry</th>\n      <td>Italy</td>\n      <td>Aromas include tropical fruit, broom, brimston...</td>\n      <td>Vulkà Bianco</td>\n      <td>87</td>\n      <td>NaN</td>\n      <td>Sicily &amp; Sardinia</td>\n      <td>Etna</td>\n      <td>NaN</td>\n      <td>Kerin O’Keefe</td>\n      <td>@kerinokeefe</td>\n      <td>Nicosia 2013 Vulkà Bianco  (Etna)</td>\n      <td>White Blend</td>\n      <td>Nicosia</td>\n      <td>everyone</td>\n      <td>129971</td>\n      <td>NaN</td>\n    </tr>\n    <tr>\n      <th>secondEntry</th>\n      <td>Portugal</td>\n      <td>This is ripe and fruity, a wine that is smooth...</td>\n      <td>Avidagos</td>\n      <td>87</td>\n      <td>15.0</td>\n      <td>Douro</td>\n      <td>NaN</td>\n      <td>NaN</td>\n      <td>Roger Voss</td>\n      <td>@vossroger</td>\n      <td>Quinta dos Avidagos 2011 Avidagos Red (Douro)</td>\n      <td>Portuguese Red</td>\n      <td>Quinta dos Avidagos</td>\n      <td>everyone</td>\n      <td>129970</td>\n      <td>5.800000</td>\n    </tr>\n    <tr>\n      <th>...</th>\n      <td>...</td>\n      <td>...</td>\n      <td>...</td>\n      <td>...</td>\n      <td>...</td>\n      <td>...</td>\n      <td>...</td>\n      <td>...</td>\n      <td>...</td>\n      <td>...</td>\n      <td>...</td>\n      <td>...</td>\n      <td>...</td>\n      <td>...</td>\n      <td>...</td>\n      <td>...</td>\n    </tr>\n    <tr>\n      <th>129969</th>\n      <td>France</td>\n      <td>A dry style of Pinot Gris, this is crisp with ...</td>\n      <td>NaN</td>\n      <td>90</td>\n      <td>32.0</td>\n      <td>Alsace</td>\n      <td>Alsace</td>\n      <td>NaN</td>\n      <td>Roger Voss</td>\n      <td>@vossroger</td>\n      <td>Domaine Marcel Deiss 2012 Pinot Gris (Alsace)</td>\n      <td>Pinot Gris</td>\n      <td>Domaine Marcel Deiss</td>\n      <td>everyone</td>\n      <td>2</td>\n      <td>2.812500</td>\n    </tr>\n    <tr>\n      <th>129970</th>\n      <td>France</td>\n      <td>Big, rich and off-dry, this is powered by inte...</td>\n      <td>Lieu-dit Harth Cuvée Caroline</td>\n      <td>90</td>\n      <td>21.0</td>\n      <td>Alsace</td>\n      <td>Alsace</td>\n      <td>NaN</td>\n      <td>Roger Voss</td>\n      <td>@vossroger</td>\n      <td>Domaine Schoffit 2012 Lieu-dit Harth Cuvée Car...</td>\n      <td>Gewürztraminer</td>\n      <td>Domaine Schoffit</td>\n      <td>everyone</td>\n      <td>1</td>\n      <td>4.285714</td>\n    </tr>\n  </tbody>\n</table>\n<p>129971 rows × 16 columns</p>\n</div>",
      "text/plain": "              country                                        description  \\\nfirstEntry      Italy  Aromas include tropical fruit, broom, brimston...   \nsecondEntry  Portugal  This is ripe and fruity, a wine that is smooth...   \n...               ...                                                ...   \n129969         France  A dry style of Pinot Gris, this is crisp with ...   \n129970         France  Big, rich and off-dry, this is powered by inte...   \n\n                               designation  points  price           province  \\\nfirstEntry                    Vulkà Bianco      87    NaN  Sicily & Sardinia   \nsecondEntry                       Avidagos      87   15.0              Douro   \n...                                    ...     ...    ...                ...   \n129969                                 NaN      90   32.0             Alsace   \n129970       Lieu-dit Harth Cuvée Caroline      90   21.0             Alsace   \n\n            region_1 region_2    taster_name taster_twitter_handle  \\\nfirstEntry      Etna      NaN  Kerin O’Keefe          @kerinokeefe   \nsecondEntry      NaN      NaN     Roger Voss            @vossroger   \n...              ...      ...            ...                   ...   \n129969        Alsace      NaN     Roger Voss            @vossroger   \n129970        Alsace      NaN     Roger Voss            @vossroger   \n\n                                                         title  \\\nfirstEntry                   Nicosia 2013 Vulkà Bianco  (Etna)   \nsecondEntry      Quinta dos Avidagos 2011 Avidagos Red (Douro)   \n...                                                        ...   \n129969           Domaine Marcel Deiss 2012 Pinot Gris (Alsace)   \n129970       Domaine Schoffit 2012 Lieu-dit Harth Cuvée Car...   \n\n                    variety                winery    critic  index_backwards  \\\nfirstEntry      White Blend               Nicosia  everyone           129971   \nsecondEntry  Portuguese Red   Quinta dos Avidagos  everyone           129970   \n...                     ...                   ...       ...              ...   \n129969           Pinot Gris  Domaine Marcel Deiss  everyone                2   \n129970       Gewürztraminer      Domaine Schoffit  everyone                1   \n\n             pp_ratios  \nfirstEntry         NaN  \nsecondEntry   5.800000  \n...                ...  \n129969        2.812500  \n129970        4.285714  \n\n[129971 rows x 16 columns]"
     },
     "execution_count": 71,
     "metadata": {},
     "output_type": "execute_result"
    }
   ],
   "source": [
    "# rename line index\r\n",
    "wine_reviews.rename(index = {0:'firstEntry', 1:'secondEntry'})\r\n",
    "## note: rename index is rarely, `set_index()` is usually more convenient"
   ]
  },
  {
   "cell_type": "markdown",
   "metadata": {},
   "source": [
    "You'll probably rename columns very often, but rename index values very rarely. For that, set_index() is usually more convenient.\r\n",
    "\r\n",
    "Both the row index and the column index can have their own name attribute. The complimentary rename_axis() method may be used to change these names."
   ]
  },
  {
   "cell_type": "code",
   "execution_count": 72,
   "metadata": {},
   "outputs": [
    {
     "data": {
      "text/html": "<div>\n<style scoped>\n    .dataframe tbody tr th:only-of-type {\n        vertical-align: middle;\n    }\n\n    .dataframe tbody tr th {\n        vertical-align: top;\n    }\n\n    .dataframe thead th {\n        text-align: right;\n    }\n</style>\n<table border=\"1\" class=\"dataframe\">\n  <thead>\n    <tr style=\"text-align: right;\">\n      <th>fields</th>\n      <th>country</th>\n      <th>description</th>\n      <th>designation</th>\n      <th>points</th>\n      <th>price</th>\n      <th>province</th>\n      <th>region_1</th>\n      <th>region_2</th>\n      <th>taster_name</th>\n      <th>taster_twitter_handle</th>\n      <th>title</th>\n      <th>variety</th>\n      <th>winery</th>\n      <th>critic</th>\n      <th>index_backwards</th>\n      <th>pp_ratios</th>\n    </tr>\n    <tr>\n      <th>wines</th>\n      <th></th>\n      <th></th>\n      <th></th>\n      <th></th>\n      <th></th>\n      <th></th>\n      <th></th>\n      <th></th>\n      <th></th>\n      <th></th>\n      <th></th>\n      <th></th>\n      <th></th>\n      <th></th>\n      <th></th>\n      <th></th>\n    </tr>\n  </thead>\n  <tbody>\n    <tr>\n      <th>0</th>\n      <td>Italy</td>\n      <td>Aromas include tropical fruit, broom, brimston...</td>\n      <td>Vulkà Bianco</td>\n      <td>87</td>\n      <td>NaN</td>\n      <td>Sicily &amp; Sardinia</td>\n      <td>Etna</td>\n      <td>NaN</td>\n      <td>Kerin O’Keefe</td>\n      <td>@kerinokeefe</td>\n      <td>Nicosia 2013 Vulkà Bianco  (Etna)</td>\n      <td>White Blend</td>\n      <td>Nicosia</td>\n      <td>everyone</td>\n      <td>129971</td>\n      <td>NaN</td>\n    </tr>\n    <tr>\n      <th>1</th>\n      <td>Portugal</td>\n      <td>This is ripe and fruity, a wine that is smooth...</td>\n      <td>Avidagos</td>\n      <td>87</td>\n      <td>15.0</td>\n      <td>Douro</td>\n      <td>NaN</td>\n      <td>NaN</td>\n      <td>Roger Voss</td>\n      <td>@vossroger</td>\n      <td>Quinta dos Avidagos 2011 Avidagos Red (Douro)</td>\n      <td>Portuguese Red</td>\n      <td>Quinta dos Avidagos</td>\n      <td>everyone</td>\n      <td>129970</td>\n      <td>5.800000</td>\n    </tr>\n    <tr>\n      <th>...</th>\n      <td>...</td>\n      <td>...</td>\n      <td>...</td>\n      <td>...</td>\n      <td>...</td>\n      <td>...</td>\n      <td>...</td>\n      <td>...</td>\n      <td>...</td>\n      <td>...</td>\n      <td>...</td>\n      <td>...</td>\n      <td>...</td>\n      <td>...</td>\n      <td>...</td>\n      <td>...</td>\n    </tr>\n    <tr>\n      <th>129969</th>\n      <td>France</td>\n      <td>A dry style of Pinot Gris, this is crisp with ...</td>\n      <td>NaN</td>\n      <td>90</td>\n      <td>32.0</td>\n      <td>Alsace</td>\n      <td>Alsace</td>\n      <td>NaN</td>\n      <td>Roger Voss</td>\n      <td>@vossroger</td>\n      <td>Domaine Marcel Deiss 2012 Pinot Gris (Alsace)</td>\n      <td>Pinot Gris</td>\n      <td>Domaine Marcel Deiss</td>\n      <td>everyone</td>\n      <td>2</td>\n      <td>2.812500</td>\n    </tr>\n    <tr>\n      <th>129970</th>\n      <td>France</td>\n      <td>Big, rich and off-dry, this is powered by inte...</td>\n      <td>Lieu-dit Harth Cuvée Caroline</td>\n      <td>90</td>\n      <td>21.0</td>\n      <td>Alsace</td>\n      <td>Alsace</td>\n      <td>NaN</td>\n      <td>Roger Voss</td>\n      <td>@vossroger</td>\n      <td>Domaine Schoffit 2012 Lieu-dit Harth Cuvée Car...</td>\n      <td>Gewürztraminer</td>\n      <td>Domaine Schoffit</td>\n      <td>everyone</td>\n      <td>1</td>\n      <td>4.285714</td>\n    </tr>\n  </tbody>\n</table>\n<p>129971 rows × 16 columns</p>\n</div>",
      "text/plain": "fields   country                                        description  \\\nwines                                                                 \n0          Italy  Aromas include tropical fruit, broom, brimston...   \n1       Portugal  This is ripe and fruity, a wine that is smooth...   \n...          ...                                                ...   \n129969    France  A dry style of Pinot Gris, this is crisp with ...   \n129970    France  Big, rich and off-dry, this is powered by inte...   \n\nfields                    designation  points  price           province  \\\nwines                                                                     \n0                        Vulkà Bianco      87    NaN  Sicily & Sardinia   \n1                            Avidagos      87   15.0              Douro   \n...                               ...     ...    ...                ...   \n129969                            NaN      90   32.0             Alsace   \n129970  Lieu-dit Harth Cuvée Caroline      90   21.0             Alsace   \n\nfields region_1 region_2    taster_name taster_twitter_handle  \\\nwines                                                           \n0          Etna      NaN  Kerin O’Keefe          @kerinokeefe   \n1           NaN      NaN     Roger Voss            @vossroger   \n...         ...      ...            ...                   ...   \n129969   Alsace      NaN     Roger Voss            @vossroger   \n129970   Alsace      NaN     Roger Voss            @vossroger   \n\nfields                                              title         variety  \\\nwines                                                                       \n0                       Nicosia 2013 Vulkà Bianco  (Etna)     White Blend   \n1           Quinta dos Avidagos 2011 Avidagos Red (Douro)  Portuguese Red   \n...                                                   ...             ...   \n129969      Domaine Marcel Deiss 2012 Pinot Gris (Alsace)      Pinot Gris   \n129970  Domaine Schoffit 2012 Lieu-dit Harth Cuvée Car...  Gewürztraminer   \n\nfields                winery    critic  index_backwards  pp_ratios  \nwines                                                               \n0                    Nicosia  everyone           129971        NaN  \n1        Quinta dos Avidagos  everyone           129970   5.800000  \n...                      ...       ...              ...        ...  \n129969  Domaine Marcel Deiss  everyone                2   2.812500  \n129970      Domaine Schoffit  everyone                1   4.285714  \n\n[129971 rows x 16 columns]"
     },
     "execution_count": 72,
     "metadata": {},
     "output_type": "execute_result"
    }
   ],
   "source": [
    "wine_reviews.rename_axis('wines', axis= 'rows').rename_axis('fields', axis='columns')"
   ]
  },
  {
   "cell_type": "markdown",
   "metadata": {},
   "source": [
    "### Combining"
   ]
  },
  {
   "cell_type": "markdown",
   "metadata": {},
   "source": [
    "Pandas has three core methods for combining: \r\n",
    "- `concat()`: concat DataFrame horizontally\r\n",
    "- `join()`: join data vertically\r\n",
    "- `merge()`: can be done by `join`, omitted."
   ]
  },
  {
   "cell_type": "code",
   "execution_count": 74,
   "metadata": {},
   "outputs": [
    {
     "name": "stdout",
     "output_type": "stream",
     "text": [
      "(79797, 16)\n"
     ]
    }
   ],
   "source": [
    "# concat() \r\n",
    "canadian_youtube = pd.read_csv(\"./data/youtube-data/CAvideos.csv\")\r\n",
    "british_youtube = pd.read_csv(\"./data/youtube-data/GBvideos.csv\")\r\n",
    "\r\n",
    "comb_youtube = pd.concat([canadian_youtube,british_youtube])\r\n",
    "print(comb_youtube.shape)"
   ]
  },
  {
   "cell_type": "code",
   "execution_count": 75,
   "metadata": {},
   "outputs": [
    {
     "data": {
      "text/html": "<div>\n<style scoped>\n    .dataframe tbody tr th:only-of-type {\n        vertical-align: middle;\n    }\n\n    .dataframe tbody tr th {\n        vertical-align: top;\n    }\n\n    .dataframe thead th {\n        text-align: right;\n    }\n</style>\n<table border=\"1\" class=\"dataframe\">\n  <thead>\n    <tr style=\"text-align: right;\">\n      <th></th>\n      <th></th>\n      <th>video_id_CAN</th>\n      <th>channel_title_CAN</th>\n      <th>category_id_CAN</th>\n      <th>publish_time_CAN</th>\n      <th>tags_CAN</th>\n      <th>views_CAN</th>\n      <th>likes_CAN</th>\n      <th>dislikes_CAN</th>\n      <th>comment_count_CAN</th>\n      <th>thumbnail_link_CAN</th>\n      <th>...</th>\n      <th>tags_UK</th>\n      <th>views_UK</th>\n      <th>likes_UK</th>\n      <th>dislikes_UK</th>\n      <th>comment_count_UK</th>\n      <th>thumbnail_link_UK</th>\n      <th>comments_disabled_UK</th>\n      <th>ratings_disabled_UK</th>\n      <th>video_error_or_removed_UK</th>\n      <th>description_UK</th>\n    </tr>\n    <tr>\n      <th>title</th>\n      <th>trending_date</th>\n      <th></th>\n      <th></th>\n      <th></th>\n      <th></th>\n      <th></th>\n      <th></th>\n      <th></th>\n      <th></th>\n      <th></th>\n      <th></th>\n      <th></th>\n      <th></th>\n      <th></th>\n      <th></th>\n      <th></th>\n      <th></th>\n      <th></th>\n      <th></th>\n      <th></th>\n      <th></th>\n      <th></th>\n    </tr>\n  </thead>\n  <tbody>\n    <tr>\n      <th>!! THIS VIDEO IS NOTHING BUT PAIN !! | Getting Over It - Part 7</th>\n      <th>18.04.01</th>\n      <td>PNn8sECd7io</td>\n      <td>Markiplier</td>\n      <td>20</td>\n      <td>2018-01-03T19:33:53.000Z</td>\n      <td>getting over it|\"markiplier\"|\"funny moments\"|\"...</td>\n      <td>835930</td>\n      <td>47058</td>\n      <td>1023</td>\n      <td>8250</td>\n      <td>https://i.ytimg.com/vi/PNn8sECd7io/default.jpg</td>\n      <td>...</td>\n      <td>NaN</td>\n      <td>NaN</td>\n      <td>NaN</td>\n      <td>NaN</td>\n      <td>NaN</td>\n      <td>NaN</td>\n      <td>NaN</td>\n      <td>NaN</td>\n      <td>NaN</td>\n      <td>NaN</td>\n    </tr>\n    <tr>\n      <th>#1 Fortnite World Rank - 2,323 Solo Wins!</th>\n      <th>18.09.03</th>\n      <td>DvPW66IFhMI</td>\n      <td>AlexRamiGaming</td>\n      <td>20</td>\n      <td>2018-03-09T07:15:52.000Z</td>\n      <td>PS4 Battle Royale|\"PS4 Pro Battle Royale\"|\"Bat...</td>\n      <td>212838</td>\n      <td>5199</td>\n      <td>542</td>\n      <td>11</td>\n      <td>https://i.ytimg.com/vi/DvPW66IFhMI/default.jpg</td>\n      <td>...</td>\n      <td>NaN</td>\n      <td>NaN</td>\n      <td>NaN</td>\n      <td>NaN</td>\n      <td>NaN</td>\n      <td>NaN</td>\n      <td>NaN</td>\n      <td>NaN</td>\n      <td>NaN</td>\n      <td>NaN</td>\n    </tr>\n    <tr>\n      <th>...</th>\n      <th>...</th>\n      <td>...</td>\n      <td>...</td>\n      <td>...</td>\n      <td>...</td>\n      <td>...</td>\n      <td>...</td>\n      <td>...</td>\n      <td>...</td>\n      <td>...</td>\n      <td>...</td>\n      <td>...</td>\n      <td>...</td>\n      <td>...</td>\n      <td>...</td>\n      <td>...</td>\n      <td>...</td>\n      <td>...</td>\n      <td>...</td>\n      <td>...</td>\n      <td>...</td>\n      <td>...</td>\n    </tr>\n    <tr>\n      <th>🚨 BREAKING NEWS 🔴 Raja Live all Slot Channels Welcome 🎰</th>\n      <th>18.07.05</th>\n      <td>Wt9Gkpmbt44</td>\n      <td>TheBigJackpot</td>\n      <td>24</td>\n      <td>2018-05-07T06:58:59.000Z</td>\n      <td>Slot Machine|\"win\"|\"Gambling\"|\"Big Win\"|\"raja\"...</td>\n      <td>28973</td>\n      <td>2167</td>\n      <td>175</td>\n      <td>10</td>\n      <td>https://i.ytimg.com/vi/Wt9Gkpmbt44/default.jpg</td>\n      <td>...</td>\n      <td>NaN</td>\n      <td>NaN</td>\n      <td>NaN</td>\n      <td>NaN</td>\n      <td>NaN</td>\n      <td>NaN</td>\n      <td>NaN</td>\n      <td>NaN</td>\n      <td>NaN</td>\n      <td>NaN</td>\n    </tr>\n    <tr>\n      <th>🚨Active Shooter at YouTube Headquarters - LIVE BREAKING NEWS COVERAGE</th>\n      <th>18.04.04</th>\n      <td>Az72jrKbANA</td>\n      <td>Right Side Broadcasting Network</td>\n      <td>25</td>\n      <td>2018-04-03T23:12:37.000Z</td>\n      <td>YouTube shooter|\"YouTube active shooter\"|\"acti...</td>\n      <td>103513</td>\n      <td>1722</td>\n      <td>181</td>\n      <td>76</td>\n      <td>https://i.ytimg.com/vi/Az72jrKbANA/default.jpg</td>\n      <td>...</td>\n      <td>NaN</td>\n      <td>NaN</td>\n      <td>NaN</td>\n      <td>NaN</td>\n      <td>NaN</td>\n      <td>NaN</td>\n      <td>NaN</td>\n      <td>NaN</td>\n      <td>NaN</td>\n      <td>NaN</td>\n    </tr>\n  </tbody>\n</table>\n<p>40900 rows × 28 columns</p>\n</div>",
      "text/plain": "                                                                 video_id_CAN  \\\ntitle                                              trending_date                \n!! THIS VIDEO IS NOTHING BUT PAIN !! | Getting ... 18.04.01       PNn8sECd7io   \n#1 Fortnite World Rank - 2,323 Solo Wins!          18.09.03       DvPW66IFhMI   \n...                                                                       ...   \n🚨 BREAKING NEWS 🔴 Raja Live all Slot Channels W... 18.07.05       Wt9Gkpmbt44   \n🚨Active Shooter at YouTube Headquarters - LIVE ... 18.04.04       Az72jrKbANA   \n\n                                                                                channel_title_CAN  \\\ntitle                                              trending_date                                    \n!! THIS VIDEO IS NOTHING BUT PAIN !! | Getting ... 18.04.01                            Markiplier   \n#1 Fortnite World Rank - 2,323 Solo Wins!          18.09.03                        AlexRamiGaming   \n...                                                                                           ...   \n🚨 BREAKING NEWS 🔴 Raja Live all Slot Channels W... 18.07.05                         TheBigJackpot   \n🚨Active Shooter at YouTube Headquarters - LIVE ... 18.04.04       Right Side Broadcasting Network   \n\n                                                                  category_id_CAN  \\\ntitle                                              trending_date                    \n!! THIS VIDEO IS NOTHING BUT PAIN !! | Getting ... 18.04.01                    20   \n#1 Fortnite World Rank - 2,323 Solo Wins!          18.09.03                    20   \n...                                                                           ...   \n🚨 BREAKING NEWS 🔴 Raja Live all Slot Channels W... 18.07.05                    24   \n🚨Active Shooter at YouTube Headquarters - LIVE ... 18.04.04                    25   \n\n                                                                          publish_time_CAN  \\\ntitle                                              trending_date                             \n!! THIS VIDEO IS NOTHING BUT PAIN !! | Getting ... 18.04.01       2018-01-03T19:33:53.000Z   \n#1 Fortnite World Rank - 2,323 Solo Wins!          18.09.03       2018-03-09T07:15:52.000Z   \n...                                                                                    ...   \n🚨 BREAKING NEWS 🔴 Raja Live all Slot Channels W... 18.07.05       2018-05-07T06:58:59.000Z   \n🚨Active Shooter at YouTube Headquarters - LIVE ... 18.04.04       2018-04-03T23:12:37.000Z   \n\n                                                                                                           tags_CAN  \\\ntitle                                              trending_date                                                      \n!! THIS VIDEO IS NOTHING BUT PAIN !! | Getting ... 18.04.01       getting over it|\"markiplier\"|\"funny moments\"|\"...   \n#1 Fortnite World Rank - 2,323 Solo Wins!          18.09.03       PS4 Battle Royale|\"PS4 Pro Battle Royale\"|\"Bat...   \n...                                                                                                             ...   \n🚨 BREAKING NEWS 🔴 Raja Live all Slot Channels W... 18.07.05       Slot Machine|\"win\"|\"Gambling\"|\"Big Win\"|\"raja\"...   \n🚨Active Shooter at YouTube Headquarters - LIVE ... 18.04.04       YouTube shooter|\"YouTube active shooter\"|\"acti...   \n\n                                                                  views_CAN  \\\ntitle                                              trending_date              \n!! THIS VIDEO IS NOTHING BUT PAIN !! | Getting ... 18.04.01          835930   \n#1 Fortnite World Rank - 2,323 Solo Wins!          18.09.03          212838   \n...                                                                     ...   \n🚨 BREAKING NEWS 🔴 Raja Live all Slot Channels W... 18.07.05           28973   \n🚨Active Shooter at YouTube Headquarters - LIVE ... 18.04.04          103513   \n\n                                                                  likes_CAN  \\\ntitle                                              trending_date              \n!! THIS VIDEO IS NOTHING BUT PAIN !! | Getting ... 18.04.01           47058   \n#1 Fortnite World Rank - 2,323 Solo Wins!          18.09.03            5199   \n...                                                                     ...   \n🚨 BREAKING NEWS 🔴 Raja Live all Slot Channels W... 18.07.05            2167   \n🚨Active Shooter at YouTube Headquarters - LIVE ... 18.04.04            1722   \n\n                                                                  dislikes_CAN  \\\ntitle                                              trending_date                 \n!! THIS VIDEO IS NOTHING BUT PAIN !! | Getting ... 18.04.01               1023   \n#1 Fortnite World Rank - 2,323 Solo Wins!          18.09.03                542   \n...                                                                        ...   \n🚨 BREAKING NEWS 🔴 Raja Live all Slot Channels W... 18.07.05                175   \n🚨Active Shooter at YouTube Headquarters - LIVE ... 18.04.04                181   \n\n                                                                  comment_count_CAN  \\\ntitle                                              trending_date                      \n!! THIS VIDEO IS NOTHING BUT PAIN !! | Getting ... 18.04.01                    8250   \n#1 Fortnite World Rank - 2,323 Solo Wins!          18.09.03                      11   \n...                                                                             ...   \n🚨 BREAKING NEWS 🔴 Raja Live all Slot Channels W... 18.07.05                      10   \n🚨Active Shooter at YouTube Headquarters - LIVE ... 18.04.04                      76   \n\n                                                                                              thumbnail_link_CAN  \\\ntitle                                              trending_date                                                   \n!! THIS VIDEO IS NOTHING BUT PAIN !! | Getting ... 18.04.01       https://i.ytimg.com/vi/PNn8sECd7io/default.jpg   \n#1 Fortnite World Rank - 2,323 Solo Wins!          18.09.03       https://i.ytimg.com/vi/DvPW66IFhMI/default.jpg   \n...                                                                                                          ...   \n🚨 BREAKING NEWS 🔴 Raja Live all Slot Channels W... 18.07.05       https://i.ytimg.com/vi/Wt9Gkpmbt44/default.jpg   \n🚨Active Shooter at YouTube Headquarters - LIVE ... 18.04.04       https://i.ytimg.com/vi/Az72jrKbANA/default.jpg   \n\n                                                                  ...  \\\ntitle                                              trending_date  ...   \n!! THIS VIDEO IS NOTHING BUT PAIN !! | Getting ... 18.04.01       ...   \n#1 Fortnite World Rank - 2,323 Solo Wins!          18.09.03       ...   \n...                                                               ...   \n🚨 BREAKING NEWS 🔴 Raja Live all Slot Channels W... 18.07.05       ...   \n🚨Active Shooter at YouTube Headquarters - LIVE ... 18.04.04       ...   \n\n                                                                  tags_UK  \\\ntitle                                              trending_date            \n!! THIS VIDEO IS NOTHING BUT PAIN !! | Getting ... 18.04.01           NaN   \n#1 Fortnite World Rank - 2,323 Solo Wins!          18.09.03           NaN   \n...                                                                   ...   \n🚨 BREAKING NEWS 🔴 Raja Live all Slot Channels W... 18.07.05           NaN   \n🚨Active Shooter at YouTube Headquarters - LIVE ... 18.04.04           NaN   \n\n                                                                  views_UK  \\\ntitle                                              trending_date             \n!! THIS VIDEO IS NOTHING BUT PAIN !! | Getting ... 18.04.01            NaN   \n#1 Fortnite World Rank - 2,323 Solo Wins!          18.09.03            NaN   \n...                                                                    ...   \n🚨 BREAKING NEWS 🔴 Raja Live all Slot Channels W... 18.07.05            NaN   \n🚨Active Shooter at YouTube Headquarters - LIVE ... 18.04.04            NaN   \n\n                                                                  likes_UK  \\\ntitle                                              trending_date             \n!! THIS VIDEO IS NOTHING BUT PAIN !! | Getting ... 18.04.01            NaN   \n#1 Fortnite World Rank - 2,323 Solo Wins!          18.09.03            NaN   \n...                                                                    ...   \n🚨 BREAKING NEWS 🔴 Raja Live all Slot Channels W... 18.07.05            NaN   \n🚨Active Shooter at YouTube Headquarters - LIVE ... 18.04.04            NaN   \n\n                                                                 dislikes_UK  \\\ntitle                                              trending_date               \n!! THIS VIDEO IS NOTHING BUT PAIN !! | Getting ... 18.04.01              NaN   \n#1 Fortnite World Rank - 2,323 Solo Wins!          18.09.03              NaN   \n...                                                                      ...   \n🚨 BREAKING NEWS 🔴 Raja Live all Slot Channels W... 18.07.05              NaN   \n🚨Active Shooter at YouTube Headquarters - LIVE ... 18.04.04              NaN   \n\n                                                                 comment_count_UK  \\\ntitle                                              trending_date                    \n!! THIS VIDEO IS NOTHING BUT PAIN !! | Getting ... 18.04.01                   NaN   \n#1 Fortnite World Rank - 2,323 Solo Wins!          18.09.03                   NaN   \n...                                                                           ...   \n🚨 BREAKING NEWS 🔴 Raja Live all Slot Channels W... 18.07.05                   NaN   \n🚨Active Shooter at YouTube Headquarters - LIVE ... 18.04.04                   NaN   \n\n                                                                 thumbnail_link_UK  \\\ntitle                                              trending_date                     \n!! THIS VIDEO IS NOTHING BUT PAIN !! | Getting ... 18.04.01                    NaN   \n#1 Fortnite World Rank - 2,323 Solo Wins!          18.09.03                    NaN   \n...                                                                            ...   \n🚨 BREAKING NEWS 🔴 Raja Live all Slot Channels W... 18.07.05                    NaN   \n🚨Active Shooter at YouTube Headquarters - LIVE ... 18.04.04                    NaN   \n\n                                                                  comments_disabled_UK  \\\ntitle                                              trending_date                         \n!! THIS VIDEO IS NOTHING BUT PAIN !! | Getting ... 18.04.01                        NaN   \n#1 Fortnite World Rank - 2,323 Solo Wins!          18.09.03                        NaN   \n...                                                                                ...   \n🚨 BREAKING NEWS 🔴 Raja Live all Slot Channels W... 18.07.05                        NaN   \n🚨Active Shooter at YouTube Headquarters - LIVE ... 18.04.04                        NaN   \n\n                                                                 ratings_disabled_UK  \\\ntitle                                              trending_date                       \n!! THIS VIDEO IS NOTHING BUT PAIN !! | Getting ... 18.04.01                      NaN   \n#1 Fortnite World Rank - 2,323 Solo Wins!          18.09.03                      NaN   \n...                                                                              ...   \n🚨 BREAKING NEWS 🔴 Raja Live all Slot Channels W... 18.07.05                      NaN   \n🚨Active Shooter at YouTube Headquarters - LIVE ... 18.04.04                      NaN   \n\n                                                                 video_error_or_removed_UK  \\\ntitle                                              trending_date                             \n!! THIS VIDEO IS NOTHING BUT PAIN !! | Getting ... 18.04.01                            NaN   \n#1 Fortnite World Rank - 2,323 Solo Wins!          18.09.03                            NaN   \n...                                                                                    ...   \n🚨 BREAKING NEWS 🔴 Raja Live all Slot Channels W... 18.07.05                            NaN   \n🚨Active Shooter at YouTube Headquarters - LIVE ... 18.04.04                            NaN   \n\n                                                                  description_UK  \ntitle                                              trending_date                  \n!! THIS VIDEO IS NOTHING BUT PAIN !! | Getting ... 18.04.01                  NaN  \n#1 Fortnite World Rank - 2,323 Solo Wins!          18.09.03                  NaN  \n...                                                                          ...  \n🚨 BREAKING NEWS 🔴 Raja Live all Slot Channels W... 18.07.05                  NaN  \n🚨Active Shooter at YouTube Headquarters - LIVE ... 18.04.04                  NaN  \n\n[40900 rows x 28 columns]"
     },
     "execution_count": 75,
     "metadata": {},
     "output_type": "execute_result"
    }
   ],
   "source": [
    "# join(): \r\n",
    "# Example: pull down videos that happened to be trending on the same day in both Canada and the UK\r\n",
    "\r\n",
    "# step 1: set join key column to index\r\n",
    "left = canadian_youtube.set_index(['title','trending_date'])\r\n",
    "right = british_youtube.set_index(['title','trending_date'])\r\n",
    "left.join(right, lsuffix='_CAN', rsuffix='_UK')"
   ]
  }
 ],
 "metadata": {
  "interpreter": {
   "hash": "c2bb4c3659b3800c6f5c337833d4b61a13da9254187e1e335ac6d827c94feba0"
  },
  "kernelspec": {
   "display_name": "Python 3.7.2 64-bit",
   "name": "python3"
  },
  "language_info": {
   "codemirror_mode": {
    "name": "ipython",
    "version": 3
   },
   "file_extension": ".py",
   "mimetype": "text/x-python",
   "name": "python",
   "nbconvert_exporter": "python",
   "pygments_lexer": "ipython3",
   "version": "3.7.2"
  },
  "orig_nbformat": 3
 },
 "nbformat": 4,
 "nbformat_minor": 2
}